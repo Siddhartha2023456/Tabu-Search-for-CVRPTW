{
 "cells": [
  {
   "cell_type": "code",
   "execution_count": 60,
   "id": "8adc32ac",
   "metadata": {},
   "outputs": [],
   "source": [
    "import gurobipy as gp\n",
    "from gurobipy import *\n",
    "import numpy as np\n",
    "import pandas as pd"
   ]
  },
  {
   "cell_type": "code",
   "execution_count": 61,
   "id": "50cceaf5",
   "metadata": {},
   "outputs": [],
   "source": [
    "bigM = 1000000"
   ]
  },
  {
   "cell_type": "code",
   "execution_count": 62,
   "id": "58e0d1e7",
   "metadata": {},
   "outputs": [],
   "source": [
    "# Load data\n",
    "locations_df = pd.read_csv(\"C:/Users/Acer/Documents/GitHub/Tabu-Search-for-CVRPTW/inputs/locations.csv\")\n",
    "order_list_df = pd.read_excel('C:/Users/Acer/Documents/GitHub/Tabu-Search-for-CVRPTW/inputs/order_list_1.xlsx')\n",
    "travel_matrix_df = pd.read_csv('C:/Users/Acer/Documents/GitHub/Tabu-Search-for-CVRPTW/inputs/travel_matrix.csv')\n",
    "trucks_df = pd.read_csv('C:/Users/Acer/Documents/GitHub/Tabu-Search-for-CVRPTW/inputs/trucks.csv')"
   ]
  },
  {
   "cell_type": "code",
   "execution_count": 63,
   "id": "e040d863",
   "metadata": {},
   "outputs": [],
   "source": [
    "Q = sorted(list(set(trucks_df['truck_max_weight'])))"
   ]
  },
  {
   "cell_type": "code",
   "execution_count": 64,
   "id": "eca8b9c0",
   "metadata": {},
   "outputs": [],
   "source": [
    "Q = [Q[0]]*10 + [Q[1]]*8 + [Q[2]]*10 + [Q[3]]*4 + [Q[4]]*5"
   ]
  },
  {
   "cell_type": "code",
   "execution_count": 65,
   "id": "5c452c6d",
   "metadata": {},
   "outputs": [],
   "source": [
    "dest1 = list(set(order_list_df['Destination Code']))[:10]"
   ]
  },
  {
   "cell_type": "code",
   "execution_count": 66,
   "id": "539c9f2f",
   "metadata": {},
   "outputs": [],
   "source": [
    "dest = [str(i) for i in dest1]"
   ]
  },
  {
   "cell_type": "code",
   "execution_count": 67,
   "id": "5d6db525",
   "metadata": {},
   "outputs": [],
   "source": [
    "order_list_df = order_list_df[order_list_df['Destination Code'].isin(dest1)]"
   ]
  },
  {
   "cell_type": "code",
   "execution_count": 68,
   "id": "21af69f9",
   "metadata": {},
   "outputs": [],
   "source": [
    "order_list_df1 = order_list_df.sort_values(by = 'Destination Code').groupby('Destination Code').sum(\"Total Weight\").reset_index()"
   ]
  },
  {
   "cell_type": "code",
   "execution_count": 69,
   "id": "56253c4c",
   "metadata": {},
   "outputs": [],
   "source": [
    "locations_df = locations_df[locations_df['location_code'].isin(dest + ['A123'])]"
   ]
  },
  {
   "cell_type": "code",
   "execution_count": 70,
   "id": "56bc7e8c",
   "metadata": {},
   "outputs": [],
   "source": [
    "# Convert loading/unloading windows to minutes with explicit format\n",
    "locations_df['start_minutes'] = pd.to_datetime(locations_df['location_loading_unloading_window_start'], format='%H:%M').dt.hour * 60 + pd.to_datetime(locations_df['location_loading_unloading_window_start'], format='%H:%M').dt.minute\n",
    "locations_df['end_minutes'] = pd.to_datetime(locations_df['location_loading_unloading_window_end'], format='%H:%M').dt.hour * 60 + pd.to_datetime(locations_df['location_loading_unloading_window_end'], format='%H:%M').dt.minute"
   ]
  },
  {
   "cell_type": "code",
   "execution_count": 71,
   "id": "fcd86a64",
   "metadata": {},
   "outputs": [],
   "source": [
    "customers = locations_df.sort_values(by = 'location_code').iloc[:len(order_list_df1),:]"
   ]
  },
  {
   "cell_type": "code",
   "execution_count": 72,
   "id": "c4083ab6",
   "metadata": {},
   "outputs": [],
   "source": [
    "locations_df2 = locations_df.sort_values(by = 'location_code')"
   ]
  },
  {
   "cell_type": "code",
   "execution_count": 73,
   "id": "b3789497",
   "metadata": {},
   "outputs": [
    {
     "data": {
      "text/html": [
       "<div>\n",
       "<style scoped>\n",
       "    .dataframe tbody tr th:only-of-type {\n",
       "        vertical-align: middle;\n",
       "    }\n",
       "\n",
       "    .dataframe tbody tr th {\n",
       "        vertical-align: top;\n",
       "    }\n",
       "\n",
       "    .dataframe thead th {\n",
       "        text-align: right;\n",
       "    }\n",
       "</style>\n",
       "<table border=\"1\" class=\"dataframe\">\n",
       "  <thead>\n",
       "    <tr style=\"text-align: right;\">\n",
       "      <th></th>\n",
       "      <th>location_code</th>\n",
       "      <th>trucks_allowed</th>\n",
       "      <th>location_loading_unloading_window_start</th>\n",
       "      <th>location_loading_unloading_window_end</th>\n",
       "      <th>start_minutes</th>\n",
       "      <th>end_minutes</th>\n",
       "    </tr>\n",
       "  </thead>\n",
       "  <tbody>\n",
       "    <tr>\n",
       "      <th>65</th>\n",
       "      <td>10208776</td>\n",
       "      <td>['3 tonner Box', '5 tonner Box', '7.5 tonner T...</td>\n",
       "      <td>8:00</td>\n",
       "      <td>22:00</td>\n",
       "      <td>480</td>\n",
       "      <td>1320</td>\n",
       "    </tr>\n",
       "    <tr>\n",
       "      <th>45</th>\n",
       "      <td>10212373</td>\n",
       "      <td>['3 tonner Box']</td>\n",
       "      <td>8:00</td>\n",
       "      <td>22:00</td>\n",
       "      <td>480</td>\n",
       "      <td>1320</td>\n",
       "    </tr>\n",
       "    <tr>\n",
       "      <th>90</th>\n",
       "      <td>10219625</td>\n",
       "      <td>['3 tonner Box', '5 tonner Box', '7.5 tonner T...</td>\n",
       "      <td>8:00</td>\n",
       "      <td>22:00</td>\n",
       "      <td>480</td>\n",
       "      <td>1320</td>\n",
       "    </tr>\n",
       "    <tr>\n",
       "      <th>74</th>\n",
       "      <td>10310757</td>\n",
       "      <td>['3 tonner Box']</td>\n",
       "      <td>8:00</td>\n",
       "      <td>22:00</td>\n",
       "      <td>480</td>\n",
       "      <td>1320</td>\n",
       "    </tr>\n",
       "    <tr>\n",
       "      <th>55</th>\n",
       "      <td>10366979</td>\n",
       "      <td>['3 tonner Box']</td>\n",
       "      <td>8:00</td>\n",
       "      <td>22:00</td>\n",
       "      <td>480</td>\n",
       "      <td>1320</td>\n",
       "    </tr>\n",
       "    <tr>\n",
       "      <th>101</th>\n",
       "      <td>11950159</td>\n",
       "      <td>['3 tonner Box', '5 tonner Box', '7.5 tonner T...</td>\n",
       "      <td>8:00</td>\n",
       "      <td>22:00</td>\n",
       "      <td>480</td>\n",
       "      <td>1320</td>\n",
       "    </tr>\n",
       "    <tr>\n",
       "      <th>50</th>\n",
       "      <td>12219936</td>\n",
       "      <td>['3 tonner Box']</td>\n",
       "      <td>8:00</td>\n",
       "      <td>22:00</td>\n",
       "      <td>480</td>\n",
       "      <td>1320</td>\n",
       "    </tr>\n",
       "    <tr>\n",
       "      <th>129</th>\n",
       "      <td>12231175</td>\n",
       "      <td>['3 tonner Box']</td>\n",
       "      <td>8:00</td>\n",
       "      <td>22:00</td>\n",
       "      <td>480</td>\n",
       "      <td>1320</td>\n",
       "    </tr>\n",
       "    <tr>\n",
       "      <th>38</th>\n",
       "      <td>12779571</td>\n",
       "      <td>['3 tonner Box', '5 tonner Box', '7.5 tonner T...</td>\n",
       "      <td>8:00</td>\n",
       "      <td>22:00</td>\n",
       "      <td>480</td>\n",
       "      <td>1320</td>\n",
       "    </tr>\n",
       "    <tr>\n",
       "      <th>120</th>\n",
       "      <td>13015040</td>\n",
       "      <td>['3 tonner Box', '5 tonner Box', '7.5 tonner T...</td>\n",
       "      <td>8:00</td>\n",
       "      <td>22:00</td>\n",
       "      <td>480</td>\n",
       "      <td>1320</td>\n",
       "    </tr>\n",
       "    <tr>\n",
       "      <th>276</th>\n",
       "      <td>A123</td>\n",
       "      <td>['3 tonner Box', '5 tonner Box', '7.5 tonner T...</td>\n",
       "      <td>8:00</td>\n",
       "      <td>18:00</td>\n",
       "      <td>480</td>\n",
       "      <td>1080</td>\n",
       "    </tr>\n",
       "  </tbody>\n",
       "</table>\n",
       "</div>"
      ],
      "text/plain": [
       "    location_code                                     trucks_allowed  \\\n",
       "65       10208776  ['3 tonner Box', '5 tonner Box', '7.5 tonner T...   \n",
       "45       10212373                                   ['3 tonner Box']   \n",
       "90       10219625  ['3 tonner Box', '5 tonner Box', '7.5 tonner T...   \n",
       "74       10310757                                   ['3 tonner Box']   \n",
       "55       10366979                                   ['3 tonner Box']   \n",
       "101      11950159  ['3 tonner Box', '5 tonner Box', '7.5 tonner T...   \n",
       "50       12219936                                   ['3 tonner Box']   \n",
       "129      12231175                                   ['3 tonner Box']   \n",
       "38       12779571  ['3 tonner Box', '5 tonner Box', '7.5 tonner T...   \n",
       "120      13015040  ['3 tonner Box', '5 tonner Box', '7.5 tonner T...   \n",
       "276          A123  ['3 tonner Box', '5 tonner Box', '7.5 tonner T...   \n",
       "\n",
       "    location_loading_unloading_window_start  \\\n",
       "65                                     8:00   \n",
       "45                                     8:00   \n",
       "90                                     8:00   \n",
       "74                                     8:00   \n",
       "55                                     8:00   \n",
       "101                                    8:00   \n",
       "50                                     8:00   \n",
       "129                                    8:00   \n",
       "38                                     8:00   \n",
       "120                                    8:00   \n",
       "276                                    8:00   \n",
       "\n",
       "    location_loading_unloading_window_end  start_minutes  end_minutes  \n",
       "65                                  22:00            480         1320  \n",
       "45                                  22:00            480         1320  \n",
       "90                                  22:00            480         1320  \n",
       "74                                  22:00            480         1320  \n",
       "55                                  22:00            480         1320  \n",
       "101                                 22:00            480         1320  \n",
       "50                                  22:00            480         1320  \n",
       "129                                 22:00            480         1320  \n",
       "38                                  22:00            480         1320  \n",
       "120                                 22:00            480         1320  \n",
       "276                                 18:00            480         1080  "
      ]
     },
     "execution_count": 73,
     "metadata": {},
     "output_type": "execute_result"
    }
   ],
   "source": [
    "locations_df2"
   ]
  },
  {
   "cell_type": "code",
   "execution_count": 74,
   "id": "82ae6d0f",
   "metadata": {},
   "outputs": [],
   "source": [
    "cap_df = dict(zip(trucks_df['truck_type'], trucks_df['truck_max_weight']))"
   ]
  },
  {
   "cell_type": "code",
   "execution_count": 75,
   "id": "47ec6027",
   "metadata": {},
   "outputs": [],
   "source": [
    "max_veh_access = []\n",
    "for i in locations_df2.index:\n",
    "    max_veh_access.append(cap_df[eval(locations_df2['trucks_allowed'][i])[-1]])"
   ]
  },
  {
   "cell_type": "code",
   "execution_count": 76,
   "id": "1b48443c",
   "metadata": {},
   "outputs": [],
   "source": [
    "max_veh_access = max_veh_access[len(order_list_df1):] + max_veh_access[:len(order_list_df1)]"
   ]
  },
  {
   "cell_type": "code",
   "execution_count": 77,
   "id": "703dadb3",
   "metadata": {},
   "outputs": [
    {
     "data": {
      "text/plain": [
       "[17000, 7000, 2800, 9200, 2800, 2800, 7000, 2800, 2800, 17000, 9200]"
      ]
     },
     "execution_count": 77,
     "metadata": {},
     "output_type": "execute_result"
    }
   ],
   "source": [
    "max_veh_access"
   ]
  },
  {
   "cell_type": "code",
   "execution_count": 78,
   "id": "b364745d",
   "metadata": {},
   "outputs": [],
   "source": [
    "depot = locations_df.sort_values(by = 'location_code').iloc[len(order_list_df1):,:]"
   ]
  },
  {
   "cell_type": "code",
   "execution_count": 79,
   "id": "85fc505c",
   "metadata": {},
   "outputs": [],
   "source": [
    "Nodes = pd.concat([depot,customers], ignore_index = True)"
   ]
  },
  {
   "cell_type": "code",
   "execution_count": 80,
   "id": "97e86c82",
   "metadata": {},
   "outputs": [
    {
     "data": {
      "text/html": [
       "<div>\n",
       "<style scoped>\n",
       "    .dataframe tbody tr th:only-of-type {\n",
       "        vertical-align: middle;\n",
       "    }\n",
       "\n",
       "    .dataframe tbody tr th {\n",
       "        vertical-align: top;\n",
       "    }\n",
       "\n",
       "    .dataframe thead th {\n",
       "        text-align: right;\n",
       "    }\n",
       "</style>\n",
       "<table border=\"1\" class=\"dataframe\">\n",
       "  <thead>\n",
       "    <tr style=\"text-align: right;\">\n",
       "      <th></th>\n",
       "      <th>location_code</th>\n",
       "      <th>trucks_allowed</th>\n",
       "      <th>location_loading_unloading_window_start</th>\n",
       "      <th>location_loading_unloading_window_end</th>\n",
       "      <th>start_minutes</th>\n",
       "      <th>end_minutes</th>\n",
       "    </tr>\n",
       "  </thead>\n",
       "  <tbody>\n",
       "    <tr>\n",
       "      <th>0</th>\n",
       "      <td>A123</td>\n",
       "      <td>['3 tonner Box', '5 tonner Box', '7.5 tonner T...</td>\n",
       "      <td>8:00</td>\n",
       "      <td>18:00</td>\n",
       "      <td>480</td>\n",
       "      <td>1080</td>\n",
       "    </tr>\n",
       "    <tr>\n",
       "      <th>1</th>\n",
       "      <td>10208776</td>\n",
       "      <td>['3 tonner Box', '5 tonner Box', '7.5 tonner T...</td>\n",
       "      <td>8:00</td>\n",
       "      <td>22:00</td>\n",
       "      <td>480</td>\n",
       "      <td>1320</td>\n",
       "    </tr>\n",
       "    <tr>\n",
       "      <th>2</th>\n",
       "      <td>10212373</td>\n",
       "      <td>['3 tonner Box']</td>\n",
       "      <td>8:00</td>\n",
       "      <td>22:00</td>\n",
       "      <td>480</td>\n",
       "      <td>1320</td>\n",
       "    </tr>\n",
       "    <tr>\n",
       "      <th>3</th>\n",
       "      <td>10219625</td>\n",
       "      <td>['3 tonner Box', '5 tonner Box', '7.5 tonner T...</td>\n",
       "      <td>8:00</td>\n",
       "      <td>22:00</td>\n",
       "      <td>480</td>\n",
       "      <td>1320</td>\n",
       "    </tr>\n",
       "    <tr>\n",
       "      <th>4</th>\n",
       "      <td>10310757</td>\n",
       "      <td>['3 tonner Box']</td>\n",
       "      <td>8:00</td>\n",
       "      <td>22:00</td>\n",
       "      <td>480</td>\n",
       "      <td>1320</td>\n",
       "    </tr>\n",
       "    <tr>\n",
       "      <th>5</th>\n",
       "      <td>10366979</td>\n",
       "      <td>['3 tonner Box']</td>\n",
       "      <td>8:00</td>\n",
       "      <td>22:00</td>\n",
       "      <td>480</td>\n",
       "      <td>1320</td>\n",
       "    </tr>\n",
       "    <tr>\n",
       "      <th>6</th>\n",
       "      <td>11950159</td>\n",
       "      <td>['3 tonner Box', '5 tonner Box', '7.5 tonner T...</td>\n",
       "      <td>8:00</td>\n",
       "      <td>22:00</td>\n",
       "      <td>480</td>\n",
       "      <td>1320</td>\n",
       "    </tr>\n",
       "    <tr>\n",
       "      <th>7</th>\n",
       "      <td>12219936</td>\n",
       "      <td>['3 tonner Box']</td>\n",
       "      <td>8:00</td>\n",
       "      <td>22:00</td>\n",
       "      <td>480</td>\n",
       "      <td>1320</td>\n",
       "    </tr>\n",
       "    <tr>\n",
       "      <th>8</th>\n",
       "      <td>12231175</td>\n",
       "      <td>['3 tonner Box']</td>\n",
       "      <td>8:00</td>\n",
       "      <td>22:00</td>\n",
       "      <td>480</td>\n",
       "      <td>1320</td>\n",
       "    </tr>\n",
       "    <tr>\n",
       "      <th>9</th>\n",
       "      <td>12779571</td>\n",
       "      <td>['3 tonner Box', '5 tonner Box', '7.5 tonner T...</td>\n",
       "      <td>8:00</td>\n",
       "      <td>22:00</td>\n",
       "      <td>480</td>\n",
       "      <td>1320</td>\n",
       "    </tr>\n",
       "    <tr>\n",
       "      <th>10</th>\n",
       "      <td>13015040</td>\n",
       "      <td>['3 tonner Box', '5 tonner Box', '7.5 tonner T...</td>\n",
       "      <td>8:00</td>\n",
       "      <td>22:00</td>\n",
       "      <td>480</td>\n",
       "      <td>1320</td>\n",
       "    </tr>\n",
       "  </tbody>\n",
       "</table>\n",
       "</div>"
      ],
      "text/plain": [
       "   location_code                                     trucks_allowed  \\\n",
       "0           A123  ['3 tonner Box', '5 tonner Box', '7.5 tonner T...   \n",
       "1       10208776  ['3 tonner Box', '5 tonner Box', '7.5 tonner T...   \n",
       "2       10212373                                   ['3 tonner Box']   \n",
       "3       10219625  ['3 tonner Box', '5 tonner Box', '7.5 tonner T...   \n",
       "4       10310757                                   ['3 tonner Box']   \n",
       "5       10366979                                   ['3 tonner Box']   \n",
       "6       11950159  ['3 tonner Box', '5 tonner Box', '7.5 tonner T...   \n",
       "7       12219936                                   ['3 tonner Box']   \n",
       "8       12231175                                   ['3 tonner Box']   \n",
       "9       12779571  ['3 tonner Box', '5 tonner Box', '7.5 tonner T...   \n",
       "10      13015040  ['3 tonner Box', '5 tonner Box', '7.5 tonner T...   \n",
       "\n",
       "   location_loading_unloading_window_start  \\\n",
       "0                                     8:00   \n",
       "1                                     8:00   \n",
       "2                                     8:00   \n",
       "3                                     8:00   \n",
       "4                                     8:00   \n",
       "5                                     8:00   \n",
       "6                                     8:00   \n",
       "7                                     8:00   \n",
       "8                                     8:00   \n",
       "9                                     8:00   \n",
       "10                                    8:00   \n",
       "\n",
       "   location_loading_unloading_window_end  start_minutes  end_minutes  \n",
       "0                                  18:00            480         1080  \n",
       "1                                  22:00            480         1320  \n",
       "2                                  22:00            480         1320  \n",
       "3                                  22:00            480         1320  \n",
       "4                                  22:00            480         1320  \n",
       "5                                  22:00            480         1320  \n",
       "6                                  22:00            480         1320  \n",
       "7                                  22:00            480         1320  \n",
       "8                                  22:00            480         1320  \n",
       "9                                  22:00            480         1320  \n",
       "10                                 22:00            480         1320  "
      ]
     },
     "execution_count": 80,
     "metadata": {},
     "output_type": "execute_result"
    }
   ],
   "source": [
    "Nodes"
   ]
  },
  {
   "cell_type": "code",
   "execution_count": 81,
   "id": "effaa116",
   "metadata": {},
   "outputs": [],
   "source": [
    "vehicles = [ k for k in range(0,len(Q))]\n",
    "customers = [ i for i in range(1,len(Nodes))]\n",
    "nodes = [ i for i in range(0, len(Nodes))]"
   ]
  },
  {
   "cell_type": "code",
   "execution_count": 82,
   "id": "ded671e2",
   "metadata": {},
   "outputs": [
    {
     "data": {
      "text/plain": [
       "257400"
      ]
     },
     "execution_count": 82,
     "metadata": {},
     "output_type": "execute_result"
    }
   ],
   "source": [
    "sum(Q)"
   ]
  },
  {
   "cell_type": "code",
   "execution_count": 83,
   "id": "0e880a6d",
   "metadata": {},
   "outputs": [],
   "source": [
    "demand = [0] + list(order_list_df1['Total Weight'])"
   ]
  },
  {
   "cell_type": "code",
   "execution_count": 84,
   "id": "4a74806c",
   "metadata": {},
   "outputs": [
    {
     "data": {
      "text/plain": [
       "7035.0"
      ]
     },
     "execution_count": 84,
     "metadata": {},
     "output_type": "execute_result"
    }
   ],
   "source": [
    "sum(demand)"
   ]
  },
  {
   "cell_type": "code",
   "execution_count": 85,
   "id": "95496a1e",
   "metadata": {},
   "outputs": [],
   "source": [
    "start_time = list(Nodes['start_minutes'])\n",
    "finish_time = list(Nodes['end_minutes'])"
   ]
  },
  {
   "cell_type": "code",
   "execution_count": 86,
   "id": "09b3d1a9",
   "metadata": {},
   "outputs": [],
   "source": [
    "# Constants\n",
    "service_time_customer = 20  \n",
    "service_time_depot = 60 "
   ]
  },
  {
   "cell_type": "code",
   "execution_count": 87,
   "id": "ff271426",
   "metadata": {},
   "outputs": [],
   "source": [
    "dest2 = ['A123'] + sorted(dest)"
   ]
  },
  {
   "cell_type": "code",
   "execution_count": 88,
   "id": "fa104246",
   "metadata": {},
   "outputs": [],
   "source": [
    "dest3 = {} \n",
    "for i in range(len(dest2)):\n",
    "    dest3[dest2[i]] = i"
   ]
  },
  {
   "cell_type": "code",
   "execution_count": 89,
   "id": "cce1ac64",
   "metadata": {},
   "outputs": [
    {
     "data": {
      "text/plain": [
       "{'A123': 0,\n",
       " '10208776': 1,\n",
       " '10212373': 2,\n",
       " '10219625': 3,\n",
       " '10310757': 4,\n",
       " '10366979': 5,\n",
       " '11950159': 6,\n",
       " '12219936': 7,\n",
       " '12231175': 8,\n",
       " '12779571': 9,\n",
       " '13015040': 10}"
      ]
     },
     "execution_count": 89,
     "metadata": {},
     "output_type": "execute_result"
    }
   ],
   "source": [
    "dest3"
   ]
  },
  {
   "cell_type": "code",
   "execution_count": 90,
   "id": "11f356e5",
   "metadata": {},
   "outputs": [],
   "source": [
    "travel_matrix_df = travel_matrix_df[(travel_matrix_df['source_location_code'].isin(dest + ['A123'])) & (travel_matrix_df['destination_location_code'].isin(dest + ['A123']))]"
   ]
  },
  {
   "cell_type": "code",
   "execution_count": 91,
   "id": "c786610e",
   "metadata": {},
   "outputs": [],
   "source": [
    "travel_matrix_df['mapped_source'] = travel_matrix_df['source_location_code'].map(dest3)\n",
    "travel_matrix_df['mapped_destination'] = travel_matrix_df['destination_location_code'].map(dest3)"
   ]
  },
  {
   "cell_type": "code",
   "execution_count": 92,
   "id": "fdc162bb",
   "metadata": {},
   "outputs": [],
   "source": [
    "dist_matrix = {}\n",
    "time_matrix = {}\n",
    "for i in travel_matrix_df.index:\n",
    "    dist_matrix[(travel_matrix_df['mapped_source'][i], travel_matrix_df['mapped_destination'][i])] = travel_matrix_df['travel_distance_in_km'][i]\n",
    "    time_matrix[(travel_matrix_df['mapped_source'][i], travel_matrix_df['mapped_destination'][i])] = travel_matrix_df['travel_time_in_min'][i]"
   ]
  },
  {
   "cell_type": "code",
   "execution_count": 93,
   "id": "0eb1af62",
   "metadata": {},
   "outputs": [
    {
     "data": {
      "text/plain": [
       "[480, 480, 480, 480, 480, 480, 480, 480, 480, 480, 480]"
      ]
     },
     "execution_count": 93,
     "metadata": {},
     "output_type": "execute_result"
    }
   ],
   "source": [
    "start_time"
   ]
  },
  {
   "cell_type": "code",
   "execution_count": 94,
   "id": "f5065221",
   "metadata": {},
   "outputs": [
    {
     "data": {
      "text/plain": [
       "[1080, 1320, 1320, 1320, 1320, 1320, 1320, 1320, 1320, 1320, 1320]"
      ]
     },
     "execution_count": 94,
     "metadata": {},
     "output_type": "execute_result"
    }
   ],
   "source": [
    "finish_time"
   ]
  },
  {
   "cell_type": "code",
   "execution_count": 95,
   "id": "8cb9bb1e",
   "metadata": {},
   "outputs": [
    {
     "data": {
      "text/plain": [
       "[0, 1, 2, 3, 4, 5, 6, 7, 8, 9, 10]"
      ]
     },
     "execution_count": 95,
     "metadata": {},
     "output_type": "execute_result"
    }
   ],
   "source": [
    "nodes"
   ]
  },
  {
   "cell_type": "code",
   "execution_count": 96,
   "id": "854f78ce",
   "metadata": {},
   "outputs": [
    {
     "data": {
      "text/plain": [
       "[1, 2, 3, 4, 5, 6, 7, 8, 9, 10]"
      ]
     },
     "execution_count": 96,
     "metadata": {},
     "output_type": "execute_result"
    }
   ],
   "source": [
    "customers"
   ]
  },
  {
   "cell_type": "code",
   "execution_count": 97,
   "id": "13c103c1",
   "metadata": {
    "scrolled": true
   },
   "outputs": [
    {
     "data": {
      "text/plain": [
       "[0,\n",
       " 1,\n",
       " 2,\n",
       " 3,\n",
       " 4,\n",
       " 5,\n",
       " 6,\n",
       " 7,\n",
       " 8,\n",
       " 9,\n",
       " 10,\n",
       " 11,\n",
       " 12,\n",
       " 13,\n",
       " 14,\n",
       " 15,\n",
       " 16,\n",
       " 17,\n",
       " 18,\n",
       " 19,\n",
       " 20,\n",
       " 21,\n",
       " 22,\n",
       " 23,\n",
       " 24,\n",
       " 25,\n",
       " 26,\n",
       " 27,\n",
       " 28,\n",
       " 29,\n",
       " 30,\n",
       " 31,\n",
       " 32,\n",
       " 33,\n",
       " 34,\n",
       " 35,\n",
       " 36]"
      ]
     },
     "execution_count": 97,
     "metadata": {},
     "output_type": "execute_result"
    }
   ],
   "source": [
    "vehicles"
   ]
  },
  {
   "cell_type": "code",
   "execution_count": 98,
   "id": "aeb59173",
   "metadata": {},
   "outputs": [],
   "source": [
    "#Decision Variable\n",
    "\n",
    "my_model=gp.Model('CVRPTW')\n",
    "\n",
    "xijk=my_model.addVars(nodes, nodes, vehicles, vtype=GRB.BINARY, name='xijk')\n",
    "sik = my_model.addVars(nodes, vehicles, vtype = GRB.CONTINUOUS, name = 'sik',lb = 0)\n",
    "q = my_model.addVars(customers, vehicles, vtype = GRB.CONTINUOUS, name = 'qjk', lb = 0)\n",
    "I = my_model.addVars(vehicles, vtype = GRB.BINARY, name = 'I')"
   ]
  },
  {
   "cell_type": "code",
   "execution_count": 99,
   "id": "28df5eff",
   "metadata": {},
   "outputs": [],
   "source": [
    "#Objective function\n",
    "obj_fn = (gp.quicksum(dist_matrix[i,j]* gp.quicksum(xijk[i,j,k] for k in vehicles) for i in nodes for j in nodes) +\n",
    "          gp.quicksum(I[k] for k in vehicles)\n",
    "         )\n",
    "\n",
    "my_model.setObjective(obj_fn, GRB.MINIMIZE)\n"
   ]
  },
  {
   "cell_type": "code",
   "execution_count": 100,
   "id": "6407698f",
   "metadata": {},
   "outputs": [],
   "source": [
    "#Source to sink constraints\n",
    "my_model.addConstrs(gp.quicksum(xijk[0,j,k] for j in customers)<=1 for k in vehicles);"
   ]
  },
  {
   "cell_type": "code",
   "execution_count": 101,
   "id": "459037af",
   "metadata": {},
   "outputs": [],
   "source": [
    "my_model.addConstrs(gp.quicksum(xijk[i,0,k] for i in customers)<=1 for k in vehicles);"
   ]
  },
  {
   "cell_type": "code",
   "execution_count": 102,
   "id": "f66819b5",
   "metadata": {},
   "outputs": [],
   "source": [
    "# my_model.addConstr(gp.quicksum(xijk[0,j,k] for j in customers for k in vehicles)<=10);"
   ]
  },
  {
   "cell_type": "code",
   "execution_count": 103,
   "id": "5383c6eb",
   "metadata": {},
   "outputs": [],
   "source": [
    "my_model.addConstrs(gp.quicksum(xijk[i,j,k] for i in nodes)- gp.quicksum(xijk[j,i,k] for i in nodes)==0 \n",
    "                    for j in nodes for k in vehicles);"
   ]
  },
  {
   "cell_type": "code",
   "execution_count": 104,
   "id": "509a5636",
   "metadata": {},
   "outputs": [],
   "source": [
    "#capacity constraints\n",
    "my_model.addConstrs(gp.quicksum(q[j,k] for k in vehicles) == demand[j] \n",
    "                    for j in customers); \n",
    "my_model.addConstrs(gp.quicksum(q[j,k] for j in customers) <= Q[k] for k in vehicles);"
   ]
  },
  {
   "cell_type": "code",
   "execution_count": 105,
   "id": "c1cd068c",
   "metadata": {},
   "outputs": [],
   "source": [
    "my_model.addConstrs(q[j,k] <= Q[k] * gp.quicksum(xijk[i,j,k] for i in nodes) for j in customers for k in vehicles);"
   ]
  },
  {
   "cell_type": "code",
   "execution_count": 106,
   "id": "2c3d9cc0",
   "metadata": {},
   "outputs": [],
   "source": [
    "my_model.addConstrs(sik[i,k] + time_matrix[i,j] + service_time_customer\n",
    "                    - sik[j,k] <= (1-xijk[i,j,k]) *1440\n",
    "                    for i in customers \n",
    "                    for j in customers for k in vehicles);"
   ]
  },
  {
   "cell_type": "code",
   "execution_count": 107,
   "id": "aac22ea1",
   "metadata": {},
   "outputs": [],
   "source": [
    "my_model.addConstrs(sik[i,k] <= finish_time[i] for i in nodes for k in vehicles)\n",
    "                    \n",
    "my_model.addConstrs(sik[i,k] >= start_time[i] for i in nodes for k in vehicles);                                   "
   ]
  },
  {
   "cell_type": "code",
   "execution_count": 108,
   "id": "41a80526",
   "metadata": {},
   "outputs": [],
   "source": [
    "for i in nodes:\n",
    "    for j in nodes:\n",
    "        for k in vehicles:\n",
    "            if Q[k] <= max_veh_access[j] and Q[k] <= max_veh_access[i]:\n",
    "                my_model.addConstr(xijk[i,j,k] <= 1);\n",
    "            else:\n",
    "                my_model.addConstr(xijk[i,j,k] == 0);"
   ]
  },
  {
   "cell_type": "code",
   "execution_count": 109,
   "id": "6487fdc2",
   "metadata": {},
   "outputs": [],
   "source": [
    "my_model.addConstrs(gp.quicksum(xijk[0,j,k] for j in customers) <= I[k] for k in vehicles);"
   ]
  },
  {
   "cell_type": "code",
   "execution_count": 110,
   "id": "a9456bfa",
   "metadata": {},
   "outputs": [
    {
     "name": "stdout",
     "output_type": "stream",
     "text": [
      "Set parameter Heuristics to value 0.6\n"
     ]
    }
   ],
   "source": [
    "my_model.setParam('Heuristics', 0.6)  "
   ]
  },
  {
   "cell_type": "code",
   "execution_count": 52,
   "id": "82d628fd",
   "metadata": {},
   "outputs": [
    {
     "name": "stdout",
     "output_type": "stream",
     "text": [
      "Gurobi Optimizer version 11.0.0 build v11.0.0rc2 (win64 - Windows 11+.0 (26100.2))\n",
      "\n",
      "CPU model: AMD Ryzen 5 5500U with Radeon Graphics, instruction set [SSE2|AVX|AVX2]\n",
      "Thread count: 6 physical cores, 12 logical processors, using up to 12 threads\n",
      "\n",
      "Optimize a model with 9926 rows, 5291 columns and 30118 nonzeros\n",
      "Model fingerprint: 0xfa510fb2\n",
      "Variable types: 777 continuous, 4514 integer (4514 binary)\n",
      "Coefficient statistics:\n",
      "  Matrix range     [1e+00, 2e+04]\n",
      "  Objective range  [1e+00, 2e+02]\n",
      "  Bounds range     [1e+00, 1e+00]\n",
      "  RHS range        [1e+00, 2e+04]\n",
      "Presolve removed 8109 rows and 3179 columns\n",
      "Presolve time: 0.04s\n",
      "Presolved: 1817 rows, 2112 columns, 9697 nonzeros\n",
      "Variable types: 409 continuous, 1703 integer (1703 binary)\n",
      "Found heuristic solution: objective 961.1400000\n",
      "\n",
      "Root relaxation: objective 2.672600e+02, 413 iterations, 0.01 seconds (0.01 work units)\n",
      "\n",
      "    Nodes    |    Current Node    |     Objective Bounds      |     Work\n",
      " Expl Unexpl |  Obj  Depth IntInf | Incumbent    BestBd   Gap | It/Node Time\n",
      "\n",
      "     0     0  267.26000    0   18  961.14000  267.26000  72.2%     -    0s\n",
      "H    0     0                     851.8500000  267.26000  68.6%     -    0s\n",
      "H    0     0                     803.0500000  267.26000  66.7%     -    0s\n",
      "H    0     0                     802.8800000  267.26000  66.7%     -    0s\n",
      "     0     0  267.26000    0   18  802.88000  267.26000  66.7%     -    0s\n",
      "H    0     0                     701.7200000  267.26000  61.9%     -    0s\n",
      "H    0     0                     642.9400000  267.26000  58.4%     -    0s\n",
      "     0     0  267.26000    0   18  642.94000  267.26000  58.4%     -    0s\n",
      "     0     0  267.26000    0   18  642.94000  267.26000  58.4%     -    0s\n",
      "H    0     0                     637.8700000  267.26000  58.1%     -    0s\n",
      "     0     0  267.26000    0   18  637.87000  267.26000  58.1%     -    0s\n",
      "     0     0  267.26000    0   18  637.87000  267.26000  58.1%     -    0s\n",
      "     0     0  267.26000    0   18  637.87000  267.26000  58.1%     -    0s\n",
      "     0     2  284.17855    0   18  637.87000  284.17855  55.4%     -    0s\n",
      "H   31    43                     581.8600000  306.40338  47.3%  18.8    0s\n",
      "H   70    76                     540.1400000  308.79353  42.8%  14.1    0s\n",
      "H  115   122                     438.1900000  308.79353  29.5%  14.3    1s\n",
      "H  150   149                     435.6000000  308.79353  29.1%  14.4    1s\n",
      "H  161   149                     426.4100000  308.79353  27.6%  13.8    1s\n",
      "H  165   149                     393.1100000  308.79353  21.4%  13.5    1s\n",
      "H  231   179                     388.9900000  313.79966  19.3%  13.8    1s\n",
      "H  234   179                     384.5200000  313.79966  18.4%  14.4    1s\n",
      "   512   327  345.12375   13   17  384.52000  317.86442  17.3%  17.9    5s\n",
      "  1956   772     cutoff   21       384.52000  333.57413  13.2%  14.7   10s\n",
      "  3390  1125  337.07913   36   18  384.52000  337.07913  12.3%  14.9   16s\n",
      "  4914  1079     cutoff   31       384.52000  337.07913  12.3%  15.5   20s\n",
      "  6878  1006     cutoff   32       384.52000  337.07913  12.3%  15.5   25s\n",
      "  8754  1147  346.87569   28   17  384.52000  337.07913  12.3%  15.8   30s\n",
      " 10803  1425     cutoff   35       384.52000  338.13952  12.1%  16.0   35s\n",
      " 13439  1639     cutoff   34       384.52000  344.05418  10.5%  15.7   40s\n",
      " 14635  1747 infeasible   34       384.52000  347.74247  9.56%  15.7   45s\n",
      " 15776  1819  373.15766   49    5  384.52000  348.23856  9.44%  15.7   50s\n"
     ]
    },
    {
     "ename": "KeyboardInterrupt",
     "evalue": "",
     "output_type": "error",
     "traceback": [
      "\u001b[1;31m---------------------------------------------------------------------------\u001b[0m",
      "\u001b[1;31mKeyboardInterrupt\u001b[0m                         Traceback (most recent call last)",
      "File \u001b[1;32m~\\AppData\\Roaming\\Python\\Python312\\site-packages\\ipykernel\\iostream.py:655\u001b[0m, in \u001b[0;36mOutStream.write\u001b[1;34m(self, string)\u001b[0m\n\u001b[0;32m    647\u001b[0m                     \u001b[38;5;28;01mreturn\u001b[39;00m\n\u001b[0;32m    649\u001b[0m             \u001b[38;5;28mself\u001b[39m\u001b[38;5;241m.\u001b[39msession\u001b[38;5;241m.\u001b[39msend(\n\u001b[0;32m    650\u001b[0m                 \u001b[38;5;28mself\u001b[39m\u001b[38;5;241m.\u001b[39mpub_thread,\n\u001b[0;32m    651\u001b[0m                 msg,\n\u001b[0;32m    652\u001b[0m                 ident\u001b[38;5;241m=\u001b[39m\u001b[38;5;28mself\u001b[39m\u001b[38;5;241m.\u001b[39mtopic,\n\u001b[0;32m    653\u001b[0m             )\n\u001b[1;32m--> 655\u001b[0m \u001b[38;5;28;01mdef\u001b[39;00m \u001b[38;5;21mwrite\u001b[39m(\u001b[38;5;28mself\u001b[39m, string: \u001b[38;5;28mstr\u001b[39m) \u001b[38;5;241m-\u001b[39m\u001b[38;5;241m>\u001b[39m Optional[\u001b[38;5;28mint\u001b[39m]:  \u001b[38;5;66;03m# type:ignore[override]\u001b[39;00m\n\u001b[0;32m    656\u001b[0m \u001b[38;5;250m    \u001b[39m\u001b[38;5;124;03m\"\"\"Write to current stream after encoding if necessary\u001b[39;00m\n\u001b[0;32m    657\u001b[0m \n\u001b[0;32m    658\u001b[0m \u001b[38;5;124;03m    Returns\u001b[39;00m\n\u001b[1;32m   (...)\u001b[0m\n\u001b[0;32m    662\u001b[0m \n\u001b[0;32m    663\u001b[0m \u001b[38;5;124;03m    \"\"\"\u001b[39;00m\n\u001b[0;32m    664\u001b[0m     parent \u001b[38;5;241m=\u001b[39m \u001b[38;5;28mself\u001b[39m\u001b[38;5;241m.\u001b[39mparent_header\n",
      "\u001b[1;31mKeyboardInterrupt\u001b[0m: "
     ]
    },
    {
     "name": "stderr",
     "output_type": "stream",
     "text": [
      "Exception ignored in: 'gurobipy.logcallbackstub'\n",
      "Traceback (most recent call last):\n",
      "  File \"C:\\Users\\Acer\\AppData\\Roaming\\Python\\Python312\\site-packages\\ipykernel\\iostream.py\", line 655, in write\n",
      "    def write(self, string: str) -> Optional[int]:  # type:ignore[override]\n",
      "\n",
      "KeyboardInterrupt: \n"
     ]
    },
    {
     "name": "stdout",
     "output_type": "stream",
     "text": [
      " 20403  2055  365.68392   28   14  384.52000  354.73117  7.75%  15.7   60s\n",
      " 22176  1988 infeasible   31       384.52000  357.02474  7.15%  15.8   65s\n"
     ]
    }
   ],
   "source": [
    "my_model.optimize()"
   ]
  },
  {
   "cell_type": "code",
   "execution_count": null,
   "id": "e54fb55d",
   "metadata": {
    "scrolled": true
   },
   "outputs": [
    {
     "name": "stdout",
     "output_type": "stream",
     "text": [
      "Non-zero values of x:\n",
      "x_0_3_8 = 1.0\n",
      "x_1_5_8 = 1.0\n",
      "x_2_0_8 = 1.0\n",
      "x_3_4_8 = 1.0\n",
      "x_4_1_8 = 1.0\n",
      "x_5_2_8 = 1.0\n"
     ]
    }
   ],
   "source": [
    "# Create a new dictionary to store non-zero values\n",
    "non_zero_xijk = {}\n",
    "\n",
    "# Iterate over all keys and values in xijk\n",
    "for (i, j, k), value in xijk.items():\n",
    "    # Check if the value is a Gurobi variable\n",
    "    if hasattr(value, \"X\"):  # If it's a Gurobi variable, use .X to get the optimized value\n",
    "        if value.X > 0.5:  # Filter for non-zero values\n",
    "            non_zero_xijk[(i, j, k)] = value.X\n",
    "    else:  # Otherwise, assume it's a numeric value\n",
    "        if value > 0.5:  # Filter for non-zero values\n",
    "            non_zero_xijk[(i, j, k)] = value\n",
    "\n",
    "# Print the non-zero values\n",
    "print(\"Non-zero values of x:\")\n",
    "for (i, j, k), value in non_zero_xijk.items():\n",
    "    print(f\"x_{i}_{j}_{k} = {value}\")\n"
   ]
  },
  {
   "cell_type": "code",
   "execution_count": 54,
   "id": "47507b98",
   "metadata": {},
   "outputs": [
    {
     "name": "stdout",
     "output_type": "stream",
     "text": [
      "Vehicle 8 Route: [(0, 3), (1, 5), (2, 0), (3, 4), (4, 1), (5, 2)]\n"
     ]
    }
   ],
   "source": [
    "# Create a dictionary to store routes for each vehicle\n",
    "vehicle_routes = {}\n",
    "\n",
    "# Iterate over the non_zero_xijk dictionary to create routes\n",
    "for (i, j, k), value in non_zero_xijk.items():\n",
    "    if value == 1.0:\n",
    "        if k not in vehicle_routes:\n",
    "            vehicle_routes[k] = []  # Create a list for each vehicle if not already created\n",
    "        vehicle_routes[k].append((i, j))\n",
    "\n",
    "# Display the routes for each vehicle\n",
    "for vehicle, route in vehicle_routes.items():\n",
    "    print(f\"Vehicle {vehicle} Route: {route}\")"
   ]
  },
  {
   "cell_type": "code",
   "execution_count": 55,
   "id": "3cce2fd7",
   "metadata": {},
   "outputs": [
    {
     "data": {
      "text/plain": [
       "[17000, 7000, 2800, 2800, 2800, 9200]"
      ]
     },
     "execution_count": 55,
     "metadata": {},
     "output_type": "execute_result"
    }
   ],
   "source": [
    "max_veh_access"
   ]
  },
  {
   "cell_type": "code",
   "execution_count": 56,
   "id": "91376fee",
   "metadata": {},
   "outputs": [
    {
     "data": {
      "text/plain": [
       "{(1, 8): 611.0, (2, 8): 209.0, (3, 8): 304.0, (4, 8): 84.0, (5, 8): 220.0}"
      ]
     },
     "execution_count": 56,
     "metadata": {},
     "output_type": "execute_result"
    }
   ],
   "source": [
    "non_zero_q = {(i,k):q[i,k].X for i in customers for k in vehicles if q[i,k].X > 0.1}\n",
    "non_zero_q"
   ]
  },
  {
   "cell_type": "code",
   "execution_count": 57,
   "id": "8238bdef",
   "metadata": {},
   "outputs": [
    {
     "data": {
      "text/plain": [
       "[0, 611.0, 209.0, 304.0, 84.0, 220.0]"
      ]
     },
     "execution_count": 57,
     "metadata": {},
     "output_type": "execute_result"
    }
   ],
   "source": [
    "demand"
   ]
  },
  {
   "cell_type": "code",
   "execution_count": 58,
   "id": "2bc494c3",
   "metadata": {},
   "outputs": [
    {
     "data": {
      "text/plain": [
       "{0: <gurobi.Var I[0] (value 0.0)>,\n",
       " 1: <gurobi.Var I[1] (value 0.0)>,\n",
       " 2: <gurobi.Var I[2] (value 0.0)>,\n",
       " 3: <gurobi.Var I[3] (value 0.0)>,\n",
       " 4: <gurobi.Var I[4] (value 0.0)>,\n",
       " 5: <gurobi.Var I[5] (value 0.0)>,\n",
       " 6: <gurobi.Var I[6] (value 0.0)>,\n",
       " 7: <gurobi.Var I[7] (value 0.0)>,\n",
       " 8: <gurobi.Var I[8] (value 1.0)>,\n",
       " 9: <gurobi.Var I[9] (value 0.0)>,\n",
       " 10: <gurobi.Var I[10] (value 0.0)>,\n",
       " 11: <gurobi.Var I[11] (value 0.0)>,\n",
       " 12: <gurobi.Var I[12] (value 0.0)>,\n",
       " 13: <gurobi.Var I[13] (value 0.0)>,\n",
       " 14: <gurobi.Var I[14] (value 0.0)>,\n",
       " 15: <gurobi.Var I[15] (value 0.0)>,\n",
       " 16: <gurobi.Var I[16] (value 0.0)>,\n",
       " 17: <gurobi.Var I[17] (value 0.0)>,\n",
       " 18: <gurobi.Var I[18] (value 0.0)>,\n",
       " 19: <gurobi.Var I[19] (value 0.0)>,\n",
       " 20: <gurobi.Var I[20] (value 0.0)>,\n",
       " 21: <gurobi.Var I[21] (value 0.0)>,\n",
       " 22: <gurobi.Var I[22] (value 0.0)>,\n",
       " 23: <gurobi.Var I[23] (value 0.0)>,\n",
       " 24: <gurobi.Var I[24] (value 0.0)>,\n",
       " 25: <gurobi.Var I[25] (value 0.0)>,\n",
       " 26: <gurobi.Var I[26] (value 0.0)>,\n",
       " 27: <gurobi.Var I[27] (value 0.0)>,\n",
       " 28: <gurobi.Var I[28] (value 0.0)>,\n",
       " 29: <gurobi.Var I[29] (value 0.0)>,\n",
       " 30: <gurobi.Var I[30] (value 0.0)>,\n",
       " 31: <gurobi.Var I[31] (value 0.0)>,\n",
       " 32: <gurobi.Var I[32] (value 0.0)>,\n",
       " 33: <gurobi.Var I[33] (value 0.0)>,\n",
       " 34: <gurobi.Var I[34] (value 0.0)>,\n",
       " 35: <gurobi.Var I[35] (value 0.0)>,\n",
       " 36: <gurobi.Var I[36] (value 0.0)>}"
      ]
     },
     "execution_count": 58,
     "metadata": {},
     "output_type": "execute_result"
    }
   ],
   "source": [
    "I"
   ]
  },
  {
   "cell_type": "code",
   "execution_count": 59,
   "id": "ada3ef6c",
   "metadata": {},
   "outputs": [],
   "source": [
    "#use dest3 for reverse mapping into location codes from index"
   ]
  },
  {
   "cell_type": "code",
   "execution_count": null,
   "id": "b08ea14b",
   "metadata": {},
   "outputs": [],
   "source": []
  }
 ],
 "metadata": {
  "kernelspec": {
   "display_name": "Python 3",
   "language": "python",
   "name": "python3"
  },
  "language_info": {
   "codemirror_mode": {
    "name": "ipython",
    "version": 3
   },
   "file_extension": ".py",
   "mimetype": "text/x-python",
   "name": "python",
   "nbconvert_exporter": "python",
   "pygments_lexer": "ipython3",
   "version": "3.12.2"
  }
 },
 "nbformat": 4,
 "nbformat_minor": 5
}
