{
 "cells": [
  {
   "cell_type": "code",
   "execution_count": 2,
   "id": "8adc32ac",
   "metadata": {},
   "outputs": [],
   "source": [
    "import gurobipy as gp\n",
    "from gurobipy import *\n",
    "import numpy as np\n",
    "import pandas as pd"
   ]
  },
  {
   "cell_type": "code",
   "execution_count": 3,
   "id": "50cceaf5",
   "metadata": {},
   "outputs": [],
   "source": [
    "bigM = 1000000"
   ]
  },
  {
   "cell_type": "code",
   "execution_count": 4,
   "id": "58e0d1e7",
   "metadata": {},
   "outputs": [],
   "source": [
    "# Load data\n",
    "locations_df = pd.read_csv('locations.csv')\n",
    "order_list_df = pd.read_excel('order_list_1.xlsx')\n",
    "travel_matrix_df = pd.read_csv('travel_matrix.csv')\n",
    "trucks_df = pd.read_csv('trucks.csv')"
   ]
  },
  {
   "cell_type": "code",
   "execution_count": 5,
   "id": "e040d863",
   "metadata": {},
   "outputs": [],
   "source": [
    "Q = sorted(list(set(trucks_df['truck_max_weight'])))"
   ]
  },
  {
   "cell_type": "code",
   "execution_count": 6,
   "id": "eca8b9c0",
   "metadata": {},
   "outputs": [],
   "source": [
    "Q = [Q[0]]*10 + [Q[1]]*8 + [Q[2]]*10 + [Q[3]]*4 + [Q[4]]*5"
   ]
  },
  {
   "cell_type": "code",
   "execution_count": 7,
   "id": "5c452c6d",
   "metadata": {},
   "outputs": [],
   "source": [
    "dest1 = list(set(order_list_df['Destination Code']))[:15]"
   ]
  },
  {
   "cell_type": "code",
   "execution_count": 8,
   "id": "539c9f2f",
   "metadata": {},
   "outputs": [],
   "source": [
    "dest = [str(i) for i in dest1]"
   ]
  },
  {
   "cell_type": "code",
   "execution_count": 9,
   "id": "5d6db525",
   "metadata": {},
   "outputs": [],
   "source": [
    "order_list_df = order_list_df[order_list_df['Destination Code'].isin(dest1)]"
   ]
  },
  {
   "cell_type": "code",
   "execution_count": 10,
   "id": "21af69f9",
   "metadata": {},
   "outputs": [],
   "source": [
    "order_list_df1 = order_list_df.sort_values(by = 'Destination Code').groupby('Destination Code').sum(\"Total Weight\").reset_index()"
   ]
  },
  {
   "cell_type": "code",
   "execution_count": 11,
   "id": "56253c4c",
   "metadata": {},
   "outputs": [],
   "source": [
    "locations_df = locations_df[locations_df['location_code'].isin(dest + ['A123'])]"
   ]
  },
  {
   "cell_type": "code",
   "execution_count": 12,
   "id": "56bc7e8c",
   "metadata": {},
   "outputs": [],
   "source": [
    "# Convert loading/unloading windows to minutes with explicit format\n",
    "locations_df['start_minutes'] = pd.to_datetime(locations_df['location_loading_unloading_window_start'], format='%H:%M').dt.hour * 60 + pd.to_datetime(locations_df['location_loading_unloading_window_start'], format='%H:%M').dt.minute\n",
    "locations_df['end_minutes'] = pd.to_datetime(locations_df['location_loading_unloading_window_end'], format='%H:%M').dt.hour * 60 + pd.to_datetime(locations_df['location_loading_unloading_window_end'], format='%H:%M').dt.minute"
   ]
  },
  {
   "cell_type": "code",
   "execution_count": 13,
   "id": "fcd86a64",
   "metadata": {},
   "outputs": [],
   "source": [
    "customers = locations_df.sort_values(by = 'location_code').iloc[:len(order_list_df1),:]"
   ]
  },
  {
   "cell_type": "code",
   "execution_count": 14,
   "id": "c4083ab6",
   "metadata": {},
   "outputs": [],
   "source": [
    "locations_df2 = locations_df.sort_values(by = 'location_code')"
   ]
  },
  {
   "cell_type": "code",
   "execution_count": 15,
   "id": "b3789497",
   "metadata": {},
   "outputs": [
    {
     "data": {
      "text/html": [
       "<div>\n",
       "<style scoped>\n",
       "    .dataframe tbody tr th:only-of-type {\n",
       "        vertical-align: middle;\n",
       "    }\n",
       "\n",
       "    .dataframe tbody tr th {\n",
       "        vertical-align: top;\n",
       "    }\n",
       "\n",
       "    .dataframe thead th {\n",
       "        text-align: right;\n",
       "    }\n",
       "</style>\n",
       "<table border=\"1\" class=\"dataframe\">\n",
       "  <thead>\n",
       "    <tr style=\"text-align: right;\">\n",
       "      <th></th>\n",
       "      <th>location_code</th>\n",
       "      <th>trucks_allowed</th>\n",
       "      <th>location_loading_unloading_window_start</th>\n",
       "      <th>location_loading_unloading_window_end</th>\n",
       "      <th>start_minutes</th>\n",
       "      <th>end_minutes</th>\n",
       "    </tr>\n",
       "  </thead>\n",
       "  <tbody>\n",
       "    <tr>\n",
       "      <th>65</th>\n",
       "      <td>10208776</td>\n",
       "      <td>['3 tonner Box', '5 tonner Box', '7.5 tonner T...</td>\n",
       "      <td>8:00</td>\n",
       "      <td>22:00</td>\n",
       "      <td>480</td>\n",
       "      <td>1320</td>\n",
       "    </tr>\n",
       "    <tr>\n",
       "      <th>69</th>\n",
       "      <td>10210421</td>\n",
       "      <td>['3 tonner Box', '5 tonner Box', '7.5 tonner T...</td>\n",
       "      <td>8:00</td>\n",
       "      <td>22:00</td>\n",
       "      <td>480</td>\n",
       "      <td>1320</td>\n",
       "    </tr>\n",
       "    <tr>\n",
       "      <th>45</th>\n",
       "      <td>10212373</td>\n",
       "      <td>['3 tonner Box']</td>\n",
       "      <td>8:00</td>\n",
       "      <td>22:00</td>\n",
       "      <td>480</td>\n",
       "      <td>1320</td>\n",
       "    </tr>\n",
       "    <tr>\n",
       "      <th>90</th>\n",
       "      <td>10219625</td>\n",
       "      <td>['3 tonner Box', '5 tonner Box', '7.5 tonner T...</td>\n",
       "      <td>8:00</td>\n",
       "      <td>22:00</td>\n",
       "      <td>480</td>\n",
       "      <td>1320</td>\n",
       "    </tr>\n",
       "    <tr>\n",
       "      <th>74</th>\n",
       "      <td>10310757</td>\n",
       "      <td>['3 tonner Box']</td>\n",
       "      <td>8:00</td>\n",
       "      <td>22:00</td>\n",
       "      <td>480</td>\n",
       "      <td>1320</td>\n",
       "    </tr>\n",
       "    <tr>\n",
       "      <th>55</th>\n",
       "      <td>10366979</td>\n",
       "      <td>['3 tonner Box']</td>\n",
       "      <td>8:00</td>\n",
       "      <td>22:00</td>\n",
       "      <td>480</td>\n",
       "      <td>1320</td>\n",
       "    </tr>\n",
       "    <tr>\n",
       "      <th>101</th>\n",
       "      <td>11950159</td>\n",
       "      <td>['3 tonner Box', '5 tonner Box', '7.5 tonner T...</td>\n",
       "      <td>8:00</td>\n",
       "      <td>22:00</td>\n",
       "      <td>480</td>\n",
       "      <td>1320</td>\n",
       "    </tr>\n",
       "    <tr>\n",
       "      <th>50</th>\n",
       "      <td>12219936</td>\n",
       "      <td>['3 tonner Box']</td>\n",
       "      <td>8:00</td>\n",
       "      <td>22:00</td>\n",
       "      <td>480</td>\n",
       "      <td>1320</td>\n",
       "    </tr>\n",
       "    <tr>\n",
       "      <th>129</th>\n",
       "      <td>12231175</td>\n",
       "      <td>['3 tonner Box']</td>\n",
       "      <td>8:00</td>\n",
       "      <td>22:00</td>\n",
       "      <td>480</td>\n",
       "      <td>1320</td>\n",
       "    </tr>\n",
       "    <tr>\n",
       "      <th>66</th>\n",
       "      <td>12475516</td>\n",
       "      <td>['3 tonner Box', '5 tonner Box', '7.5 tonner T...</td>\n",
       "      <td>8:00</td>\n",
       "      <td>22:00</td>\n",
       "      <td>480</td>\n",
       "      <td>1320</td>\n",
       "    </tr>\n",
       "    <tr>\n",
       "      <th>53</th>\n",
       "      <td>12475523</td>\n",
       "      <td>['3 tonner Box']</td>\n",
       "      <td>8:00</td>\n",
       "      <td>22:00</td>\n",
       "      <td>480</td>\n",
       "      <td>1320</td>\n",
       "    </tr>\n",
       "    <tr>\n",
       "      <th>118</th>\n",
       "      <td>12489344</td>\n",
       "      <td>['3 tonner Box', '5 tonner Box', '7.5 tonner T...</td>\n",
       "      <td>8:00</td>\n",
       "      <td>22:00</td>\n",
       "      <td>480</td>\n",
       "      <td>1320</td>\n",
       "    </tr>\n",
       "    <tr>\n",
       "      <th>71</th>\n",
       "      <td>12546176</td>\n",
       "      <td>['3 tonner Box']</td>\n",
       "      <td>8:00</td>\n",
       "      <td>22:00</td>\n",
       "      <td>480</td>\n",
       "      <td>1320</td>\n",
       "    </tr>\n",
       "    <tr>\n",
       "      <th>38</th>\n",
       "      <td>12779571</td>\n",
       "      <td>['3 tonner Box', '5 tonner Box', '7.5 tonner T...</td>\n",
       "      <td>8:00</td>\n",
       "      <td>22:00</td>\n",
       "      <td>480</td>\n",
       "      <td>1320</td>\n",
       "    </tr>\n",
       "    <tr>\n",
       "      <th>120</th>\n",
       "      <td>13015040</td>\n",
       "      <td>['3 tonner Box', '5 tonner Box', '7.5 tonner T...</td>\n",
       "      <td>8:00</td>\n",
       "      <td>22:00</td>\n",
       "      <td>480</td>\n",
       "      <td>1320</td>\n",
       "    </tr>\n",
       "    <tr>\n",
       "      <th>276</th>\n",
       "      <td>A123</td>\n",
       "      <td>['3 tonner Box', '5 tonner Box', '7.5 tonner T...</td>\n",
       "      <td>8:00</td>\n",
       "      <td>18:00</td>\n",
       "      <td>480</td>\n",
       "      <td>1080</td>\n",
       "    </tr>\n",
       "  </tbody>\n",
       "</table>\n",
       "</div>"
      ],
      "text/plain": [
       "    location_code                                     trucks_allowed  \\\n",
       "65       10208776  ['3 tonner Box', '5 tonner Box', '7.5 tonner T...   \n",
       "69       10210421  ['3 tonner Box', '5 tonner Box', '7.5 tonner T...   \n",
       "45       10212373                                   ['3 tonner Box']   \n",
       "90       10219625  ['3 tonner Box', '5 tonner Box', '7.5 tonner T...   \n",
       "74       10310757                                   ['3 tonner Box']   \n",
       "55       10366979                                   ['3 tonner Box']   \n",
       "101      11950159  ['3 tonner Box', '5 tonner Box', '7.5 tonner T...   \n",
       "50       12219936                                   ['3 tonner Box']   \n",
       "129      12231175                                   ['3 tonner Box']   \n",
       "66       12475516  ['3 tonner Box', '5 tonner Box', '7.5 tonner T...   \n",
       "53       12475523                                   ['3 tonner Box']   \n",
       "118      12489344  ['3 tonner Box', '5 tonner Box', '7.5 tonner T...   \n",
       "71       12546176                                   ['3 tonner Box']   \n",
       "38       12779571  ['3 tonner Box', '5 tonner Box', '7.5 tonner T...   \n",
       "120      13015040  ['3 tonner Box', '5 tonner Box', '7.5 tonner T...   \n",
       "276          A123  ['3 tonner Box', '5 tonner Box', '7.5 tonner T...   \n",
       "\n",
       "    location_loading_unloading_window_start  \\\n",
       "65                                     8:00   \n",
       "69                                     8:00   \n",
       "45                                     8:00   \n",
       "90                                     8:00   \n",
       "74                                     8:00   \n",
       "55                                     8:00   \n",
       "101                                    8:00   \n",
       "50                                     8:00   \n",
       "129                                    8:00   \n",
       "66                                     8:00   \n",
       "53                                     8:00   \n",
       "118                                    8:00   \n",
       "71                                     8:00   \n",
       "38                                     8:00   \n",
       "120                                    8:00   \n",
       "276                                    8:00   \n",
       "\n",
       "    location_loading_unloading_window_end  start_minutes  end_minutes  \n",
       "65                                  22:00            480         1320  \n",
       "69                                  22:00            480         1320  \n",
       "45                                  22:00            480         1320  \n",
       "90                                  22:00            480         1320  \n",
       "74                                  22:00            480         1320  \n",
       "55                                  22:00            480         1320  \n",
       "101                                 22:00            480         1320  \n",
       "50                                  22:00            480         1320  \n",
       "129                                 22:00            480         1320  \n",
       "66                                  22:00            480         1320  \n",
       "53                                  22:00            480         1320  \n",
       "118                                 22:00            480         1320  \n",
       "71                                  22:00            480         1320  \n",
       "38                                  22:00            480         1320  \n",
       "120                                 22:00            480         1320  \n",
       "276                                 18:00            480         1080  "
      ]
     },
     "execution_count": 15,
     "metadata": {},
     "output_type": "execute_result"
    }
   ],
   "source": [
    "locations_df2"
   ]
  },
  {
   "cell_type": "code",
   "execution_count": 16,
   "id": "82ae6d0f",
   "metadata": {},
   "outputs": [],
   "source": [
    "cap_df = dict(zip(trucks_df['truck_type'], trucks_df['truck_max_weight']))"
   ]
  },
  {
   "cell_type": "code",
   "execution_count": 17,
   "id": "47ec6027",
   "metadata": {},
   "outputs": [],
   "source": [
    "max_veh_access = []\n",
    "for i in locations_df2.index:\n",
    "    max_veh_access.append(cap_df[eval(locations_df2['trucks_allowed'][i])[-1]])"
   ]
  },
  {
   "cell_type": "code",
   "execution_count": 18,
   "id": "1b48443c",
   "metadata": {},
   "outputs": [],
   "source": [
    "max_veh_access = max_veh_access[len(order_list_df1):] + max_veh_access[:len(order_list_df1)]"
   ]
  },
  {
   "cell_type": "code",
   "execution_count": 19,
   "id": "703dadb3",
   "metadata": {},
   "outputs": [
    {
     "data": {
      "text/plain": [
       "[17000,\n",
       " 7000,\n",
       " 9200,\n",
       " 2800,\n",
       " 9200,\n",
       " 2800,\n",
       " 2800,\n",
       " 7000,\n",
       " 2800,\n",
       " 2800,\n",
       " 7000,\n",
       " 2800,\n",
       " 9200,\n",
       " 2800,\n",
       " 17000,\n",
       " 9200]"
      ]
     },
     "execution_count": 19,
     "metadata": {},
     "output_type": "execute_result"
    }
   ],
   "source": [
    "max_veh_access"
   ]
  },
  {
   "cell_type": "code",
   "execution_count": 20,
   "id": "b364745d",
   "metadata": {},
   "outputs": [],
   "source": [
    "depot = locations_df.sort_values(by = 'location_code').iloc[len(order_list_df1):,:]"
   ]
  },
  {
   "cell_type": "code",
   "execution_count": 21,
   "id": "85fc505c",
   "metadata": {},
   "outputs": [],
   "source": [
    "Nodes = pd.concat([depot,customers], ignore_index = True)"
   ]
  },
  {
   "cell_type": "code",
   "execution_count": 22,
   "id": "97e86c82",
   "metadata": {},
   "outputs": [
    {
     "data": {
      "text/html": [
       "<div>\n",
       "<style scoped>\n",
       "    .dataframe tbody tr th:only-of-type {\n",
       "        vertical-align: middle;\n",
       "    }\n",
       "\n",
       "    .dataframe tbody tr th {\n",
       "        vertical-align: top;\n",
       "    }\n",
       "\n",
       "    .dataframe thead th {\n",
       "        text-align: right;\n",
       "    }\n",
       "</style>\n",
       "<table border=\"1\" class=\"dataframe\">\n",
       "  <thead>\n",
       "    <tr style=\"text-align: right;\">\n",
       "      <th></th>\n",
       "      <th>location_code</th>\n",
       "      <th>trucks_allowed</th>\n",
       "      <th>location_loading_unloading_window_start</th>\n",
       "      <th>location_loading_unloading_window_end</th>\n",
       "      <th>start_minutes</th>\n",
       "      <th>end_minutes</th>\n",
       "    </tr>\n",
       "  </thead>\n",
       "  <tbody>\n",
       "    <tr>\n",
       "      <th>0</th>\n",
       "      <td>A123</td>\n",
       "      <td>['3 tonner Box', '5 tonner Box', '7.5 tonner T...</td>\n",
       "      <td>8:00</td>\n",
       "      <td>18:00</td>\n",
       "      <td>480</td>\n",
       "      <td>1080</td>\n",
       "    </tr>\n",
       "    <tr>\n",
       "      <th>1</th>\n",
       "      <td>10208776</td>\n",
       "      <td>['3 tonner Box', '5 tonner Box', '7.5 tonner T...</td>\n",
       "      <td>8:00</td>\n",
       "      <td>22:00</td>\n",
       "      <td>480</td>\n",
       "      <td>1320</td>\n",
       "    </tr>\n",
       "    <tr>\n",
       "      <th>2</th>\n",
       "      <td>10210421</td>\n",
       "      <td>['3 tonner Box', '5 tonner Box', '7.5 tonner T...</td>\n",
       "      <td>8:00</td>\n",
       "      <td>22:00</td>\n",
       "      <td>480</td>\n",
       "      <td>1320</td>\n",
       "    </tr>\n",
       "    <tr>\n",
       "      <th>3</th>\n",
       "      <td>10212373</td>\n",
       "      <td>['3 tonner Box']</td>\n",
       "      <td>8:00</td>\n",
       "      <td>22:00</td>\n",
       "      <td>480</td>\n",
       "      <td>1320</td>\n",
       "    </tr>\n",
       "    <tr>\n",
       "      <th>4</th>\n",
       "      <td>10219625</td>\n",
       "      <td>['3 tonner Box', '5 tonner Box', '7.5 tonner T...</td>\n",
       "      <td>8:00</td>\n",
       "      <td>22:00</td>\n",
       "      <td>480</td>\n",
       "      <td>1320</td>\n",
       "    </tr>\n",
       "    <tr>\n",
       "      <th>5</th>\n",
       "      <td>10310757</td>\n",
       "      <td>['3 tonner Box']</td>\n",
       "      <td>8:00</td>\n",
       "      <td>22:00</td>\n",
       "      <td>480</td>\n",
       "      <td>1320</td>\n",
       "    </tr>\n",
       "    <tr>\n",
       "      <th>6</th>\n",
       "      <td>10366979</td>\n",
       "      <td>['3 tonner Box']</td>\n",
       "      <td>8:00</td>\n",
       "      <td>22:00</td>\n",
       "      <td>480</td>\n",
       "      <td>1320</td>\n",
       "    </tr>\n",
       "    <tr>\n",
       "      <th>7</th>\n",
       "      <td>11950159</td>\n",
       "      <td>['3 tonner Box', '5 tonner Box', '7.5 tonner T...</td>\n",
       "      <td>8:00</td>\n",
       "      <td>22:00</td>\n",
       "      <td>480</td>\n",
       "      <td>1320</td>\n",
       "    </tr>\n",
       "    <tr>\n",
       "      <th>8</th>\n",
       "      <td>12219936</td>\n",
       "      <td>['3 tonner Box']</td>\n",
       "      <td>8:00</td>\n",
       "      <td>22:00</td>\n",
       "      <td>480</td>\n",
       "      <td>1320</td>\n",
       "    </tr>\n",
       "    <tr>\n",
       "      <th>9</th>\n",
       "      <td>12231175</td>\n",
       "      <td>['3 tonner Box']</td>\n",
       "      <td>8:00</td>\n",
       "      <td>22:00</td>\n",
       "      <td>480</td>\n",
       "      <td>1320</td>\n",
       "    </tr>\n",
       "    <tr>\n",
       "      <th>10</th>\n",
       "      <td>12475516</td>\n",
       "      <td>['3 tonner Box', '5 tonner Box', '7.5 tonner T...</td>\n",
       "      <td>8:00</td>\n",
       "      <td>22:00</td>\n",
       "      <td>480</td>\n",
       "      <td>1320</td>\n",
       "    </tr>\n",
       "    <tr>\n",
       "      <th>11</th>\n",
       "      <td>12475523</td>\n",
       "      <td>['3 tonner Box']</td>\n",
       "      <td>8:00</td>\n",
       "      <td>22:00</td>\n",
       "      <td>480</td>\n",
       "      <td>1320</td>\n",
       "    </tr>\n",
       "    <tr>\n",
       "      <th>12</th>\n",
       "      <td>12489344</td>\n",
       "      <td>['3 tonner Box', '5 tonner Box', '7.5 tonner T...</td>\n",
       "      <td>8:00</td>\n",
       "      <td>22:00</td>\n",
       "      <td>480</td>\n",
       "      <td>1320</td>\n",
       "    </tr>\n",
       "    <tr>\n",
       "      <th>13</th>\n",
       "      <td>12546176</td>\n",
       "      <td>['3 tonner Box']</td>\n",
       "      <td>8:00</td>\n",
       "      <td>22:00</td>\n",
       "      <td>480</td>\n",
       "      <td>1320</td>\n",
       "    </tr>\n",
       "    <tr>\n",
       "      <th>14</th>\n",
       "      <td>12779571</td>\n",
       "      <td>['3 tonner Box', '5 tonner Box', '7.5 tonner T...</td>\n",
       "      <td>8:00</td>\n",
       "      <td>22:00</td>\n",
       "      <td>480</td>\n",
       "      <td>1320</td>\n",
       "    </tr>\n",
       "    <tr>\n",
       "      <th>15</th>\n",
       "      <td>13015040</td>\n",
       "      <td>['3 tonner Box', '5 tonner Box', '7.5 tonner T...</td>\n",
       "      <td>8:00</td>\n",
       "      <td>22:00</td>\n",
       "      <td>480</td>\n",
       "      <td>1320</td>\n",
       "    </tr>\n",
       "  </tbody>\n",
       "</table>\n",
       "</div>"
      ],
      "text/plain": [
       "   location_code                                     trucks_allowed  \\\n",
       "0           A123  ['3 tonner Box', '5 tonner Box', '7.5 tonner T...   \n",
       "1       10208776  ['3 tonner Box', '5 tonner Box', '7.5 tonner T...   \n",
       "2       10210421  ['3 tonner Box', '5 tonner Box', '7.5 tonner T...   \n",
       "3       10212373                                   ['3 tonner Box']   \n",
       "4       10219625  ['3 tonner Box', '5 tonner Box', '7.5 tonner T...   \n",
       "5       10310757                                   ['3 tonner Box']   \n",
       "6       10366979                                   ['3 tonner Box']   \n",
       "7       11950159  ['3 tonner Box', '5 tonner Box', '7.5 tonner T...   \n",
       "8       12219936                                   ['3 tonner Box']   \n",
       "9       12231175                                   ['3 tonner Box']   \n",
       "10      12475516  ['3 tonner Box', '5 tonner Box', '7.5 tonner T...   \n",
       "11      12475523                                   ['3 tonner Box']   \n",
       "12      12489344  ['3 tonner Box', '5 tonner Box', '7.5 tonner T...   \n",
       "13      12546176                                   ['3 tonner Box']   \n",
       "14      12779571  ['3 tonner Box', '5 tonner Box', '7.5 tonner T...   \n",
       "15      13015040  ['3 tonner Box', '5 tonner Box', '7.5 tonner T...   \n",
       "\n",
       "   location_loading_unloading_window_start  \\\n",
       "0                                     8:00   \n",
       "1                                     8:00   \n",
       "2                                     8:00   \n",
       "3                                     8:00   \n",
       "4                                     8:00   \n",
       "5                                     8:00   \n",
       "6                                     8:00   \n",
       "7                                     8:00   \n",
       "8                                     8:00   \n",
       "9                                     8:00   \n",
       "10                                    8:00   \n",
       "11                                    8:00   \n",
       "12                                    8:00   \n",
       "13                                    8:00   \n",
       "14                                    8:00   \n",
       "15                                    8:00   \n",
       "\n",
       "   location_loading_unloading_window_end  start_minutes  end_minutes  \n",
       "0                                  18:00            480         1080  \n",
       "1                                  22:00            480         1320  \n",
       "2                                  22:00            480         1320  \n",
       "3                                  22:00            480         1320  \n",
       "4                                  22:00            480         1320  \n",
       "5                                  22:00            480         1320  \n",
       "6                                  22:00            480         1320  \n",
       "7                                  22:00            480         1320  \n",
       "8                                  22:00            480         1320  \n",
       "9                                  22:00            480         1320  \n",
       "10                                 22:00            480         1320  \n",
       "11                                 22:00            480         1320  \n",
       "12                                 22:00            480         1320  \n",
       "13                                 22:00            480         1320  \n",
       "14                                 22:00            480         1320  \n",
       "15                                 22:00            480         1320  "
      ]
     },
     "execution_count": 22,
     "metadata": {},
     "output_type": "execute_result"
    }
   ],
   "source": [
    "Nodes"
   ]
  },
  {
   "cell_type": "code",
   "execution_count": 23,
   "id": "effaa116",
   "metadata": {},
   "outputs": [],
   "source": [
    "vehicles = [ k for k in range(0,len(Q))]\n",
    "customers = [ i for i in range(1,len(Nodes))]\n",
    "nodes = [ i for i in range(0, len(Nodes))]"
   ]
  },
  {
   "cell_type": "code",
   "execution_count": 24,
   "id": "ded671e2",
   "metadata": {},
   "outputs": [
    {
     "data": {
      "text/plain": [
       "257400"
      ]
     },
     "execution_count": 24,
     "metadata": {},
     "output_type": "execute_result"
    }
   ],
   "source": [
    "sum(Q)"
   ]
  },
  {
   "cell_type": "code",
   "execution_count": 25,
   "id": "0e880a6d",
   "metadata": {},
   "outputs": [],
   "source": [
    "demand = [0] + list(order_list_df1['Total Weight'])"
   ]
  },
  {
   "cell_type": "code",
   "execution_count": 26,
   "id": "4a74806c",
   "metadata": {},
   "outputs": [
    {
     "data": {
      "text/plain": [
       "13924.0"
      ]
     },
     "execution_count": 26,
     "metadata": {},
     "output_type": "execute_result"
    }
   ],
   "source": [
    "sum(demand)"
   ]
  },
  {
   "cell_type": "code",
   "execution_count": 27,
   "id": "95496a1e",
   "metadata": {},
   "outputs": [],
   "source": [
    "start_time = list(Nodes['start_minutes'])\n",
    "finish_time = list(Nodes['end_minutes'])"
   ]
  },
  {
   "cell_type": "code",
   "execution_count": 28,
   "id": "09b3d1a9",
   "metadata": {},
   "outputs": [],
   "source": [
    "# Constants\n",
    "service_time_customer = 20  \n",
    "service_time_depot = 60 "
   ]
  },
  {
   "cell_type": "code",
   "execution_count": 29,
   "id": "ff271426",
   "metadata": {},
   "outputs": [],
   "source": [
    "dest2 = ['A123'] + sorted(dest)"
   ]
  },
  {
   "cell_type": "code",
   "execution_count": 30,
   "id": "fa104246",
   "metadata": {},
   "outputs": [],
   "source": [
    "dest3 = {} \n",
    "for i in range(len(dest2)):\n",
    "    dest3[dest2[i]] = i"
   ]
  },
  {
   "cell_type": "code",
   "execution_count": 31,
   "id": "cce1ac64",
   "metadata": {},
   "outputs": [
    {
     "data": {
      "text/plain": [
       "{'A123': 0,\n",
       " '10208776': 1,\n",
       " '10210421': 2,\n",
       " '10212373': 3,\n",
       " '10219625': 4,\n",
       " '10310757': 5,\n",
       " '10366979': 6,\n",
       " '11950159': 7,\n",
       " '12219936': 8,\n",
       " '12231175': 9,\n",
       " '12475516': 10,\n",
       " '12475523': 11,\n",
       " '12489344': 12,\n",
       " '12546176': 13,\n",
       " '12779571': 14,\n",
       " '13015040': 15}"
      ]
     },
     "execution_count": 31,
     "metadata": {},
     "output_type": "execute_result"
    }
   ],
   "source": [
    "dest3"
   ]
  },
  {
   "cell_type": "code",
   "execution_count": 32,
   "id": "11f356e5",
   "metadata": {},
   "outputs": [],
   "source": [
    "travel_matrix_df = travel_matrix_df[(travel_matrix_df['source_location_code'].isin(dest + ['A123'])) & (travel_matrix_df['destination_location_code'].isin(dest + ['A123']))]"
   ]
  },
  {
   "cell_type": "code",
   "execution_count": 33,
   "id": "c786610e",
   "metadata": {},
   "outputs": [],
   "source": [
    "travel_matrix_df['mapped_source'] = travel_matrix_df['source_location_code'].map(dest3)\n",
    "travel_matrix_df['mapped_destination'] = travel_matrix_df['destination_location_code'].map(dest3)"
   ]
  },
  {
   "cell_type": "code",
   "execution_count": 34,
   "id": "fdc162bb",
   "metadata": {},
   "outputs": [],
   "source": [
    "dist_matrix = {}\n",
    "time_matrix = {}\n",
    "for i in travel_matrix_df.index:\n",
    "    dist_matrix[(travel_matrix_df['mapped_source'][i], travel_matrix_df['mapped_destination'][i])] = travel_matrix_df['travel_distance_in_km'][i]\n",
    "    time_matrix[(travel_matrix_df['mapped_source'][i], travel_matrix_df['mapped_destination'][i])] = travel_matrix_df['travel_time_in_min'][i]"
   ]
  },
  {
   "cell_type": "code",
   "execution_count": 35,
   "id": "0eb1af62",
   "metadata": {},
   "outputs": [
    {
     "data": {
      "text/plain": [
       "[480,\n",
       " 480,\n",
       " 480,\n",
       " 480,\n",
       " 480,\n",
       " 480,\n",
       " 480,\n",
       " 480,\n",
       " 480,\n",
       " 480,\n",
       " 480,\n",
       " 480,\n",
       " 480,\n",
       " 480,\n",
       " 480,\n",
       " 480]"
      ]
     },
     "execution_count": 35,
     "metadata": {},
     "output_type": "execute_result"
    }
   ],
   "source": [
    "start_time"
   ]
  },
  {
   "cell_type": "code",
   "execution_count": 36,
   "id": "f5065221",
   "metadata": {},
   "outputs": [
    {
     "data": {
      "text/plain": [
       "[1080,\n",
       " 1320,\n",
       " 1320,\n",
       " 1320,\n",
       " 1320,\n",
       " 1320,\n",
       " 1320,\n",
       " 1320,\n",
       " 1320,\n",
       " 1320,\n",
       " 1320,\n",
       " 1320,\n",
       " 1320,\n",
       " 1320,\n",
       " 1320,\n",
       " 1320]"
      ]
     },
     "execution_count": 36,
     "metadata": {},
     "output_type": "execute_result"
    }
   ],
   "source": [
    "finish_time"
   ]
  },
  {
   "cell_type": "code",
   "execution_count": 37,
   "id": "8cb9bb1e",
   "metadata": {},
   "outputs": [
    {
     "data": {
      "text/plain": [
       "[0, 1, 2, 3, 4, 5, 6, 7, 8, 9, 10, 11, 12, 13, 14, 15]"
      ]
     },
     "execution_count": 37,
     "metadata": {},
     "output_type": "execute_result"
    }
   ],
   "source": [
    "nodes"
   ]
  },
  {
   "cell_type": "code",
   "execution_count": 38,
   "id": "854f78ce",
   "metadata": {},
   "outputs": [
    {
     "data": {
      "text/plain": [
       "[1, 2, 3, 4, 5, 6, 7, 8, 9, 10, 11, 12, 13, 14, 15]"
      ]
     },
     "execution_count": 38,
     "metadata": {},
     "output_type": "execute_result"
    }
   ],
   "source": [
    "customers"
   ]
  },
  {
   "cell_type": "code",
   "execution_count": 39,
   "id": "13c103c1",
   "metadata": {
    "scrolled": true
   },
   "outputs": [
    {
     "data": {
      "text/plain": [
       "[0,\n",
       " 1,\n",
       " 2,\n",
       " 3,\n",
       " 4,\n",
       " 5,\n",
       " 6,\n",
       " 7,\n",
       " 8,\n",
       " 9,\n",
       " 10,\n",
       " 11,\n",
       " 12,\n",
       " 13,\n",
       " 14,\n",
       " 15,\n",
       " 16,\n",
       " 17,\n",
       " 18,\n",
       " 19,\n",
       " 20,\n",
       " 21,\n",
       " 22,\n",
       " 23,\n",
       " 24,\n",
       " 25,\n",
       " 26,\n",
       " 27,\n",
       " 28,\n",
       " 29,\n",
       " 30,\n",
       " 31,\n",
       " 32,\n",
       " 33,\n",
       " 34,\n",
       " 35,\n",
       " 36]"
      ]
     },
     "execution_count": 39,
     "metadata": {},
     "output_type": "execute_result"
    }
   ],
   "source": [
    "vehicles"
   ]
  },
  {
   "cell_type": "code",
   "execution_count": 40,
   "id": "aeb59173",
   "metadata": {},
   "outputs": [
    {
     "name": "stdout",
     "output_type": "stream",
     "text": [
      "Set parameter Username\n",
      "Academic license - for non-commercial use only - expires 2025-06-24\n"
     ]
    }
   ],
   "source": [
    "#Decision Variable\n",
    "\n",
    "my_model=gp.Model('CVRPTW')\n",
    "\n",
    "xijk=my_model.addVars(nodes, nodes, vehicles, vtype=GRB.BINARY, name='xijk')\n",
    "sik = my_model.addVars(nodes, vehicles, vtype = GRB.CONTINUOUS, name = 'sik',lb = 0)\n",
    "q = my_model.addVars(customers, vehicles, vtype = GRB.CONTINUOUS, name = 'qjk', lb = 0)\n",
    "I = my_model.addVars(vehicles, vtype = GRB.BINARY, name = 'I')"
   ]
  },
  {
   "cell_type": "code",
   "execution_count": 41,
   "id": "28df5eff",
   "metadata": {},
   "outputs": [],
   "source": [
    "#Objective function\n",
    "obj_fn = (gp.quicksum(dist_matrix[i,j]* gp.quicksum(xijk[i,j,k] for k in vehicles) for i in nodes for j in nodes) +\n",
    "          gp.quicksum(I[k] for k in vehicles)\n",
    "         )\n",
    "\n",
    "my_model.setObjective(obj_fn, GRB.MINIMIZE)\n"
   ]
  },
  {
   "cell_type": "code",
   "execution_count": 42,
   "id": "6407698f",
   "metadata": {},
   "outputs": [],
   "source": [
    "#Source to sink constraints\n",
    "my_model.addConstrs(gp.quicksum(xijk[0,j,k] for j in customers)<=1 for k in vehicles);"
   ]
  },
  {
   "cell_type": "code",
   "execution_count": 43,
   "id": "459037af",
   "metadata": {},
   "outputs": [],
   "source": [
    "my_model.addConstrs(gp.quicksum(xijk[i,0,k] for i in customers)<=1 for k in vehicles);"
   ]
  },
  {
   "cell_type": "code",
   "execution_count": 44,
   "id": "f66819b5",
   "metadata": {},
   "outputs": [],
   "source": [
    "# my_model.addConstr(gp.quicksum(xijk[0,j,k] for j in customers for k in vehicles)<=10);"
   ]
  },
  {
   "cell_type": "code",
   "execution_count": 45,
   "id": "5383c6eb",
   "metadata": {},
   "outputs": [],
   "source": [
    "my_model.addConstrs(gp.quicksum(xijk[i,j,k] for i in nodes)- gp.quicksum(xijk[j,i,k] for i in nodes)==0 \n",
    "                    for j in nodes for k in vehicles);"
   ]
  },
  {
   "cell_type": "code",
   "execution_count": 46,
   "id": "509a5636",
   "metadata": {},
   "outputs": [],
   "source": [
    "#capacity constraints\n",
    "my_model.addConstrs(gp.quicksum(q[j,k] for k in vehicles) == demand[j] \n",
    "                    for j in customers); \n",
    "my_model.addConstrs(gp.quicksum(q[j,k] for j in customers) <= Q[k] for k in vehicles);"
   ]
  },
  {
   "cell_type": "code",
   "execution_count": 47,
   "id": "c1cd068c",
   "metadata": {},
   "outputs": [],
   "source": [
    "my_model.addConstrs(q[j,k] <= Q[k] * gp.quicksum(xijk[i,j,k] for i in nodes) for j in customers for k in vehicles);"
   ]
  },
  {
   "cell_type": "code",
   "execution_count": 48,
   "id": "2c3d9cc0",
   "metadata": {},
   "outputs": [],
   "source": [
    "my_model.addConstrs(sik[i,k] + time_matrix[i,j] + service_time_customer\n",
    "                    - sik[j,k] <= (1-xijk[i,j,k]) *1440\n",
    "                    for i in customers \n",
    "                    for j in customers for k in vehicles);"
   ]
  },
  {
   "cell_type": "code",
   "execution_count": 49,
   "id": "aac22ea1",
   "metadata": {},
   "outputs": [],
   "source": [
    "my_model.addConstrs(sik[i,k] <= finish_time[i] for i in nodes for k in vehicles)\n",
    "                    \n",
    "my_model.addConstrs(sik[i,k] >= start_time[i] for i in nodes for k in vehicles);                                   "
   ]
  },
  {
   "cell_type": "code",
   "execution_count": 50,
   "id": "41a80526",
   "metadata": {},
   "outputs": [],
   "source": [
    "for i in nodes:\n",
    "    for j in nodes:\n",
    "        for k in vehicles:\n",
    "            if Q[k] <= max_veh_access[j] and Q[k] <= max_veh_access[i]:\n",
    "                my_model.addConstr(xijk[i,j,k] <= 1);\n",
    "            else:\n",
    "                my_model.addConstr(xijk[i,j,k] == 0);"
   ]
  },
  {
   "cell_type": "code",
   "execution_count": 51,
   "id": "6487fdc2",
   "metadata": {},
   "outputs": [],
   "source": [
    "my_model.addConstrs(gp.quicksum(xijk[0,j,k] for j in customers) <= I[k] for k in vehicles);"
   ]
  },
  {
   "cell_type": "code",
   "execution_count": 53,
   "id": "a9456bfa",
   "metadata": {},
   "outputs": [
    {
     "name": "stdout",
     "output_type": "stream",
     "text": [
      "Set parameter Heuristics to value 0.6\n"
     ]
    }
   ],
   "source": [
    "my_model.setParam('Heuristics', 0.6)  "
   ]
  },
  {
   "cell_type": "code",
   "execution_count": null,
   "id": "82d628fd",
   "metadata": {},
   "outputs": [
    {
     "name": "stdout",
     "output_type": "stream",
     "text": [
      "Gurobi Optimizer version 11.0.0 build v11.0.0rc2 (win64 - Windows 11+.0 (26100.2))\n",
      "\n",
      "CPU model: AMD Ryzen 5 5500U with Radeon Graphics, instruction set [SSE2|AVX|AVX2]\n",
      "Thread count: 6 physical cores, 12 logical processors, using up to 12 threads\n",
      "\n",
      "Optimize a model with 20291 rows, 10656 columns and 64528 nonzeros\n",
      "Model fingerprint: 0x3b753f0e\n",
      "Variable types: 1147 continuous, 9509 integer (9509 binary)\n",
      "Coefficient statistics:\n",
      "  Matrix range     [1e+00, 2e+04]\n",
      "  Objective range  [1e+00, 2e+02]\n",
      "  Bounds range     [1e+00, 1e+00]\n",
      "  RHS range        [1e+00, 2e+04]\n"
     ]
    },
    {
     "name": "stdout",
     "output_type": "stream",
     "text": [
      "Presolve removed 16331 rows and 6192 columns\n",
      "Presolve time: 0.10s\n",
      "Presolved: 3960 rows, 4464 columns, 22283 nonzeros\n",
      "Variable types: 633 continuous, 3831 integer (3831 binary)\n",
      "Found heuristic solution: objective 1195.5400000\n",
      "\n",
      "Root relaxation: objective 2.802800e+02, 702 iterations, 0.03 seconds (0.02 work units)\n",
      "\n",
      "    Nodes    |    Current Node    |     Objective Bounds      |     Work\n",
      " Expl Unexpl |  Obj  Depth IntInf | Incumbent    BestBd   Gap | It/Node Time\n",
      "\n",
      "     0     0  280.28000    0   28 1195.54000  280.28000  76.6%     -    0s\n",
      "H    0     0                    1144.4400000  280.28000  75.5%     -    0s\n",
      "H    0     0                    1063.0800000  280.28000  73.6%     -    0s\n",
      "     0     0  280.28000    0   28 1063.08000  280.28000  73.6%     -    0s\n",
      "H    0     0                     757.1100000  280.28000  63.0%     -    0s\n",
      "     0     0  280.28000    0   30  757.11000  280.28000  63.0%     -    0s\n",
      "     0     0  280.28000    0   28  757.11000  280.28000  63.0%     -    0s\n",
      "     0     0  280.28000    0   28  757.11000  280.28000  63.0%     -    0s\n",
      "     0     0  308.64429    0   28  757.11000  308.64429  59.2%     -    0s\n",
      "     0     0  308.64429    0   28  757.11000  308.64429  59.2%     -    0s\n",
      "     0     2  308.64429    0   28  757.11000  308.64429  59.2%     -    1s\n",
      "H   31    37                     752.3000000  310.74185  58.7%  47.9    1s\n",
      "H   32    37                     746.1000000  310.74185  58.4%  47.7    1s\n",
      "H   33    37                     744.9600000  310.74185  58.3%  47.1    1s\n",
      "H   70    74                     663.4000000  310.74185  53.2%  36.5    2s\n",
      "H   71    74                     655.3100000  310.74185  52.6%  36.2    2s\n",
      "H  117   114                     654.2600000  310.74185  52.5%  31.8    3s\n",
      "H  118   120                     583.8500000  310.74185  46.8%  31.8    4s\n",
      "H  121   120                     575.1900000  310.74185  46.0%  31.6    4s\n",
      "H  166   166                     572.3500000  310.74185  45.7%  28.7    4s\n",
      "   199   201  442.56781   27   28  572.35000  310.74185  45.7%  27.8    5s\n",
      "H  204   201                     557.4600000  310.74185  44.3%  27.3    5s\n",
      "H  206   201                     546.2300000  310.74185  43.1%  27.1    5s\n",
      "H  224   221                     538.6100000  310.74185  42.3%  26.4    5s\n",
      "H  253   252                     535.9900000  310.74185  42.0%  25.0    6s\n",
      "H  365   351                     533.7800000  310.74185  41.8%  22.7    9s\n",
      "   408   397  500.07428   70   28  533.78000  310.74185  41.8%  21.4   11s\n",
      "H  421   406                     527.2100000  310.74185  41.1%  20.8   11s\n",
      "H  422   404                     519.8000000  310.74185  40.2%  20.8   11s\n",
      "H  523   488                     513.2300000  317.30486  38.2%  19.7   12s\n",
      "   825   739  420.02595   57   18  513.23000  317.30486  38.2%  19.0   15s\n",
      "  1441  1271  454.07925   75   28  513.23000  322.30587  37.2%  18.2   20s\n",
      "  1620  1398  323.16344   25   32  513.23000  322.30587  37.2%  20.4   25s\n",
      "  1876  1565  390.85351   47   19  513.23000  322.30587  37.2%  21.0   30s\n",
      "  2270  1760  335.55272   28   28  513.23000  322.30587  37.2%  21.2   35s\n",
      "  2938  2132  413.92817   82   21  513.23000  322.30587  37.2%  23.3   41s\n",
      "  3607  2489  366.46495   34   24  513.23000  322.30587  37.2%  23.7   45s\n",
      "  4232  2831  361.92290   37   29  513.23000  322.30587  37.2%  22.9   50s\n",
      "  5274  3322  475.65470   57   21  513.23000  322.30587  37.2%  23.0   55s\n",
      "  6440  4264  462.28582   39   26  513.23000  322.30587  37.2%  22.6   60s\n",
      "  7260  4765  483.08523   53   20  513.23000  322.30587  37.2%  22.9   65s\n",
      "  8185  5643  460.22283   91   15  513.23000  322.30587  37.2%  22.9   70s\n",
      "  9486  6630  509.67533   59   38  513.23000  322.30587  37.2%  23.0   75s\n",
      "  9917  7198 infeasible   53       513.23000  322.30587  37.2%  23.3   80s\n",
      " 11903  8554  443.82945   32   18  513.23000  322.30587  37.2%  22.5   86s\n",
      " 12901  9835  375.12078   38   15  513.23000  322.30587  37.2%  22.4   90s\n",
      " 14061  9875 infeasible   49       513.23000  322.30587  37.2%  22.1   95s\n",
      " 14237 10363  488.20654   49   33  513.23000  322.62329  37.1%  22.1  100s\n",
      " 14714 10537  419.44945   20   25  513.23000  322.84823  37.1%  21.9  105s\n",
      " 16164 11961 infeasible   51       513.23000  323.51735  37.0%  22.0  111s\n",
      " 17633 12908  505.02947   60   29  513.23000  324.29817  36.8%  21.7  118s\n",
      " 18014 13576  482.98320   52   36  513.23000  324.37863  36.8%  21.8  121s\n",
      " 19214 14599  482.83525   61   20  513.23000  324.74651  36.7%  21.7  125s\n",
      " 20567 15411  447.05145   44   23  513.23000  325.40142  36.6%  21.5  133s\n",
      " 21083 15971  462.42866   52   27  513.23000  325.57759  36.6%  21.5  135s\n",
      " 22460 16849  490.95885   77   26  513.23000  326.18561  36.4%  21.4  143s\n",
      " 23019 17461  413.06097   30   26  513.23000  326.65292  36.4%  21.3  146s\n",
      " 24655 18916  491.16801   54   18  513.23000  327.21686  36.2%  21.3  151s\n",
      " 25772 18917  487.37953   54   28  513.23000  327.74803  36.1%  21.2  188s\n",
      " 25786 18926  395.77225   41   67  513.23000  327.74803  36.1%  21.1  190s\n",
      " 25805 18939  420.45559   52  119  513.23000  329.75000  35.8%  21.1  195s\n",
      " 25814 18948  357.80224   23   82  513.23000  333.52520  35.0%  21.3  200s\n",
      " 25934 19028  428.39351   36   39  513.23000  340.81909  33.6%  21.7  205s\n",
      " 26029 19090  470.64240   46   55  513.23000  340.81909  33.6%  21.8  210s\n",
      " 26183 19172  482.75613   55   52  513.23000  340.81909  33.6%  21.9  215s\n",
      " 26245 19182  509.16685   60   33  513.23000  340.81909  33.6%  21.9  220s\n",
      " 26573 19403  421.86366   56   31  513.23000  341.63728  33.4%  22.2  225s\n",
      " 27033 19618  376.17182   33   40  513.23000  343.53303  33.1%  22.5  230s\n",
      " 27510 19798  479.86677   86   22  513.23000  343.53303  33.1%  22.6  236s\n",
      " 27787 20030  394.73082   35   45  513.23000  348.20910  32.2%  22.8  241s\n",
      " 28206 20191  450.78613   66   34  513.23000  348.20910  32.2%  23.0  245s\n",
      " 28888 20440  362.82865   34   86  513.23000  350.33180  31.7%  23.2  250s\n",
      " 29530 20910  420.55733   57   28  513.23000  351.06349  31.6%  23.7  256s\n",
      " 30234 21339  390.06005   43   48  513.23000  351.93045  31.4%  23.9  261s\n",
      " 30825 21424  406.78760   36   48  513.23000  352.51928  31.3%  24.2  265s\n",
      " 31601 22007  432.72527   84   26  513.23000  353.01602  31.2%  24.4  270s\n",
      " 32662 22645  461.36243   74   20  513.23000  354.09931  31.0%  24.7  276s\n",
      " 33675 22874 infeasible   53       513.23000  354.27604  31.0%  24.8  282s\n",
      " 33850 23116  442.12463   54   17  513.23000  354.93732  30.8%  24.9  285s\n",
      " 34850 23423  361.20298   42   25  513.23000  355.46788  30.7%  25.1  292s\n",
      " 35063 23691  424.47498   55   26  513.23000  355.48530  30.7%  25.2  295s\n",
      " 36822 24733  401.26832   49   37  513.23000  356.42637  30.6%  25.4  301s\n",
      " 38263 25187  371.39071   48   27  513.23000  356.97532  30.4%  25.7  307s\n",
      " 38710 25783  476.15966   88   22  513.23000  357.17077  30.4%  25.7  310s\n",
      " 40277 25812  413.74894   39   29  513.23000  357.70225  30.3%  26.0  315s\n",
      " 41085 26623  381.20445   48   38  513.23000  358.19249  30.2%  26.0  320s\n",
      " 42446 27078  440.17912   69   19  513.23000  358.61482  30.1%  26.2  325s\n",
      " 43510 27409  439.36492   93   27  513.23000  358.87954  30.1%  26.2  331s\n",
      " 44191 27809  461.20432   67   38  513.23000  359.15544  30.0%  26.4  336s\n",
      " 45248 28499  381.87818   48   45  513.23000  359.36915  30.0%  26.7  341s\n",
      " 46481 29131  374.05726   43   36  513.23000  359.57292  29.9%  26.7  346s\n",
      " 47624 29275  394.91911   49   37  513.23000  359.73161  29.9%  26.9  351s\n",
      " 48598 30059  458.83909   89   22  513.23000  360.20404  29.8%  27.1  356s\n",
      " 49806 30754  437.81004   59   32  513.23000  360.38222  29.8%  27.2  361s\n",
      " 51095 30865  505.14933  141   22  513.23000  360.53800  29.8%  27.3  371s\n",
      " 52382 31466  401.10174   60   53  513.23000  360.88188  29.7%  27.4  376s\n",
      " 53196 32317  482.34101  136   27  513.23000  360.94901  29.7%  27.6  381s\n",
      " 54001 32359  433.02406   65   21  513.23000  361.17955  29.6%  27.6  385s\n",
      " 55242 33160  426.55521   56   36  513.23000  361.40474  29.6%  27.8  390s\n",
      " 56453 33380  475.91222  125   20  513.23000  361.50478  29.6%  27.9  396s\n",
      " 57563 34092  391.65101   44   46  513.23000  361.76710  29.5%  27.9  401s\n",
      " 59050 34777  433.80970   56   33  513.23000  362.05764  29.5%  27.9  406s\n",
      " 60025 34810  474.51540   77   17  513.23000  362.28276  29.4%  27.9  413s\n",
      " 60174 35328  417.14085   64   26  513.23000  362.31217  29.4%  27.9  415s\n",
      " 61324 36074  392.27550   53   49  513.23000  362.46013  29.4%  28.0  420s\n",
      " 63150 36336  381.31240   47   34  513.23000  362.79007  29.3%  28.0  426s\n",
      " 64120 37146  433.78152   47   35  513.23000  362.96652  29.3%  28.0  433s\n",
      " 64854 37109  432.61155   71   23  513.23000  362.96652  29.3%  28.0  437s\n",
      " 65064 37975  469.19756  105   14  513.23000  362.96652  29.3%  28.1  441s\n",
      " 66950 38069  447.86178   67   20  513.23000  363.16925  29.2%  28.2  447s\n",
      " 67142 38464  448.36064   68   26  513.23000  363.18460  29.2%  28.2  450s\n",
      " 68185 39080  402.36791   41   33  513.23000  363.39808  29.2%  28.2  455s\n",
      " 70069 39492  365.67120   44   28  513.23000  363.61766  29.2%  28.3  461s\n",
      " 71256 40298  443.15643   85   39  513.23000  363.69133  29.1%  28.3  466s\n",
      " 72543 40814  421.88186   74   32  513.23000  363.87023  29.1%  28.3  471s\n",
      " 74128 41263  427.43686   50   44  513.23000  364.09456  29.1%  28.3  476s\n",
      " 75063 41662  373.08514   43   37  513.23000  364.11276  29.1%  28.4  481s\n",
      " 76064 42515  497.66988  137   18  513.23000  364.24589  29.0%  28.5  486s\n",
      " 76795 42987  447.81866   48   42  513.23000  364.36319  29.0%  28.5  490s\n",
      " 77831 43412     cutoff   92       513.23000  364.42891  29.0%  28.6  496s\n",
      " 78582 43467  468.99162   83   23  513.23000  364.50087  29.0%  28.7  500s\n",
      " 79423 44407  387.64859   51   17  513.23000  364.58911  29.0%  28.7  507s\n",
      " 80466 44429  499.07235   76   31  513.23000  364.68490  28.9%  28.7  511s\n",
      " 82176 45559  450.60924   52   32  513.23000  364.98276  28.9%  28.7  517s\n",
      " 83066 45876  510.47587   80   45  513.23000  365.01183  28.9%  28.7  520s\n",
      " 84185 46691  464.77474   76   19  513.23000  365.15432  28.9%  28.6  525s\n",
      " 84704 47359  430.34483   69   30  513.23000  365.16842  28.8%  28.7  530s\n",
      " 85736 48118  401.63766   51   29  513.23000  365.36026  28.8%  28.6  535s\n",
      " 87066 48994  389.81483   42   41  513.23000  365.48947  28.8%  28.8  541s\n",
      " 88303 49787  392.58617   49   37  513.23000  365.56946  28.8%  28.7  547s\n",
      " 88612 50258  454.54143   75   25  513.23000  365.58789  28.8%  28.8  550s\n",
      " 90074 51651  426.43746   46   62  513.23000  365.70485  28.7%  28.9  556s\n",
      " 91166 52488  430.41275   56   30  513.23000  365.79450  28.7%  28.9  561s\n",
      " 92403 52959  447.14579   86   52  513.23000  365.82186  28.7%  29.0  567s\n",
      " 92492 53497  475.59801   95   35  513.23000  365.85626  28.7%  29.0  570s\n",
      " 93880 53979  426.69750   72   37  513.23000  365.91445  28.7%  29.1  579s\n",
      " 94030 54599  427.56545   73   34  513.23000  365.91445  28.7%  29.1  582s\n",
      " 95438 55850  415.87408   54   43  513.23000  366.11460  28.7%  29.2  587s\n",
      " 97112 56735  456.10627   66   58  513.23000  366.26016  28.6%  29.2  592s\n",
      " 97499 57560  418.67344   58   28  513.23000  366.26016  28.6%  29.3  595s\n",
      " 98964 58483  459.24727   61   16  513.23000  366.39237  28.6%  29.2  601s\n",
      " 100475 59485  481.27506   73   27  513.23000  366.50350  28.6%  29.2  607s\n",
      " 101060 59884  379.43912   47   35  513.23000  366.50350  28.6%  29.2  611s\n",
      " 102252 60810  486.65399  148   23  513.23000  366.58551  28.6%  29.2  616s\n",
      " 103807 62037  400.65433   63   40  513.23000  366.70862  28.5%  29.3  621s\n",
      " 104840 62873  421.33633   68   27  513.23000  366.76846  28.5%  29.3  625s\n",
      " 105554 63481  493.87601  138   19  513.23000  366.82447  28.5%  29.3  630s\n",
      " 106950 64104  457.66242   73   35  513.23000  366.94748  28.5%  29.3  635s\n",
      " 107327 64735  482.62785  108   34  513.23000  366.94805  28.5%  29.3  641s\n",
      " 108738 65958  500.89652   86   22  513.23000  367.14449  28.5%  29.3  645s\n",
      " 109994 66852  500.07058   75   19  513.23000  367.22185  28.4%  29.3  652s\n",
      " 110639 67179  463.67061   71   55  513.23000  367.28137  28.4%  29.3  655s\n",
      " 111222 67737  376.22075   51   24  513.23000  367.32366  28.4%  29.4  660s\n",
      " 112526 68359  376.86862   41   64  513.23000  367.42339  28.4%  29.5  666s\n",
      " 113480 69484  488.62844  101   59  513.23000  367.44271  28.4%  29.5  671s\n",
      " 114626 70444  400.58310   48   36  513.23000  367.53427  28.4%  29.6  676s\n",
      " 115726 71878  425.97346   54   37  513.23000  367.60105  28.4%  29.7  686s\n",
      " 118027 73050  488.59148  109   21  513.23000  367.76747  28.3%  29.6  692s\n",
      " 118785 73099  468.44998   90   29  513.23000  367.81297  28.3%  29.7  695s\n",
      "H118835 72922                     510.7600000  367.81297  28.0%  29.7  695s\n",
      " 118843 73395  444.06759   72   35  510.76000  367.81791  28.0%  29.7  700s\n",
      " 120499 74732  505.59947   70   35  510.76000  367.98999  28.0%  29.7  705s\n",
      " 122043 76148  489.83071   85   22  510.76000  368.05378  27.9%  29.8  711s\n",
      " 123365 77180  379.25347   52   43  510.76000  368.12899  27.9%  29.7  716s\n",
      " 125019 78314  496.70915   80   26  510.76000  368.33710  27.9%  29.7  721s\n",
      " 126115 79073  462.53419   88   19  510.76000  368.39241  27.9%  29.8  725s\n",
      " 126595 79687  466.29796   83   27  510.76000  368.42749  27.9%  29.8  735s\n",
      " 128018 80793  501.70135   88   26  510.76000  368.50199  27.9%  29.8  741s\n",
      " 128766 80867  477.34444   90   47  510.76000  368.55999  27.8%  29.8  745s\n",
      " 129925 82084  442.57297   51   38  510.76000  368.65183  27.8%  29.8  750s\n",
      " 131151 83154  377.16531   49   64  510.76000  368.74708  27.8%  29.8  755s\n",
      " 132336 83596  454.59473   97   24  510.76000  368.80774  27.8%  29.8  761s\n",
      " 132557 83981  457.69741  114   31  510.76000  368.80774  27.8%  29.8  767s\n",
      " 132981 84443  486.15392  151   32  510.76000  368.80774  27.8%  29.8  770s\n",
      " 134143 85328  431.34840   67   28  510.76000  368.88999  27.8%  29.8  776s\n",
      " 135526 86259  392.59906   49   38  510.76000  369.03404  27.7%  29.8  782s\n",
      " 136911 87247  504.67164   82   27  510.76000  369.08239  27.7%  29.8  787s\n",
      " 137276 87544  440.16181   58   25  510.76000  369.08244  27.7%  29.8  790s\n",
      " 138482 88641  384.43551   49   38  510.76000  369.19185  27.7%  29.9  797s\n",
      " 139623 89390  382.34382   45   54  510.76000  369.22934  27.7%  29.9  802s\n",
      " 140903 90609  457.42119  110   27  510.76000  369.31691  27.7%  30.0  807s\n",
      " 141822 91176  428.31158   61   21  510.76000  369.35477  27.7%  30.0  810s\n",
      " 142530 91211  421.30833   72   16  510.76000  369.39121  27.7%  30.0  820s\n",
      " 143536 92458  382.35487   48   44  510.76000  369.45325  27.7%  30.0  827s\n",
      " 144681 93404  503.20951   94   12  510.76000  369.47268  27.7%  30.0  832s\n",
      " 145437 93697  425.65458   63   36  510.76000  369.52853  27.7%  30.0  836s\n",
      " 146575 94784  492.19579   89   35  510.76000  369.58059  27.6%  30.0  842s\n",
      " 147909 95674  438.46304   58   35  510.76000  369.65948  27.6%  30.0  848s\n",
      " 148356 96027  464.42577   69   18  510.76000  369.68158  27.6%  30.0  852s\n",
      " 149477 97193  384.61649   49   43  510.76000  369.71399  27.6%  30.1  856s\n",
      " 150846 98194  445.35255   73   21  510.76000  369.77318  27.6%  30.1  862s\n",
      " 151475 98501  392.14668   46   68  510.76000  369.82255  27.6%  30.1  866s\n",
      " 151860 99073  453.35512   62   30  510.76000  369.85397  27.6%  30.1  870s\n",
      " 153266 99892  377.10834   43   55  510.76000  369.91913  27.6%  30.1  877s\n",
      " 153775 100273  479.48479   69   14  510.76000  369.96102  27.6%  30.1  883s\n",
      " 154286 100722  409.45275   47   30  510.76000  369.96757  27.6%  30.1  887s\n",
      " 154877 101811  482.97966  127   26  510.76000  369.99673  27.6%  30.1  891s\n",
      " 156317 102371  413.82689   53   61  510.76000  370.10171  27.5%  30.1  895s\n",
      " 157153 102922  423.10463   43   29  510.76000  370.14466  27.5%  30.1  902s\n"
     ]
    },
    {
     "ename": "KeyboardInterrupt",
     "evalue": "",
     "output_type": "error",
     "traceback": [
      "\u001b[1;31m---------------------------------------------------------------------------\u001b[0m",
      "\u001b[1;31mKeyboardInterrupt\u001b[0m                         Traceback (most recent call last)",
      "File \u001b[1;32m~\\AppData\\Roaming\\Python\\Python312\\site-packages\\ipykernel\\iostream.py:655\u001b[0m, in \u001b[0;36mOutStream.write\u001b[1;34m(self, string)\u001b[0m\n\u001b[0;32m    647\u001b[0m                     \u001b[38;5;28;01mreturn\u001b[39;00m\n\u001b[0;32m    649\u001b[0m             \u001b[38;5;28mself\u001b[39m\u001b[38;5;241m.\u001b[39msession\u001b[38;5;241m.\u001b[39msend(\n\u001b[0;32m    650\u001b[0m                 \u001b[38;5;28mself\u001b[39m\u001b[38;5;241m.\u001b[39mpub_thread,\n\u001b[0;32m    651\u001b[0m                 msg,\n\u001b[0;32m    652\u001b[0m                 ident\u001b[38;5;241m=\u001b[39m\u001b[38;5;28mself\u001b[39m\u001b[38;5;241m.\u001b[39mtopic,\n\u001b[0;32m    653\u001b[0m             )\n\u001b[1;32m--> 655\u001b[0m \u001b[38;5;28;01mdef\u001b[39;00m \u001b[38;5;21mwrite\u001b[39m(\u001b[38;5;28mself\u001b[39m, string: \u001b[38;5;28mstr\u001b[39m) \u001b[38;5;241m-\u001b[39m\u001b[38;5;241m>\u001b[39m Optional[\u001b[38;5;28mint\u001b[39m]:  \u001b[38;5;66;03m# type:ignore[override]\u001b[39;00m\n\u001b[0;32m    656\u001b[0m \u001b[38;5;250m    \u001b[39m\u001b[38;5;124;03m\"\"\"Write to current stream after encoding if necessary\u001b[39;00m\n\u001b[0;32m    657\u001b[0m \n\u001b[0;32m    658\u001b[0m \u001b[38;5;124;03m    Returns\u001b[39;00m\n\u001b[1;32m   (...)\u001b[0m\n\u001b[0;32m    662\u001b[0m \n\u001b[0;32m    663\u001b[0m \u001b[38;5;124;03m    \"\"\"\u001b[39;00m\n\u001b[0;32m    664\u001b[0m     parent \u001b[38;5;241m=\u001b[39m \u001b[38;5;28mself\u001b[39m\u001b[38;5;241m.\u001b[39mparent_header\n",
      "\u001b[1;31mKeyboardInterrupt\u001b[0m: "
     ]
    },
    {
     "name": "stderr",
     "output_type": "stream",
     "text": [
      "Exception ignored in: 'gurobipy.logcallbackstub'\n",
      "Traceback (most recent call last):\n",
      "  File \"C:\\Users\\Acer\\AppData\\Roaming\\Python\\Python312\\site-packages\\ipykernel\\iostream.py\", line 655, in write\n",
      "    def write(self, string: str) -> Optional[int]:  # type:ignore[override]\n",
      "\n",
      "KeyboardInterrupt: \n"
     ]
    },
    {
     "name": "stdout",
     "output_type": "stream",
     "text": [
      " 159440 104813 infeasible   74       510.76000  370.29825  27.5%  30.1  910s\n"
     ]
    }
   ],
   "source": [
    "my_model.optimize()"
   ]
  },
  {
   "cell_type": "code",
   "execution_count": 225,
   "id": "e54fb55d",
   "metadata": {
    "scrolled": true
   },
   "outputs": [
    {
     "name": "stdout",
     "output_type": "stream",
     "text": [
      "Non-zero values of x:\n",
      "x_0_2_29 = 1.0\n",
      "x_0_8_2 = 1.0\n",
      "x_0_10_5 = 1.0\n",
      "x_0_11_0 = 1.0\n",
      "x_0_14_3 = 1.0\n",
      "x_0_14_8 = 1.0\n",
      "x_0_15_23 = 1.0\n",
      "x_1_0_5 = 1.0\n",
      "x_1_11_8 = 1.0\n",
      "x_2_0_29 = 1.0\n",
      "x_3_0_2 = 1.0\n",
      "x_4_0_23 = 1.0\n",
      "x_4_13_5 = 1.0\n",
      "x_5_3_2 = 1.0\n",
      "x_6_0_0 = 1.0\n",
      "x_7_10_0 = 1.0\n",
      "x_8_5_2 = 1.0\n",
      "x_9_1_5 = 1.0\n",
      "x_10_1_8 = 1.0\n",
      "x_10_4_5 = 1.0\n",
      "x_10_6_0 = 1.0\n",
      "x_11_0_8 = 1.0\n",
      "x_11_7_0 = 1.0\n",
      "x_11_9_5 = 1.0\n",
      "x_12_10_8 = 1.0\n",
      "x_13_11_5 = 1.0\n",
      "x_14_0_3 = 1.0\n",
      "x_14_12_8 = 1.0\n",
      "x_15_4_23 = 1.0\n"
     ]
    }
   ],
   "source": [
    "# Create a new dictionary to store non-zero values\n",
    "non_zero_xijk = {}\n",
    "\n",
    "# Iterate over all keys and values in xijk\n",
    "for (i, j, k), value in xijk.items():\n",
    "    # Check if the value is a Gurobi variable\n",
    "    if hasattr(value, \"X\"):  # If it's a Gurobi variable, use .X to get the optimized value\n",
    "        if value.X > 0.5:  # Filter for non-zero values\n",
    "            non_zero_xijk[(i, j, k)] = value.X\n",
    "    else:  # Otherwise, assume it's a numeric value\n",
    "        if value > 0.5:  # Filter for non-zero values\n",
    "            non_zero_xijk[(i, j, k)] = value\n",
    "\n",
    "# Print the non-zero values\n",
    "print(\"Non-zero values of x:\")\n",
    "for (i, j, k), value in non_zero_xijk.items():\n",
    "    print(f\"x_{i}_{j}_{k} = {value}\")\n"
   ]
  },
  {
   "cell_type": "code",
   "execution_count": 226,
   "id": "47507b98",
   "metadata": {},
   "outputs": [
    {
     "name": "stdout",
     "output_type": "stream",
     "text": [
      "Vehicle 29 Route: [(0, 2), (2, 0)]\n",
      "Vehicle 2 Route: [(0, 8), (3, 0), (5, 3), (8, 5)]\n",
      "Vehicle 5 Route: [(0, 10), (1, 0), (4, 13), (9, 1), (10, 4), (11, 9), (13, 11)]\n",
      "Vehicle 0 Route: [(0, 11), (6, 0), (7, 10), (10, 6), (11, 7)]\n",
      "Vehicle 3 Route: [(0, 14), (14, 0)]\n",
      "Vehicle 8 Route: [(0, 14), (1, 11), (10, 1), (11, 0), (12, 10), (14, 12)]\n",
      "Vehicle 23 Route: [(0, 15), (4, 0), (15, 4)]\n"
     ]
    }
   ],
   "source": [
    "# Create a dictionary to store routes for each vehicle\n",
    "vehicle_routes = {}\n",
    "\n",
    "# Iterate over the non_zero_xijk dictionary to create routes\n",
    "for (i, j, k), value in non_zero_xijk.items():\n",
    "    if value == 1.0:\n",
    "        if k not in vehicle_routes:\n",
    "            vehicle_routes[k] = []  # Create a list for each vehicle if not already created\n",
    "        vehicle_routes[k].append((i, j))\n",
    "\n",
    "# Display the routes for each vehicle\n",
    "for vehicle, route in vehicle_routes.items():\n",
    "    print(f\"Vehicle {vehicle} Route: {route}\")"
   ]
  },
  {
   "cell_type": "code",
   "execution_count": 227,
   "id": "3cce2fd7",
   "metadata": {},
   "outputs": [
    {
     "data": {
      "text/plain": [
       "[17000,\n",
       " 7000,\n",
       " 9200,\n",
       " 2800,\n",
       " 9200,\n",
       " 2800,\n",
       " 2800,\n",
       " 7000,\n",
       " 2800,\n",
       " 2800,\n",
       " 7000,\n",
       " 2800,\n",
       " 9200,\n",
       " 2800,\n",
       " 17000,\n",
       " 9200]"
      ]
     },
     "execution_count": 227,
     "metadata": {},
     "output_type": "execute_result"
    }
   ],
   "source": [
    "max_veh_access"
   ]
  },
  {
   "cell_type": "code",
   "execution_count": 228,
   "id": "91376fee",
   "metadata": {},
   "outputs": [
    {
     "data": {
      "text/plain": [
       "{(1, 5): 611.0,\n",
       " (2, 29): 2299.0,\n",
       " (3, 2): 209.0,\n",
       " (4, 23): 2200.0,\n",
       " (5, 2): 310.0,\n",
       " (6, 0): 304.0,\n",
       " (7, 0): 1532.0,\n",
       " (8, 2): 311.0,\n",
       " (9, 5): 84.0,\n",
       " (10, 0): 604.0,\n",
       " (11, 5): 350.0,\n",
       " (11, 8): 710.0,\n",
       " (12, 8): 2090.0,\n",
       " (13, 5): 836.0,\n",
       " (14, 3): 1254.0,\n",
       " (15, 23): 220.0}"
      ]
     },
     "execution_count": 228,
     "metadata": {},
     "output_type": "execute_result"
    }
   ],
   "source": [
    "non_zero_q = {(i,k):q[i,k].X for i in customers for k in vehicles if q[i,k].X > 0.1}\n",
    "non_zero_q"
   ]
  },
  {
   "cell_type": "code",
   "execution_count": 229,
   "id": "8238bdef",
   "metadata": {},
   "outputs": [
    {
     "data": {
      "text/plain": [
       "[0,\n",
       " 611.0,\n",
       " 2299.0,\n",
       " 209.0,\n",
       " 2200.0,\n",
       " 310.0,\n",
       " 304.0,\n",
       " 1532.0,\n",
       " 311.0,\n",
       " 84.0,\n",
       " 604.0,\n",
       " 1060.0,\n",
       " 2090.0,\n",
       " 836.0,\n",
       " 1254.0,\n",
       " 220.0]"
      ]
     },
     "execution_count": 229,
     "metadata": {},
     "output_type": "execute_result"
    }
   ],
   "source": [
    "demand"
   ]
  },
  {
   "cell_type": "code",
   "execution_count": 230,
   "id": "2bc494c3",
   "metadata": {},
   "outputs": [
    {
     "data": {
      "text/plain": [
       "{0: <gurobi.Var I[0] (value 1.0)>,\n",
       " 1: <gurobi.Var I[1] (value -0.0)>,\n",
       " 2: <gurobi.Var I[2] (value 1.0)>,\n",
       " 3: <gurobi.Var I[3] (value 1.0)>,\n",
       " 4: <gurobi.Var I[4] (value -0.0)>,\n",
       " 5: <gurobi.Var I[5] (value 1.0)>,\n",
       " 6: <gurobi.Var I[6] (value -0.0)>,\n",
       " 7: <gurobi.Var I[7] (value -0.0)>,\n",
       " 8: <gurobi.Var I[8] (value 1.0)>,\n",
       " 9: <gurobi.Var I[9] (value -0.0)>,\n",
       " 10: <gurobi.Var I[10] (value 0.0)>,\n",
       " 11: <gurobi.Var I[11] (value 0.0)>,\n",
       " 12: <gurobi.Var I[12] (value 0.0)>,\n",
       " 13: <gurobi.Var I[13] (value 0.0)>,\n",
       " 14: <gurobi.Var I[14] (value 0.0)>,\n",
       " 15: <gurobi.Var I[15] (value 0.0)>,\n",
       " 16: <gurobi.Var I[16] (value 0.0)>,\n",
       " 17: <gurobi.Var I[17] (value 0.0)>,\n",
       " 18: <gurobi.Var I[18] (value 0.0)>,\n",
       " 19: <gurobi.Var I[19] (value 0.0)>,\n",
       " 20: <gurobi.Var I[20] (value 0.0)>,\n",
       " 21: <gurobi.Var I[21] (value 0.0)>,\n",
       " 22: <gurobi.Var I[22] (value 0.0)>,\n",
       " 23: <gurobi.Var I[23] (value 1.0)>,\n",
       " 24: <gurobi.Var I[24] (value 0.0)>,\n",
       " 25: <gurobi.Var I[25] (value 0.0)>,\n",
       " 26: <gurobi.Var I[26] (value 0.0)>,\n",
       " 27: <gurobi.Var I[27] (value 0.0)>,\n",
       " 28: <gurobi.Var I[28] (value -0.0)>,\n",
       " 29: <gurobi.Var I[29] (value 1.0)>,\n",
       " 30: <gurobi.Var I[30] (value -0.0)>,\n",
       " 31: <gurobi.Var I[31] (value -0.0)>,\n",
       " 32: <gurobi.Var I[32] (value 0.0)>,\n",
       " 33: <gurobi.Var I[33] (value -0.0)>,\n",
       " 34: <gurobi.Var I[34] (value 0.0)>,\n",
       " 35: <gurobi.Var I[35] (value -0.0)>,\n",
       " 36: <gurobi.Var I[36] (value -0.0)>}"
      ]
     },
     "execution_count": 230,
     "metadata": {},
     "output_type": "execute_result"
    }
   ],
   "source": [
    "I"
   ]
  },
  {
   "cell_type": "code",
   "execution_count": 231,
   "id": "ada3ef6c",
   "metadata": {},
   "outputs": [],
   "source": [
    "#use dest3 for reverse mapping into location codes from index"
   ]
  },
  {
   "cell_type": "code",
   "execution_count": null,
   "id": "b08ea14b",
   "metadata": {},
   "outputs": [],
   "source": []
  }
 ],
 "metadata": {
  "kernelspec": {
   "display_name": "Python 3",
   "language": "python",
   "name": "python3"
  },
  "language_info": {
   "codemirror_mode": {
    "name": "ipython",
    "version": 3
   },
   "file_extension": ".py",
   "mimetype": "text/x-python",
   "name": "python",
   "nbconvert_exporter": "python",
   "pygments_lexer": "ipython3",
   "version": "3.12.2"
  }
 },
 "nbformat": 4,
 "nbformat_minor": 5
}
