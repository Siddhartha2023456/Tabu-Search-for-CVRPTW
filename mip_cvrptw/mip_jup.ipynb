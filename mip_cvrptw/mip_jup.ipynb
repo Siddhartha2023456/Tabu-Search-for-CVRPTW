{
 "cells": [
  {
   "cell_type": "code",
   "execution_count": 29,
   "metadata": {},
   "outputs": [],
   "source": [
    "# import json\n",
    "\n",
    "# # Specify the path to the JSON file\n",
    "# file_path = 'inputs/solver_params_26.json'\n",
    "    \n",
    "\n",
    "# # Open and load the JSON file\n",
    "# with open(file_path, 'r') as file:\n",
    "#     data = json.load(file)\n",
    "\n",
    "# # Print the loaded data\n",
    "# print(data)\n",
    "\n",
    "data = {'numNodes': 8, 'loc_ids': ['PLC-9e64068d-0315-40f2-86b8-f1127a31981a', 'PLC-d22fba1b-b955-4030-b995-94fd0658ddd1', 'PLC-b4276938-dc67-4d61-a977-88aa5fc512e4', 'PLC-bdb8661a-7b36-4c7b-9b04-6bb507470fda', 'PLC-7b034c4e-257b-4d2a-814f-8567c6370f64', 'PLC-964323a4-11f7-4992-85af-d4b9bdd96001', 'PLC-f336a43b-345c-4f8d-a009-637024141c88', 'PLC-2c7b97d7-0d89-45d3-98ff-dc0bf9004e4e'], 'costs': [[0, 68.262, 58.493, 234.233, 157.275, 230.117, 656.132, 108.679], [68.262, 0, 24.302, 166.294, 95.279, 162.127, 703.504, 68.121], [58.493, 24.302, 0, 178.583, 98.81, 174.631, 679.801, 55.353], [234.233, 166.294, 178.583, 0, 90.373, 4.425, 819.063, 153.952], [157.275, 95.279, 98.81, 90.373, 0, 87.391, 731.915, 63.876], [230.117, 162.127, 174.631, 4.425, 87.391, 0, 816.933, 150.779], [656.132, 703.504, 679.801, 819.063, 731.915, 816.933, 0, 673.805], [108.679, 68.121, 55.353, 153.952, 63.876, 150.779, 673.805, 0]], 'durations': [[0, 164, 140, 562, 377, 552, 1575, 261], [164, 0, 58, 399, 229, 389, 1688, 163], [140, 58, 0, 429, 237, 419, 1632, 133], [562, 399, 429, 0, 217, 11, 1966, 369], [377, 229, 237, 217, 0, 210, 1757, 153], [552, 389, 419, 11, 210, 0, 1961, 362], [1575, 1688, 1632, 1966, 1757, 1961, 0, 1617], [261, 163, 133, 369, 153, 362, 1617, 0]], 'timeWindows': [[0, 144000], [0, 144000], [0, 144000], [0, 144000], [0, 144000], [0, 144000], [0, 144000], [0, 144000]], 'demands': [[0, 0, 0, 0, 0, 0, 0, 0], [270.17499999999995, 270.17499999999995, 270.17499999999995, 270.17499999999995, 270.17499999999995, 270.17499999999995, 270.17499999999995, 270.17499999999995], [88.474, 88.474, 88.474, 88.474, 88.474, 88.474, 88.474, 88.474], [567.91, 567.91, 567.91, 567.91, 567.91, 567.91, 567.91, 567.91], [59.510999999999996, 59.510999999999996, 59.510999999999996, 59.510999999999996, 59.510999999999996, 59.510999999999996, 59.510999999999996, 59.510999999999996], [123.723, 123.723, 123.723, 123.723, 123.723, 123.723, 123.723, 123.723], [543.998, 543.998, 543.998, 543.998, 543.998, 543.998, 543.998, 543.998], [149.78599999999997, 149.78599999999997, 149.78599999999997, 149.78599999999997, 149.78599999999997, 149.78599999999997, 149.78599999999997, 149.78599999999997]], 'max_weight': [5500, 3500, 4500, 600, 1200, 5000], 'max_volume': [777, 425, 635, 106, 265, 706], 'hop_fare': [1000, 1000, 1000, 1000, 1000, 1000], 'perKmCostPerVehicle': [32, 22, 25, 13, 19, 28], 'weight_matrix': [0, 0.005, 0.005, 0.008, 0.005, 0.005, 0.005, 0.005, 0.005, 0.005, 0.005, 0.005, 0.005, 0.002, 0.002, 0.023, 0.003, 0.005, 0.004, 0.002, 0.003, 0.003, 0.008, 0.003, 0.005, 0.008, 0.003, 0.005, 0.028, 0.005, 0.003, 0.009000000000000001, 0.005, 0.009000000000000001, 0.009000000000000001, 0.005, 0.005, 0.003, 0.005, 0.007, 0.003, 0.005, 0.025, 0.02, 0.015, 0.005, 0.015, 0.05, 0.001, 0.009000000000000001, 0.005, 0.035, 0.01, 0.01, 0.015, 0.01, 0.01, 0.02, 0.02, 0.03, 0.01, 0.005, 0.025, 0.02, 0.005, 0.02, 0.005, 0.005, 0.02, 0.003, 0.04, 0.03, 0.02, 0.025, 0.02, 0.06, 0.005], 'volume_matrix': [0, 19.955000000000002, 15.184999999999999, 14.696, 18.365000000000002, 14.835, 8.3, 8.655000000000001, 14.125, 6.18, 7.945, 7.42, 14.125, 2.332, 5.934, 28.428, 4.452, 7.065, 11.3, 4.308, 5.511, 3.4979999999999998, 14.696, 8.901, 8.3, 13.848, 8.475000000000001, 7.945, 34.608, 6.535, 7.098000000000001, 16.533, 7.595000000000001, 15.579, 11.124, 7.945, 8.475, 7.098000000000001, 14.125, 27.937, 11.973, 9.185, 45.925, 73.46000000000001, 44.505, 8.3, 25.965, 167.75, 2.825, 25.425, 7.945, 43.26, 16.95, 14.13, 42.375, 23.66, 18.37, 34.620000000000005, 31.78, 37.08, 16.95, 15.89, 35.325, 56.5, 11.83, 36.74, 9.004999999999999, 13.420000000000002, 34.620000000000005, 5.1930000000000005, 114.44000000000001, 84.75, 24.72, 42.375, 63.56, 89.03999999999999, 14.305000000000001], 'location_matrix': ['PLC-9e64068d-0315-40f2-86b8-f1127a31981a', 'PLC-2c7b97d7-0d89-45d3-98ff-dc0bf9004e4e', 'PLC-2c7b97d7-0d89-45d3-98ff-dc0bf9004e4e', 'PLC-2c7b97d7-0d89-45d3-98ff-dc0bf9004e4e', 'PLC-2c7b97d7-0d89-45d3-98ff-dc0bf9004e4e', 'PLC-2c7b97d7-0d89-45d3-98ff-dc0bf9004e4e', 'PLC-2c7b97d7-0d89-45d3-98ff-dc0bf9004e4e', 'PLC-2c7b97d7-0d89-45d3-98ff-dc0bf9004e4e', 'PLC-2c7b97d7-0d89-45d3-98ff-dc0bf9004e4e', 'PLC-2c7b97d7-0d89-45d3-98ff-dc0bf9004e4e', 'PLC-2c7b97d7-0d89-45d3-98ff-dc0bf9004e4e', 'PLC-2c7b97d7-0d89-45d3-98ff-dc0bf9004e4e', 'PLC-2c7b97d7-0d89-45d3-98ff-dc0bf9004e4e', 'PLC-7b034c4e-257b-4d2a-814f-8567c6370f64', 'PLC-7b034c4e-257b-4d2a-814f-8567c6370f64', 'PLC-7b034c4e-257b-4d2a-814f-8567c6370f64', 'PLC-7b034c4e-257b-4d2a-814f-8567c6370f64', 'PLC-7b034c4e-257b-4d2a-814f-8567c6370f64', 'PLC-7b034c4e-257b-4d2a-814f-8567c6370f64', 'PLC-964323a4-11f7-4992-85af-d4b9bdd96001', 'PLC-964323a4-11f7-4992-85af-d4b9bdd96001', 'PLC-964323a4-11f7-4992-85af-d4b9bdd96001', 'PLC-964323a4-11f7-4992-85af-d4b9bdd96001', 'PLC-964323a4-11f7-4992-85af-d4b9bdd96001', 'PLC-964323a4-11f7-4992-85af-d4b9bdd96001', 'PLC-964323a4-11f7-4992-85af-d4b9bdd96001', 'PLC-964323a4-11f7-4992-85af-d4b9bdd96001', 'PLC-964323a4-11f7-4992-85af-d4b9bdd96001', 'PLC-964323a4-11f7-4992-85af-d4b9bdd96001', 'PLC-964323a4-11f7-4992-85af-d4b9bdd96001', 'PLC-964323a4-11f7-4992-85af-d4b9bdd96001', 'PLC-b4276938-dc67-4d61-a977-88aa5fc512e4', 'PLC-b4276938-dc67-4d61-a977-88aa5fc512e4', 'PLC-b4276938-dc67-4d61-a977-88aa5fc512e4', 'PLC-b4276938-dc67-4d61-a977-88aa5fc512e4', 'PLC-b4276938-dc67-4d61-a977-88aa5fc512e4', 'PLC-b4276938-dc67-4d61-a977-88aa5fc512e4', 'PLC-b4276938-dc67-4d61-a977-88aa5fc512e4', 'PLC-b4276938-dc67-4d61-a977-88aa5fc512e4', 'PLC-bdb8661a-7b36-4c7b-9b04-6bb507470fda', 'PLC-bdb8661a-7b36-4c7b-9b04-6bb507470fda', 'PLC-bdb8661a-7b36-4c7b-9b04-6bb507470fda', 'PLC-bdb8661a-7b36-4c7b-9b04-6bb507470fda', 'PLC-bdb8661a-7b36-4c7b-9b04-6bb507470fda', 'PLC-bdb8661a-7b36-4c7b-9b04-6bb507470fda', 'PLC-bdb8661a-7b36-4c7b-9b04-6bb507470fda', 'PLC-bdb8661a-7b36-4c7b-9b04-6bb507470fda', 'PLC-bdb8661a-7b36-4c7b-9b04-6bb507470fda', 'PLC-bdb8661a-7b36-4c7b-9b04-6bb507470fda', 'PLC-bdb8661a-7b36-4c7b-9b04-6bb507470fda', 'PLC-bdb8661a-7b36-4c7b-9b04-6bb507470fda', 'PLC-bdb8661a-7b36-4c7b-9b04-6bb507470fda', 'PLC-bdb8661a-7b36-4c7b-9b04-6bb507470fda', 'PLC-bdb8661a-7b36-4c7b-9b04-6bb507470fda', 'PLC-bdb8661a-7b36-4c7b-9b04-6bb507470fda', 'PLC-d22fba1b-b955-4030-b995-94fd0658ddd1', 'PLC-d22fba1b-b955-4030-b995-94fd0658ddd1', 'PLC-d22fba1b-b955-4030-b995-94fd0658ddd1', 'PLC-d22fba1b-b955-4030-b995-94fd0658ddd1', 'PLC-d22fba1b-b955-4030-b995-94fd0658ddd1', 'PLC-d22fba1b-b955-4030-b995-94fd0658ddd1', 'PLC-d22fba1b-b955-4030-b995-94fd0658ddd1', 'PLC-d22fba1b-b955-4030-b995-94fd0658ddd1', 'PLC-d22fba1b-b955-4030-b995-94fd0658ddd1', 'PLC-f336a43b-345c-4f8d-a009-637024141c88', 'PLC-f336a43b-345c-4f8d-a009-637024141c88', 'PLC-f336a43b-345c-4f8d-a009-637024141c88', 'PLC-f336a43b-345c-4f8d-a009-637024141c88', 'PLC-f336a43b-345c-4f8d-a009-637024141c88', 'PLC-f336a43b-345c-4f8d-a009-637024141c88', 'PLC-f336a43b-345c-4f8d-a009-637024141c88', 'PLC-f336a43b-345c-4f8d-a009-637024141c88', 'PLC-f336a43b-345c-4f8d-a009-637024141c88', 'PLC-f336a43b-345c-4f8d-a009-637024141c88', 'PLC-f336a43b-345c-4f8d-a009-637024141c88', 'PLC-f336a43b-345c-4f8d-a009-637024141c88', 'PLC-f336a43b-345c-4f8d-a009-637024141c88'], 'vehicle_base_fare_matrix': [[0, 0, 0, 0, 0, 0], [2500, 2000, 2000, 1000, 1500, 2000], [2000, 1500, 1500, 1000, 1500, 2000], [7500, 5500, 6000, 3500, 4500, 7000], [5500, 3500, 4000, 2500, 3000, 4500], [7500, 5500, 6000, 3000, 4500, 6500], [21000, 14500, 16500, 9000, 12500, 18500], [3500, 2500, 3000, 1500, 2500, 3500]], 'optimization_option': 'dist'}\n"
   ]
  },
  {
   "cell_type": "code",
   "execution_count": 30,
   "metadata": {},
   "outputs": [
    {
     "data": {
      "text/plain": [
       "['PLC-9e64068d-0315-40f2-86b8-f1127a31981a',\n",
       " 'PLC-d22fba1b-b955-4030-b995-94fd0658ddd1',\n",
       " 'PLC-b4276938-dc67-4d61-a977-88aa5fc512e4',\n",
       " 'PLC-bdb8661a-7b36-4c7b-9b04-6bb507470fda',\n",
       " 'PLC-7b034c4e-257b-4d2a-814f-8567c6370f64',\n",
       " 'PLC-964323a4-11f7-4992-85af-d4b9bdd96001',\n",
       " 'PLC-f336a43b-345c-4f8d-a009-637024141c88',\n",
       " 'PLC-2c7b97d7-0d89-45d3-98ff-dc0bf9004e4e']"
      ]
     },
     "execution_count": 30,
     "metadata": {},
     "output_type": "execute_result"
    }
   ],
   "source": [
    "data[\"loc_ids\"]"
   ]
  },
  {
   "cell_type": "code",
   "execution_count": 31,
   "metadata": {},
   "outputs": [
    {
     "data": {
      "text/plain": [
       "{'PLC-9e64068d-0315-40f2-86b8-f1127a31981a': 0,\n",
       " 'PLC-d22fba1b-b955-4030-b995-94fd0658ddd1': 1,\n",
       " 'PLC-b4276938-dc67-4d61-a977-88aa5fc512e4': 2,\n",
       " 'PLC-bdb8661a-7b36-4c7b-9b04-6bb507470fda': 3,\n",
       " 'PLC-7b034c4e-257b-4d2a-814f-8567c6370f64': 4,\n",
       " 'PLC-964323a4-11f7-4992-85af-d4b9bdd96001': 5,\n",
       " 'PLC-f336a43b-345c-4f8d-a009-637024141c88': 6,\n",
       " 'PLC-2c7b97d7-0d89-45d3-98ff-dc0bf9004e4e': 7}"
      ]
     },
     "execution_count": 31,
     "metadata": {},
     "output_type": "execute_result"
    }
   ],
   "source": [
    "loc_id_mapping = {loc_id: idx for idx, loc_id in enumerate(data[\"loc_ids\"])}\n",
    "loc_id_mapping"
   ]
  },
  {
   "cell_type": "code",
   "execution_count": 32,
   "metadata": {},
   "outputs": [
    {
     "name": "stdout",
     "output_type": "stream",
     "text": [
      "[0, 7, 7, 7, 7, 7, 7, 7, 7, 7, 7, 7, 7, 4, 4, 4, 4, 4, 4, 5, 5, 5, 5, 5, 5, 5, 5, 5, 5, 5, 5, 2, 2, 2, 2, 2, 2, 2, 2, 3, 3, 3, 3, 3, 3, 3, 3, 3, 3, 3, 3, 3, 3, 3, 3, 1, 1, 1, 1, 1, 1, 1, 1, 1, 6, 6, 6, 6, 6, 6, 6, 6, 6, 6, 6, 6, 6]\n",
      "77\n"
     ]
    }
   ],
   "source": [
    "mapped_location_matrix = [loc_id_mapping[loc] for loc in data[\"location_matrix\"]]\n",
    "\n",
    "print(mapped_location_matrix)\n",
    "print(len(mapped_location_matrix))"
   ]
  },
  {
   "cell_type": "code",
   "execution_count": 33,
   "metadata": {},
   "outputs": [],
   "source": [
    "import pandas as pd\n",
    "df_orders = pd.DataFrame([data[\"weight_matrix\"], data[\"volume_matrix\"], mapped_location_matrix]).transpose()\n",
    "df_orders.columns=[\"order_weight\",\"order_volume\",\"order_loc\"]\n",
    "df_orders[\"order_id\"] = range(len(df_orders))"
   ]
  },
  {
   "cell_type": "code",
   "execution_count": 34,
   "metadata": {},
   "outputs": [
    {
     "data": {
      "text/html": [
       "<div>\n",
       "<style scoped>\n",
       "    .dataframe tbody tr th:only-of-type {\n",
       "        vertical-align: middle;\n",
       "    }\n",
       "\n",
       "    .dataframe tbody tr th {\n",
       "        vertical-align: top;\n",
       "    }\n",
       "\n",
       "    .dataframe thead th {\n",
       "        text-align: right;\n",
       "    }\n",
       "</style>\n",
       "<table border=\"1\" class=\"dataframe\">\n",
       "  <thead>\n",
       "    <tr style=\"text-align: right;\">\n",
       "      <th></th>\n",
       "      <th>order_weight</th>\n",
       "      <th>order_volume</th>\n",
       "      <th>order_loc</th>\n",
       "      <th>order_id</th>\n",
       "    </tr>\n",
       "  </thead>\n",
       "  <tbody>\n",
       "    <tr>\n",
       "      <th>0</th>\n",
       "      <td>0.000</td>\n",
       "      <td>0.000</td>\n",
       "      <td>0.0</td>\n",
       "      <td>0</td>\n",
       "    </tr>\n",
       "    <tr>\n",
       "      <th>1</th>\n",
       "      <td>0.005</td>\n",
       "      <td>19.955</td>\n",
       "      <td>7.0</td>\n",
       "      <td>1</td>\n",
       "    </tr>\n",
       "    <tr>\n",
       "      <th>2</th>\n",
       "      <td>0.005</td>\n",
       "      <td>15.185</td>\n",
       "      <td>7.0</td>\n",
       "      <td>2</td>\n",
       "    </tr>\n",
       "    <tr>\n",
       "      <th>3</th>\n",
       "      <td>0.008</td>\n",
       "      <td>14.696</td>\n",
       "      <td>7.0</td>\n",
       "      <td>3</td>\n",
       "    </tr>\n",
       "    <tr>\n",
       "      <th>4</th>\n",
       "      <td>0.005</td>\n",
       "      <td>18.365</td>\n",
       "      <td>7.0</td>\n",
       "      <td>4</td>\n",
       "    </tr>\n",
       "    <tr>\n",
       "      <th>...</th>\n",
       "      <td>...</td>\n",
       "      <td>...</td>\n",
       "      <td>...</td>\n",
       "      <td>...</td>\n",
       "    </tr>\n",
       "    <tr>\n",
       "      <th>72</th>\n",
       "      <td>0.020</td>\n",
       "      <td>24.720</td>\n",
       "      <td>6.0</td>\n",
       "      <td>72</td>\n",
       "    </tr>\n",
       "    <tr>\n",
       "      <th>73</th>\n",
       "      <td>0.025</td>\n",
       "      <td>42.375</td>\n",
       "      <td>6.0</td>\n",
       "      <td>73</td>\n",
       "    </tr>\n",
       "    <tr>\n",
       "      <th>74</th>\n",
       "      <td>0.020</td>\n",
       "      <td>63.560</td>\n",
       "      <td>6.0</td>\n",
       "      <td>74</td>\n",
       "    </tr>\n",
       "    <tr>\n",
       "      <th>75</th>\n",
       "      <td>0.060</td>\n",
       "      <td>89.040</td>\n",
       "      <td>6.0</td>\n",
       "      <td>75</td>\n",
       "    </tr>\n",
       "    <tr>\n",
       "      <th>76</th>\n",
       "      <td>0.005</td>\n",
       "      <td>14.305</td>\n",
       "      <td>6.0</td>\n",
       "      <td>76</td>\n",
       "    </tr>\n",
       "  </tbody>\n",
       "</table>\n",
       "<p>77 rows × 4 columns</p>\n",
       "</div>"
      ],
      "text/plain": [
       "    order_weight  order_volume  order_loc  order_id\n",
       "0          0.000         0.000        0.0         0\n",
       "1          0.005        19.955        7.0         1\n",
       "2          0.005        15.185        7.0         2\n",
       "3          0.008        14.696        7.0         3\n",
       "4          0.005        18.365        7.0         4\n",
       "..           ...           ...        ...       ...\n",
       "72         0.020        24.720        6.0        72\n",
       "73         0.025        42.375        6.0        73\n",
       "74         0.020        63.560        6.0        74\n",
       "75         0.060        89.040        6.0        75\n",
       "76         0.005        14.305        6.0        76\n",
       "\n",
       "[77 rows x 4 columns]"
      ]
     },
     "execution_count": 34,
     "metadata": {},
     "output_type": "execute_result"
    }
   ],
   "source": [
    "df_orders"
   ]
  },
  {
   "cell_type": "code",
   "execution_count": 58,
   "metadata": {},
   "outputs": [
    {
     "data": {
      "text/html": [
       "<div>\n",
       "<style scoped>\n",
       "    .dataframe tbody tr th:only-of-type {\n",
       "        vertical-align: middle;\n",
       "    }\n",
       "\n",
       "    .dataframe tbody tr th {\n",
       "        vertical-align: top;\n",
       "    }\n",
       "\n",
       "    .dataframe thead th {\n",
       "        text-align: right;\n",
       "    }\n",
       "</style>\n",
       "<table border=\"1\" class=\"dataframe\">\n",
       "  <thead>\n",
       "    <tr style=\"text-align: right;\">\n",
       "      <th></th>\n",
       "      <th>order_loc</th>\n",
       "      <th>order_weight</th>\n",
       "      <th>order_volume</th>\n",
       "      <th>order_id</th>\n",
       "    </tr>\n",
       "  </thead>\n",
       "  <tbody>\n",
       "    <tr>\n",
       "      <th>0</th>\n",
       "      <td>0.0</td>\n",
       "      <td>0.000</td>\n",
       "      <td>0.000</td>\n",
       "      <td>0</td>\n",
       "    </tr>\n",
       "    <tr>\n",
       "      <th>1</th>\n",
       "      <td>1.0</td>\n",
       "      <td>0.150</td>\n",
       "      <td>270.175</td>\n",
       "      <td>531</td>\n",
       "    </tr>\n",
       "    <tr>\n",
       "      <th>2</th>\n",
       "      <td>2.0</td>\n",
       "      <td>0.050</td>\n",
       "      <td>88.474</td>\n",
       "      <td>276</td>\n",
       "    </tr>\n",
       "    <tr>\n",
       "      <th>3</th>\n",
       "      <td>3.0</td>\n",
       "      <td>0.230</td>\n",
       "      <td>567.910</td>\n",
       "      <td>744</td>\n",
       "    </tr>\n",
       "    <tr>\n",
       "      <th>4</th>\n",
       "      <td>4.0</td>\n",
       "      <td>0.039</td>\n",
       "      <td>59.511</td>\n",
       "      <td>93</td>\n",
       "    </tr>\n",
       "    <tr>\n",
       "      <th>5</th>\n",
       "      <td>5.0</td>\n",
       "      <td>0.076</td>\n",
       "      <td>123.723</td>\n",
       "      <td>294</td>\n",
       "    </tr>\n",
       "    <tr>\n",
       "      <th>6</th>\n",
       "      <td>6.0</td>\n",
       "      <td>0.258</td>\n",
       "      <td>543.998</td>\n",
       "      <td>910</td>\n",
       "    </tr>\n",
       "    <tr>\n",
       "      <th>7</th>\n",
       "      <td>7.0</td>\n",
       "      <td>0.063</td>\n",
       "      <td>149.786</td>\n",
       "      <td>78</td>\n",
       "    </tr>\n",
       "  </tbody>\n",
       "</table>\n",
       "</div>"
      ],
      "text/plain": [
       "   order_loc  order_weight  order_volume  order_id\n",
       "0        0.0         0.000         0.000         0\n",
       "1        1.0         0.150       270.175       531\n",
       "2        2.0         0.050        88.474       276\n",
       "3        3.0         0.230       567.910       744\n",
       "4        4.0         0.039        59.511        93\n",
       "5        5.0         0.076       123.723       294\n",
       "6        6.0         0.258       543.998       910\n",
       "7        7.0         0.063       149.786        78"
      ]
     },
     "execution_count": 58,
     "metadata": {},
     "output_type": "execute_result"
    }
   ],
   "source": [
    "df_orders_f = df_orders.groupby(\"order_loc\").sum().reset_index()\n",
    "df_orders_f\n"
   ]
  },
  {
   "cell_type": "code",
   "execution_count": 36,
   "metadata": {},
   "outputs": [
    {
     "data": {
      "text/plain": [
       "[[0, 0, 0, 0, 0, 0],\n",
       " [2500, 2000, 2000, 1000, 1500, 2000],\n",
       " [2000, 1500, 1500, 1000, 1500, 2000],\n",
       " [7500, 5500, 6000, 3500, 4500, 7000],\n",
       " [5500, 3500, 4000, 2500, 3000, 4500],\n",
       " [7500, 5500, 6000, 3000, 4500, 6500],\n",
       " [21000, 14500, 16500, 9000, 12500, 18500],\n",
       " [3500, 2500, 3000, 1500, 2500, 3500]]"
      ]
     },
     "execution_count": 36,
     "metadata": {},
     "output_type": "execute_result"
    }
   ],
   "source": [
    "distance_matrix = data[\"costs\"]\n",
    "duration_matrix = data[\"durations\"]\n",
    "max_veh_weight = data[\"max_weight\"]\n",
    "max_veh_volume = data[\"max_volume\"]\n",
    "time_windows = data[\"timeWindows\"]\n",
    "fixed_cost_matrix = data[\"vehicle_base_fare_matrix\"]\n",
    "fixed_cost_matrix"
   ]
  },
  {
   "cell_type": "code",
   "execution_count": 37,
   "metadata": {},
   "outputs": [],
   "source": [
    "start_time = [i for i, j in time_windows]\n",
    "finish_time = [j for i, j in time_windows]\n",
    "nodes = list(loc_id_mapping.values())\n",
    "depot = 0\n",
    "# customers = mapped_location_matrix\n",
    "customers = nodes[1:]"
   ]
  },
  {
   "cell_type": "code",
   "execution_count": 38,
   "metadata": {},
   "outputs": [
    {
     "data": {
      "text/plain": [
       "[0, 0, 0, 0, 0, 0, 0, 0]"
      ]
     },
     "execution_count": 38,
     "metadata": {},
     "output_type": "execute_result"
    }
   ],
   "source": [
    "start_time"
   ]
  },
  {
   "cell_type": "code",
   "execution_count": 39,
   "metadata": {},
   "outputs": [],
   "source": [
    "dist_matrix = {\n",
    "    (i, j): distance_matrix[i][j]\n",
    "    for i in range(len(distance_matrix))\n",
    "    for j in range(len(distance_matrix[i]))\n",
    "}\n",
    "dist_matrix\n",
    "\n",
    "time_matrix = {\n",
    "    (i, j): duration_matrix[i][j]\n",
    "    for i in range(len(duration_matrix))\n",
    "    for j in range(len(duration_matrix[i]))\n",
    "}\n",
    "fixed_cost = {\n",
    "    (i, j): fixed_cost_matrix[i][j]\n",
    "    for i in range(len(fixed_cost_matrix))\n",
    "    for j in range(len(fixed_cost_matrix[i]))\n",
    "}\n"
   ]
  },
  {
   "cell_type": "code",
   "execution_count": 40,
   "metadata": {},
   "outputs": [
    {
     "data": {
      "text/plain": [
       "{(0, 0): 0,\n",
       " (0, 1): 0,\n",
       " (0, 2): 0,\n",
       " (0, 3): 0,\n",
       " (0, 4): 0,\n",
       " (0, 5): 0,\n",
       " (1, 0): 2500,\n",
       " (1, 1): 2000,\n",
       " (1, 2): 2000,\n",
       " (1, 3): 1000,\n",
       " (1, 4): 1500,\n",
       " (1, 5): 2000,\n",
       " (2, 0): 2000,\n",
       " (2, 1): 1500,\n",
       " (2, 2): 1500,\n",
       " (2, 3): 1000,\n",
       " (2, 4): 1500,\n",
       " (2, 5): 2000,\n",
       " (3, 0): 7500,\n",
       " (3, 1): 5500,\n",
       " (3, 2): 6000,\n",
       " (3, 3): 3500,\n",
       " (3, 4): 4500,\n",
       " (3, 5): 7000,\n",
       " (4, 0): 5500,\n",
       " (4, 1): 3500,\n",
       " (4, 2): 4000,\n",
       " (4, 3): 2500,\n",
       " (4, 4): 3000,\n",
       " (4, 5): 4500,\n",
       " (5, 0): 7500,\n",
       " (5, 1): 5500,\n",
       " (5, 2): 6000,\n",
       " (5, 3): 3000,\n",
       " (5, 4): 4500,\n",
       " (5, 5): 6500,\n",
       " (6, 0): 21000,\n",
       " (6, 1): 14500,\n",
       " (6, 2): 16500,\n",
       " (6, 3): 9000,\n",
       " (6, 4): 12500,\n",
       " (6, 5): 18500,\n",
       " (7, 0): 3500,\n",
       " (7, 1): 2500,\n",
       " (7, 2): 3000,\n",
       " (7, 3): 1500,\n",
       " (7, 4): 2500,\n",
       " (7, 5): 3500}"
      ]
     },
     "execution_count": 40,
     "metadata": {},
     "output_type": "execute_result"
    }
   ],
   "source": [
    "fixed_cost"
   ]
  },
  {
   "cell_type": "code",
   "execution_count": 41,
   "metadata": {},
   "outputs": [],
   "source": [
    "df_vehicle = pd.DataFrame([max_veh_weight,max_veh_volume]).transpose().reset_index()\n",
    "df_vehicle.columns = [\"v_id\",\"max_weight\",\"max_volume\"]\n",
    "vehicles = list(df_vehicle[\"v_id\"])\n",
    "demand_w = list(df_orders[\"order_weight\"])\n",
    "demand_dict_w = {(i, mapped_location_matrix[i]): demand_w[i] for i in range(len(demand_w))}\n",
    "demand_v = list(df_orders[\"order_volume\"])\n",
    "demand_dict_v = {(i, mapped_location_matrix[i]): demand_v[i] for i in range(len(demand_v))}\n",
    "max_vehw =list(df_vehicle[\"max_weight\"])\n",
    "max_vehv =list(df_vehicle[\"max_volume\"])\n",
    "variable_cost = list(data[\"perKmCostPerVehicle\"])\n",
    "variable_cost\n",
    "orders = list(df_orders[\"order_id\"])\n",
    "order_cust_pair = list(zip(orders,mapped_location_matrix))\n"
   ]
  },
  {
   "cell_type": "code",
   "execution_count": 42,
   "metadata": {},
   "outputs": [
    {
     "data": {
      "text/plain": [
       "[(1, 7),\n",
       " (2, 7),\n",
       " (3, 7),\n",
       " (4, 7),\n",
       " (5, 7),\n",
       " (6, 7),\n",
       " (7, 7),\n",
       " (8, 7),\n",
       " (9, 7),\n",
       " (10, 7),\n",
       " (11, 7),\n",
       " (12, 7),\n",
       " (13, 4),\n",
       " (14, 4),\n",
       " (15, 4),\n",
       " (16, 4),\n",
       " (17, 4),\n",
       " (18, 4),\n",
       " (19, 5),\n",
       " (20, 5),\n",
       " (21, 5),\n",
       " (22, 5),\n",
       " (23, 5),\n",
       " (24, 5),\n",
       " (25, 5),\n",
       " (26, 5),\n",
       " (27, 5),\n",
       " (28, 5),\n",
       " (29, 5),\n",
       " (30, 5),\n",
       " (31, 2),\n",
       " (32, 2),\n",
       " (33, 2),\n",
       " (34, 2),\n",
       " (35, 2),\n",
       " (36, 2),\n",
       " (37, 2),\n",
       " (38, 2),\n",
       " (39, 3),\n",
       " (40, 3),\n",
       " (41, 3),\n",
       " (42, 3),\n",
       " (43, 3),\n",
       " (44, 3),\n",
       " (45, 3),\n",
       " (46, 3),\n",
       " (47, 3),\n",
       " (48, 3),\n",
       " (49, 3),\n",
       " (50, 3),\n",
       " (51, 3),\n",
       " (52, 3),\n",
       " (53, 3),\n",
       " (54, 3),\n",
       " (55, 1),\n",
       " (56, 1),\n",
       " (57, 1),\n",
       " (58, 1),\n",
       " (59, 1),\n",
       " (60, 1),\n",
       " (61, 1),\n",
       " (62, 1),\n",
       " (63, 1),\n",
       " (64, 6),\n",
       " (65, 6),\n",
       " (66, 6),\n",
       " (67, 6),\n",
       " (68, 6),\n",
       " (69, 6),\n",
       " (70, 6),\n",
       " (71, 6),\n",
       " (72, 6),\n",
       " (73, 6),\n",
       " (74, 6),\n",
       " (75, 6),\n",
       " (76, 6)]"
      ]
     },
     "execution_count": 42,
     "metadata": {},
     "output_type": "execute_result"
    }
   ],
   "source": [
    "order_cust_pairs=order_cust_pair[1:]\n",
    "order_cust_pairs"
   ]
  },
  {
   "cell_type": "code",
   "execution_count": 43,
   "metadata": {},
   "outputs": [],
   "source": [
    "import gurobipy as gp\n",
    "from gurobipy import *"
   ]
  },
  {
   "cell_type": "code",
   "execution_count": 44,
   "metadata": {},
   "outputs": [],
   "source": [
    "my_model=gp.Model('CVRPTW')\n",
    "xijk=my_model.addVars(nodes, nodes, vehicles, vtype=GRB.BINARY, name='xijk')\n",
    "sik = my_model.addVars(nodes, vehicles, vtype = GRB.CONTINUOUS, name = 'sik')\n",
    "w = my_model.addVars(order_cust_pairs, vehicles, vtype = GRB.CONTINUOUS, name = 'wojk')\n",
    "v = my_model.addVars(order_cust_pairs, vehicles, vtype = GRB.CONTINUOUS, name = 'vojk')"
   ]
  },
  {
   "cell_type": "code",
   "execution_count": 45,
   "metadata": {},
   "outputs": [],
   "source": [
    "#Objective function\n",
    "# obj_fn = (gp.quicksum(dist_matrix[i,j]*(variable_cost[k] for k in vehicles)*gp.quicksum(xijk[i,j,k] for k in vehicles) for i in nodes for j in nodes))\n",
    "obj_fn = gp.quicksum(dist_matrix[i, j] * variable_cost[k] * xijk[i, j, k] for i in nodes for j in nodes for k in vehicles)+gp.quicksum(fixed_cost[i,k] for i in nodes for k in vehicles)\n",
    "\n",
    "my_model.setObjective(obj_fn, GRB.MINIMIZE)\n"
   ]
  },
  {
   "cell_type": "code",
   "execution_count": 46,
   "metadata": {},
   "outputs": [],
   "source": [
    "#Source to sink constraints\n",
    "my_model.addConstrs(gp.quicksum(xijk[0,j,k] for j in customers)<=1 for k in vehicles)\n",
    "my_model.addConstrs(gp.quicksum(xijk[i,0,k] for i in customers)<=1 for k in vehicles);\n",
    "# my_model.addConstrs(\n",
    "#     gp.quicksum(xijk[0, j, k] for j in customers) == gp.quicksum(xijk[i, 0, k] for i in customers) \n",
    "#     for k in vehicles\n",
    "# );\n"
   ]
  },
  {
   "cell_type": "code",
   "execution_count": 47,
   "metadata": {},
   "outputs": [],
   "source": [
    "my_model.addConstrs(gp.quicksum(xijk[i,h,k] for i in nodes)- gp.quicksum(xijk[h,j,k] for j in nodes)==0 \n",
    "                    for h in customers for k in vehicles);\n",
    "# my_model.addConstrs(\n",
    "#     (gp.quicksum(xijk[i, h, k] for i in nodes if i != h) - gp.quicksum(xijk[h, j, k] for j in nodes if j != h) == 0\n",
    "#      for h in customers for k in vehicles),\n",
    "#     name=\"visit_once_constraint\"\n",
    "# )\n",
    "# my_model.addConstrs(gp.quicksum(xijk[i, j, k] for j in nodes for k in vehicles) == 1 for i in customers);\n",
    "# my_model.addConstrs(gp.quicksum(xijk[j, i, k] for j in customers for k in vehicles if i != j) == 1 for i in customers);\n",
    "my_model.addConstrs(gp.quicksum(xijk[i, j, k]  for j in nodes for k in vehicles if i == j) == 0 for i in customers);"
   ]
  },
  {
   "cell_type": "code",
   "execution_count": 48,
   "metadata": {},
   "outputs": [],
   "source": [
    "#capacity constraints\n",
    "my_model.addConstrs(gp.quicksum(w[o,j,k] for k in vehicles) == demand_dict_w[o,j] \n",
    "                    for (o,j) in order_cust_pairs)\n",
    "my_model.addConstrs(gp.quicksum(w[o,j,k] for (o,j) in order_cust_pairs) <= max_vehw[k] for k in vehicles)\n",
    "my_model.addConstrs(gp.quicksum(v[o,j,k] for k in vehicles) == demand_dict_v[o,j] for (o,j) in order_cust_pairs)\n",
    "my_model.addConstrs(gp.quicksum(v[o,j,k] for (o,j) in order_cust_pairs) <= max_vehv[k] for k in vehicles);"
   ]
  },
  {
   "cell_type": "code",
   "execution_count": 49,
   "metadata": {},
   "outputs": [],
   "source": [
    "bigM = 1000000\n",
    "my_model.addConstrs(w[o,j,k] <= bigM * gp.quicksum(xijk[i,j,k] for i in nodes) for (o,j) in order_cust_pairs for k in vehicles);\n",
    "my_model.addConstrs(v[o,j,k] <= bigM * gp.quicksum(xijk[i,j,k] for i in nodes) for (o,j) in order_cust_pairs for k in vehicles);"
   ]
  },
  {
   "cell_type": "code",
   "execution_count": 50,
   "metadata": {},
   "outputs": [],
   "source": [
    "my_model.addConstrs(sik[i,k] + time_matrix[i,j] - sik[j,k] <= (1-xijk[i,j,k]) *bigM \n",
    "                    for i in customers \n",
    "                    for j in customers for k in vehicles);"
   ]
  },
  {
   "cell_type": "code",
   "execution_count": 51,
   "metadata": {},
   "outputs": [],
   "source": [
    "my_model.addConstrs(sik[i,k] <= finish_time[i] for i in nodes for k in vehicles)\n",
    "                    \n",
    "my_model.addConstrs(sik[i,k] >= start_time[i] for i in nodes for k in vehicles); "
   ]
  },
  {
   "cell_type": "code",
   "execution_count": 52,
   "metadata": {},
   "outputs": [],
   "source": [
    "# my_model.setParam(\"MIPGap\",0.6)"
   ]
  },
  {
   "cell_type": "code",
   "execution_count": 53,
   "metadata": {},
   "outputs": [
    {
     "name": "stdout",
     "output_type": "stream",
     "text": [
      "Gurobi Optimizer version 11.0.0 build v11.0.0rc2 (win64 - Windows 11+.0 (26100.2))\n",
      "\n",
      "CPU model: AMD Ryzen 5 5500U with Radeon Graphics, instruction set [SSE2|AVX|AVX2]\n",
      "Thread count: 6 physical cores, 12 logical processors, using up to 12 threads\n",
      "\n",
      "Optimize a model with 1527 rows, 1344 columns and 11640 nonzeros\n",
      "Model fingerprint: 0xbcc524b3\n",
      "Variable types: 960 continuous, 384 integer (384 binary)\n",
      "Coefficient statistics:\n",
      "  Matrix range     [1e+00, 1e+06]\n",
      "  Objective range  [6e+01, 3e+04]\n",
      "  Bounds range     [1e+00, 1e+00]\n",
      "  RHS range        [1e-03, 1e+06]\n",
      "Presolve removed 424 rows and 288 columns\n",
      "Presolve time: 0.02s\n",
      "Presolved: 1103 rows, 1056 columns, 7980 nonzeros\n",
      "Variable types: 720 continuous, 336 integer (336 binary)\n",
      "Found heuristic solution: objective 553963.03400\n",
      "\n",
      "Root relaxation: objective 2.481596e+05, 922 iterations, 0.02 seconds (0.02 work units)\n",
      "\n",
      "    Nodes    |    Current Node    |     Objective Bounds      |     Work\n",
      " Expl Unexpl |  Obj  Depth IntInf | Incumbent    BestBd   Gap | It/Node Time\n",
      "\n",
      "     0     0 248159.591    0   18 553963.034 248159.591  55.2%     -    0s\n",
      "H    0     0                    541312.40900 248159.591  54.2%     -    0s\n",
      "H    0     0                    386130.70100 248159.591  35.7%     -    0s\n",
      "     0     0 250645.210    0   23 386130.701 250645.210  35.1%     -    0s\n",
      "     0     0 251284.912    0   30 386130.701 251284.912  34.9%     -    0s\n",
      "     0     0 255111.916    0   18 386130.701 255111.916  33.9%     -    0s\n",
      "     0     0 255914.477    0   27 386130.701 255914.477  33.7%     -    0s\n",
      "     0     0 255914.477    0   29 386130.701 255914.477  33.7%     -    0s\n",
      "     0     0 257758.440    0   37 386130.701 257758.440  33.2%     -    0s\n",
      "     0     0 258361.492    0   40 386130.701 258361.492  33.1%     -    0s\n",
      "     0     0 258400.576    0   39 386130.701 258400.576  33.1%     -    0s\n",
      "     0     0 259406.315    0   24 386130.701 259406.315  32.8%     -    0s\n",
      "H    0     0                    360216.47000 259472.335  28.0%     -    0s\n",
      "H    0     0                    283821.44400 259472.335  8.58%     -    0s\n",
      "     0     0 259472.335    0   42 283821.444 259472.335  8.58%     -    0s\n",
      "     0     0 259472.335    0   42 283821.444 259472.335  8.58%     -    0s\n",
      "     0     0 259531.956    0   40 283821.444 259531.956  8.56%     -    0s\n",
      "     0     0 259684.705    0   36 283821.444 259684.705  8.50%     -    0s\n",
      "H    0     0                    282277.85000 259684.707  8.00%     -    0s\n",
      "     0     0 259706.139    0   33 282277.850 259706.139  8.00%     -    0s\n",
      "     0     0 259706.283    0   36 282277.850 259706.283  8.00%     -    0s\n",
      "     0     0 259707.264    0   43 282277.850 259707.264  8.00%     -    0s\n",
      "     0     0 259741.204    0   43 282277.850 259741.204  7.98%     -    0s\n",
      "     0     0 259741.204    0   48 282277.850 259741.204  7.98%     -    0s\n",
      "     0     0 259741.204    0   39 282277.850 259741.204  7.98%     -    0s\n",
      "     0     2 259746.251    0   39 282277.850 259746.251  7.98%     -    0s\n",
      "H   81    70                    281866.45874 260061.567  7.74%  50.1    1s\n",
      "H  121   117                    281690.59800 260061.567  7.68%  42.9    1s\n",
      "H  163   162                    278531.79800 260061.567  6.63%  40.5    1s\n",
      "H  212   197                    278440.82200 260061.567  6.60%  36.0    1s\n",
      "H  216   197                    277829.88200 260061.567  6.40%  37.1    1s\n",
      "H  222   197                    276362.76400 260061.567  5.90%  36.9    1s\n",
      "H  415   326                    274243.09200 260061.567  5.17%  33.3    2s\n",
      "  1634  1101 265167.876   16   28 274243.092 261466.899  4.66%  30.9    5s\n",
      "  4508  2234 269129.732   53   20 274243.092 262685.510  4.21%  41.1   10s\n",
      "  8965  4699 266433.983   18   31 274243.092 264799.811  3.44%  43.2   15s\n",
      " 13798  7339 265530.501   46   42 274243.092 265404.294  3.22%  42.8   20s\n",
      " 20197 10368 268362.783   40   35 274243.092 266136.118  2.96%  41.8   25s\n",
      " 27401 13000 272923.790   52   12 274243.092 266740.202  2.74%  42.4   30s\n",
      " 34142 15707 269706.637   45   31 274243.092 267183.043  2.57%  43.0   35s\n",
      " 36409 16109 268890.333   86   39 274243.092 267299.507  2.53%  43.3   46s\n",
      " 36434 16126 268243.934   43   96 274243.092 267299.507  2.53%  43.3   50s\n",
      " 36456 16140 273783.537   58   98 274243.092 267299.507  2.53%  43.2   55s\n",
      " 36479 16156 272033.467   43   99 274243.092 267299.507  2.53%  43.2   60s\n",
      " 36498 16168 272568.795   62  106 274243.092 267299.507  2.53%  43.2   65s\n",
      " 36515 16180 268841.281   32  102 274243.092 267299.507  2.53%  43.2   70s\n",
      " 36533 16192 267482.008   54   99 274243.092 267299.507  2.53%  43.2   75s\n",
      "H36533 15380                    274148.86200 267299.507  2.50%  43.2   75s\n",
      " 36552 15392 271430.627   59  107 274148.862 267299.507  2.50%  43.1   80s\n",
      " 36568 15403 269936.272   44  108 274148.862 267299.507  2.50%  43.1   85s\n",
      " 36585 15414 269986.098   46  112 274148.862 267299.507  2.50%  43.1   90s\n",
      " 36602 15426 270498.646   42   97 274148.862 267299.507  2.50%  43.1   95s\n",
      " 36619 15437 270662.422   25  117 274148.862 267299.507  2.50%  43.1  100s\n",
      " 36791 15527 271297.813   33    6 274148.862 267299.507  2.50%  43.9  105s\n",
      " 38879 15899 267299.507   35   38 274148.862 267299.507  2.50%  44.2  111s\n",
      " 41632 16544 267493.453   46   20 274148.862 267299.507  2.50%  45.0  115s\n",
      " 46828 17583 269609.450   52   31 274148.862 267299.507  2.50%  45.0  120s\n",
      " 51181 18106 273582.745   70   24 274148.862 267463.992  2.44%  45.2  125s\n",
      " 56030 18564 270015.572   39   26 274148.862 267795.514  2.32%  45.0  130s\n",
      " 61356 18564 273358.341   51   23 274148.862 268177.757  2.18%  45.0  135s\n",
      " 66547 18658 271075.070   47   18 274148.862 268458.790  2.08%  45.1  140s\n",
      " 71391 18533     cutoff   42      274148.862 268775.677  1.96%  45.1  146s\n",
      " 75148 18435 271265.987   45   24 274148.862 268953.485  1.90%  45.2  150s\n",
      " 79972 18123 271433.766   72   26 274148.862 269151.259  1.82%  45.4  155s\n",
      "H82180 17351                    274148.86152 269246.214  1.79%  45.4  156s\n",
      " 84368 18131 270685.135   41   62 274148.862 269348.392  1.75%  45.4  160s\n",
      " 88302 19089 infeasible   60      274148.862 269508.528  1.69%  45.6  165s\n",
      " 93293 20270 271802.220   60   25 274148.862 269712.525  1.62%  45.8  170s\n",
      " 98550 21291     cutoff   61      274148.862 269895.014  1.55%  45.8  176s\n",
      " 102456 21797 273785.855   83   21 274148.862 270007.812  1.51%  45.7  180s\n",
      " 106299 22373 270552.844   50   30 274148.862 270119.298  1.47%  45.8  185s\n",
      " 110294 23099 271331.341   50   12 274148.862 270221.943  1.43%  45.8  190s\n",
      " 115488 23774     cutoff   68      274148.862 270346.684  1.39%  45.7  196s\n",
      " 119208 24157 270650.855   38   28 274148.862 270441.078  1.35%  45.8  200s\n",
      " 124466 24833 273778.979   69   14 274148.862 270566.305  1.31%  45.8  206s\n",
      " 127029 24950 272361.613   45   19 274148.862 270623.999  1.29%  45.8  211s\n",
      " 127517 25480 272379.585   46   24 274148.862 270626.906  1.28%  45.8  215s\n",
      " 133854 25570 273927.004   81   21 274148.862 270753.732  1.24%  45.8  220s\n",
      " 139381 25670     cutoff   57      274148.862 270901.230  1.18%  45.8  226s\n",
      " 143423 25517 273191.455   65   44 274148.862 271015.107  1.14%  45.8  231s\n",
      " 147291 25441     cutoff   33      274148.862 271120.806  1.10%  45.9  235s\n",
      " 151334 25121 273642.699   46   10 274148.862 271235.249  1.06%  45.9  240s\n",
      " 155016 24910 272465.394   56   25 274148.862 271334.754  1.03%  45.9  245s\n",
      " 159218 24324 273990.439   61   13 274148.862 271458.903  0.98%  45.9  250s\n",
      " 164019 23776 271838.531   64   58 274148.862 271587.542  0.93%  45.8  255s\n",
      "H167870 23476                    274148.85886 271666.337  0.91%  45.7  259s\n",
      " 168281 23310     cutoff   66      274148.859 271687.618  0.90%  45.7  260s\n",
      " 172689 22507 273809.414   69    6 274148.859 271812.142  0.85%  45.6  265s\n",
      " 176948 21535     cutoff   74      274148.859 271938.896  0.81%  45.5  270s\n",
      " 181534 20537     cutoff   71      274148.859 272075.715  0.76%  45.4  275s\n",
      " 185822 19334     cutoff   86      274148.859 272208.688  0.71%  45.3  280s\n",
      " 190235 17732     cutoff   46      274148.859 272342.363  0.66%  45.2  285s\n",
      " 195954 15125 infeasible   59      274148.859 272544.242  0.59%  45.0  291s\n",
      " 200383 12736 273687.894   86   25 274148.859 272713.004  0.52%  44.8  295s\n",
      " 204021 10506     cutoff   53      274148.859 272867.281  0.47%  44.6  301s\n",
      " 207076  8697     cutoff   69      274148.859 273001.771  0.42%  44.5  305s\n",
      " 211714  5266 infeasible   51      274148.859 273254.654  0.33%  44.1  310s\n",
      " 217017   900     cutoff   66      274148.859 273589.327  0.20%  43.6  315s\n",
      "\n",
      "Cutting planes:\n",
      "  Gomory: 30\n",
      "  Cover: 238\n",
      "  Implied bound: 129\n",
      "  MIR: 116\n",
      "  Mixing: 5\n",
      "  Flow cover: 331\n",
      "  Inf proof: 65\n",
      "  Zero half: 27\n",
      "  Network: 5\n",
      "  RLT: 85\n",
      "  Relax-and-lift: 89\n",
      "\n",
      "Explored 219879 nodes (9514361 simplex iterations) in 316.31 seconds (160.64 work units)\n",
      "Thread count was 12 (of 12 available processors)\n",
      "\n",
      "Solution count 10: 274149 274149 274243 ... 282278\n",
      "\n",
      "Optimal solution found (tolerance 1.00e-04)\n",
      "Best objective 2.741488620000e+05, best bound 2.741488620000e+05, gap 0.0000%\n"
     ]
    }
   ],
   "source": [
    "my_model.optimize()"
   ]
  },
  {
   "cell_type": "code",
   "execution_count": 54,
   "metadata": {},
   "outputs": [
    {
     "name": "stdout",
     "output_type": "stream",
     "text": [
      "Data written to vehicle_routes_and_orders.csv\n"
     ]
    }
   ],
   "source": [
    "import csv\n",
    "\n",
    "# Define the output file\n",
    "output_file = \"vehicle_routes_and_orders.csv\"\n",
    "\n",
    "# Open the file in write mode\n",
    "with open(output_file, mode=\"w\", newline=\"\") as file:\n",
    "    writer = csv.writer(file)\n",
    "    \n",
    "    # Write the header\n",
    "    writer.writerow([\"Vehicle\", \"Route\", \"Order\", \"Customer\", \"Weight\"])\n",
    "    \n",
    "    # Write the data\n",
    "    for k in vehicles:\n",
    "        route = []\n",
    "        \n",
    "        # Extract the routes from xijk variable\n",
    "        for i in nodes:\n",
    "            for j in nodes:\n",
    "                if xijk[i, j, k].X > 0.5:  # Binary variable, thresholded for precision\n",
    "                    route.append((i, j))\n",
    "        \n",
    "        # Format the route as a string\n",
    "        route_str = \" -> \".join(f\"{i} to {j}\" for i, j in route) if route else \"No route assigned\"\n",
    "        \n",
    "        # Extract served orders from w variable\n",
    "        served_orders = []\n",
    "        for o, j in order_cust_pairs:\n",
    "            if w[o, j, k].X > 0:  # Continuous variable, check positive value\n",
    "                served_orders.append((o, j, w[o, j, k].X))\n",
    "        \n",
    "        # Write data to the CSV\n",
    "        if served_orders:\n",
    "            for o, j, weight in served_orders:\n",
    "                writer.writerow([f\"Vehicle {k}\", route_str, f\"Order {o}\", f\"Customer {j}\", weight])\n",
    "        else:\n",
    "            # Write vehicle with no served orders\n",
    "            writer.writerow([f\"Vehicle {k}\", route_str, \"No orders served\", \"\", \"\"])\n",
    "\n",
    "print(f\"Data written to {output_file}\")\n",
    "\n"
   ]
  },
  {
   "cell_type": "code",
   "execution_count": 55,
   "metadata": {},
   "outputs": [
    {
     "name": "stdout",
     "output_type": "stream",
     "text": [
      "Data written to vehicle_assignments.csv\n"
     ]
    }
   ],
   "source": [
    "import csv\n",
    "\n",
    "# Define the file name\n",
    "output_file = \"vehicle_assignments.csv\"\n",
    "\n",
    "# Open the file in write mode\n",
    "with open(output_file, mode=\"w\", newline=\"\") as file:\n",
    "    # Create a CSV writer object\n",
    "    writer = csv.writer(file)\n",
    "    \n",
    "    # Write the header row\n",
    "    writer.writerow([\"Vehicle\", \"Customer\", \"Order\", \"Weight\"])\n",
    "    \n",
    "    # Write data rows\n",
    "    for o, j in order_cust_pairs:\n",
    "        for k in vehicles:\n",
    "            if w[o, j, k].X > 0:\n",
    "                writer.writerow([f\"vehicle{k}\", f\"customer{j}\", f\"order{o}\", w[o, j, k].X])\n",
    "\n",
    "print(f\"Data written to {output_file}\")\n",
    "\n"
   ]
  },
  {
   "cell_type": "code",
   "execution_count": 56,
   "metadata": {},
   "outputs": [
    {
     "name": "stdout",
     "output_type": "stream",
     "text": [
      "Total distance traveled by Vehicle 0: 482.19\n",
      "Total distance traveled by Vehicle 1: 245.062\n",
      "Total distance traveled by Vehicle 2: 1312.264\n",
      "Total distance traveled by Vehicle 3: 116.986\n",
      "Total distance traveled by Vehicle 4: 0\n",
      "Total distance traveled by Vehicle 5: 0\n"
     ]
    }
   ],
   "source": [
    "# # Calculate and display the distance traveled by each vehicle\n",
    "# vehicle_distances = {}\n",
    "\n",
    "# for vehicle, route in vehicle_routes.items():\n",
    "#     total_distance = sum(dist_matrix[i, j] for i, j in route)\n",
    "#     vehicle_distances[vehicle] = total_distance\n",
    "#     print(f\"Vehicle {vehicle} Distance Traveled: {total_distance}\")\n",
    "\n",
    "# # Optionally, print a summary\n",
    "# total_distance_all_vehicles = sum(vehicle_distances.values())\n",
    "# print(f\"Total Distance Traveled by All Vehicles: {total_distance_all_vehicles}\")\n",
    "# Initialize a dictionary to store total distance for each vehicle\n",
    "total_distance = {k: 0 for k in vehicles}\n",
    "\n",
    "# Calculate the total distance for each vehicle\n",
    "for k in vehicles:\n",
    "    for i in nodes:\n",
    "        for j in nodes:\n",
    "            if xijk[i, j, k].X > 0.5:  # Binary variable, thresholded for precision\n",
    "                total_distance[k] += dist_matrix[i, j]\n",
    "\n",
    "# Print the results\n",
    "for k, distance in total_distance.items():\n",
    "    print(f\"Total distance traveled by Vehicle {k}: {distance}\")\n",
    "\n"
   ]
  }
 ],
 "metadata": {
  "kernelspec": {
   "display_name": "Python 3",
   "language": "python",
   "name": "python3"
  },
  "language_info": {
   "codemirror_mode": {
    "name": "ipython",
    "version": 3
   },
   "file_extension": ".py",
   "mimetype": "text/x-python",
   "name": "python",
   "nbconvert_exporter": "python",
   "pygments_lexer": "ipython3",
   "version": "3.12.2"
  }
 },
 "nbformat": 4,
 "nbformat_minor": 2
}
