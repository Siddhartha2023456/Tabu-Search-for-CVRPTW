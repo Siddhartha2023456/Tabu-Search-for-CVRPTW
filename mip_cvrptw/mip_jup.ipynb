{
 "cells": [
  {
   "cell_type": "code",
   "execution_count": 1,
   "metadata": {},
   "outputs": [],
   "source": [
    "# import json\n",
    "\n",
    "# # Specify the path to the JSON file\n",
    "# file_path = 'inputs/solver_params_26.json'\n",
    "    \n",
    "\n",
    "# # Open and load the JSON file\n",
    "# with open(file_path, 'r') as file:\n",
    "#     data = json.load(file)\n",
    "\n",
    "# # Print the loaded data\n",
    "# print(data)\n",
    "\n",
    "data = {'numNodes': 8, 'loc_ids': ['PLC-9e64068d-0315-40f2-86b8-f1127a31981a', 'PLC-d22fba1b-b955-4030-b995-94fd0658ddd1', 'PLC-b4276938-dc67-4d61-a977-88aa5fc512e4', 'PLC-bdb8661a-7b36-4c7b-9b04-6bb507470fda', 'PLC-7b034c4e-257b-4d2a-814f-8567c6370f64', 'PLC-964323a4-11f7-4992-85af-d4b9bdd96001', 'PLC-f336a43b-345c-4f8d-a009-637024141c88', 'PLC-2c7b97d7-0d89-45d3-98ff-dc0bf9004e4e'], 'costs': [[0, 68.262, 58.493, 234.233, 157.275, 230.117, 656.132, 108.679], [68.262, 0, 24.302, 166.294, 95.279, 162.127, 703.504, 68.121], [58.493, 24.302, 0, 178.583, 98.81, 174.631, 679.801, 55.353], [234.233, 166.294, 178.583, 0, 90.373, 4.425, 819.063, 153.952], [157.275, 95.279, 98.81, 90.373, 0, 87.391, 731.915, 63.876], [230.117, 162.127, 174.631, 4.425, 87.391, 0, 816.933, 150.779], [656.132, 703.504, 679.801, 819.063, 731.915, 816.933, 0, 673.805], [108.679, 68.121, 55.353, 153.952, 63.876, 150.779, 673.805, 0]], 'durations': [[0, 164, 140, 562, 377, 552, 1575, 261], [164, 0, 58, 399, 229, 389, 1688, 163], [140, 58, 0, 429, 237, 419, 1632, 133], [562, 399, 429, 0, 217, 11, 1966, 369], [377, 229, 237, 217, 0, 210, 1757, 153], [552, 389, 419, 11, 210, 0, 1961, 362], [1575, 1688, 1632, 1966, 1757, 1961, 0, 1617], [261, 163, 133, 369, 153, 362, 1617, 0]], 'timeWindows': [[0, 144000], [0, 144000], [0, 144000], [0, 144000], [0, 144000], [0, 144000], [0, 144000], [0, 144000]], 'demands': [[0, 0, 0, 0, 0, 0, 0, 0], [270.17499999999995, 270.17499999999995, 270.17499999999995, 270.17499999999995, 270.17499999999995, 270.17499999999995, 270.17499999999995, 270.17499999999995], [88.474, 88.474, 88.474, 88.474, 88.474, 88.474, 88.474, 88.474], [567.91, 567.91, 567.91, 567.91, 567.91, 567.91, 567.91, 567.91], [59.510999999999996, 59.510999999999996, 59.510999999999996, 59.510999999999996, 59.510999999999996, 59.510999999999996, 59.510999999999996, 59.510999999999996], [123.723, 123.723, 123.723, 123.723, 123.723, 123.723, 123.723, 123.723], [543.998, 543.998, 543.998, 543.998, 543.998, 543.998, 543.998, 543.998], [149.78599999999997, 149.78599999999997, 149.78599999999997, 149.78599999999997, 149.78599999999997, 149.78599999999997, 149.78599999999997, 149.78599999999997]], 'max_weight': [5500, 3500, 4500, 600, 1200, 5000], 'max_volume': [777, 425, 635, 106, 265, 706], 'hop_fare': [1000, 1000, 1000, 1000, 1000, 1000], 'perKmCostPerVehicle': [32, 22, 25, 13, 19, 28], 'weight_matrix': [0, 0.005, 0.005, 0.008, 0.005, 0.005, 0.005, 0.005, 0.005, 0.005, 0.005, 0.005, 0.005, 0.002, 0.002, 0.023, 0.003, 0.005, 0.004, 0.002, 0.003, 0.003, 0.008, 0.003, 0.005, 0.008, 0.003, 0.005, 0.028, 0.005, 0.003, 0.009000000000000001, 0.005, 0.009000000000000001, 0.009000000000000001, 0.005, 0.005, 0.003, 0.005, 0.007, 0.003, 0.005, 0.025, 0.02, 0.015, 0.005, 0.015, 0.05, 0.001, 0.009000000000000001, 0.005, 0.035, 0.01, 0.01, 0.015, 0.01, 0.01, 0.02, 0.02, 0.03, 0.01, 0.005, 0.025, 0.02, 0.005, 0.02, 0.005, 0.005, 0.02, 0.003, 0.04, 0.03, 0.02, 0.025, 0.02, 0.06, 0.005], 'volume_matrix': [0, 19.955000000000002, 15.184999999999999, 14.696, 18.365000000000002, 14.835, 8.3, 8.655000000000001, 14.125, 6.18, 7.945, 7.42, 14.125, 2.332, 5.934, 28.428, 4.452, 7.065, 11.3, 4.308, 5.511, 3.4979999999999998, 14.696, 8.901, 8.3, 13.848, 8.475000000000001, 7.945, 34.608, 6.535, 7.098000000000001, 16.533, 7.595000000000001, 15.579, 11.124, 7.945, 8.475, 7.098000000000001, 14.125, 27.937, 11.973, 9.185, 45.925, 73.46000000000001, 44.505, 8.3, 25.965, 167.75, 2.825, 25.425, 7.945, 43.26, 16.95, 14.13, 42.375, 23.66, 18.37, 34.620000000000005, 31.78, 37.08, 16.95, 15.89, 35.325, 56.5, 11.83, 36.74, 9.004999999999999, 13.420000000000002, 34.620000000000005, 5.1930000000000005, 114.44000000000001, 84.75, 24.72, 42.375, 63.56, 89.03999999999999, 14.305000000000001], 'location_matrix': ['PLC-9e64068d-0315-40f2-86b8-f1127a31981a', 'PLC-2c7b97d7-0d89-45d3-98ff-dc0bf9004e4e', 'PLC-2c7b97d7-0d89-45d3-98ff-dc0bf9004e4e', 'PLC-2c7b97d7-0d89-45d3-98ff-dc0bf9004e4e', 'PLC-2c7b97d7-0d89-45d3-98ff-dc0bf9004e4e', 'PLC-2c7b97d7-0d89-45d3-98ff-dc0bf9004e4e', 'PLC-2c7b97d7-0d89-45d3-98ff-dc0bf9004e4e', 'PLC-2c7b97d7-0d89-45d3-98ff-dc0bf9004e4e', 'PLC-2c7b97d7-0d89-45d3-98ff-dc0bf9004e4e', 'PLC-2c7b97d7-0d89-45d3-98ff-dc0bf9004e4e', 'PLC-2c7b97d7-0d89-45d3-98ff-dc0bf9004e4e', 'PLC-2c7b97d7-0d89-45d3-98ff-dc0bf9004e4e', 'PLC-2c7b97d7-0d89-45d3-98ff-dc0bf9004e4e', 'PLC-7b034c4e-257b-4d2a-814f-8567c6370f64', 'PLC-7b034c4e-257b-4d2a-814f-8567c6370f64', 'PLC-7b034c4e-257b-4d2a-814f-8567c6370f64', 'PLC-7b034c4e-257b-4d2a-814f-8567c6370f64', 'PLC-7b034c4e-257b-4d2a-814f-8567c6370f64', 'PLC-7b034c4e-257b-4d2a-814f-8567c6370f64', 'PLC-964323a4-11f7-4992-85af-d4b9bdd96001', 'PLC-964323a4-11f7-4992-85af-d4b9bdd96001', 'PLC-964323a4-11f7-4992-85af-d4b9bdd96001', 'PLC-964323a4-11f7-4992-85af-d4b9bdd96001', 'PLC-964323a4-11f7-4992-85af-d4b9bdd96001', 'PLC-964323a4-11f7-4992-85af-d4b9bdd96001', 'PLC-964323a4-11f7-4992-85af-d4b9bdd96001', 'PLC-964323a4-11f7-4992-85af-d4b9bdd96001', 'PLC-964323a4-11f7-4992-85af-d4b9bdd96001', 'PLC-964323a4-11f7-4992-85af-d4b9bdd96001', 'PLC-964323a4-11f7-4992-85af-d4b9bdd96001', 'PLC-964323a4-11f7-4992-85af-d4b9bdd96001', 'PLC-b4276938-dc67-4d61-a977-88aa5fc512e4', 'PLC-b4276938-dc67-4d61-a977-88aa5fc512e4', 'PLC-b4276938-dc67-4d61-a977-88aa5fc512e4', 'PLC-b4276938-dc67-4d61-a977-88aa5fc512e4', 'PLC-b4276938-dc67-4d61-a977-88aa5fc512e4', 'PLC-b4276938-dc67-4d61-a977-88aa5fc512e4', 'PLC-b4276938-dc67-4d61-a977-88aa5fc512e4', 'PLC-b4276938-dc67-4d61-a977-88aa5fc512e4', 'PLC-bdb8661a-7b36-4c7b-9b04-6bb507470fda', 'PLC-bdb8661a-7b36-4c7b-9b04-6bb507470fda', 'PLC-bdb8661a-7b36-4c7b-9b04-6bb507470fda', 'PLC-bdb8661a-7b36-4c7b-9b04-6bb507470fda', 'PLC-bdb8661a-7b36-4c7b-9b04-6bb507470fda', 'PLC-bdb8661a-7b36-4c7b-9b04-6bb507470fda', 'PLC-bdb8661a-7b36-4c7b-9b04-6bb507470fda', 'PLC-bdb8661a-7b36-4c7b-9b04-6bb507470fda', 'PLC-bdb8661a-7b36-4c7b-9b04-6bb507470fda', 'PLC-bdb8661a-7b36-4c7b-9b04-6bb507470fda', 'PLC-bdb8661a-7b36-4c7b-9b04-6bb507470fda', 'PLC-bdb8661a-7b36-4c7b-9b04-6bb507470fda', 'PLC-bdb8661a-7b36-4c7b-9b04-6bb507470fda', 'PLC-bdb8661a-7b36-4c7b-9b04-6bb507470fda', 'PLC-bdb8661a-7b36-4c7b-9b04-6bb507470fda', 'PLC-bdb8661a-7b36-4c7b-9b04-6bb507470fda', 'PLC-d22fba1b-b955-4030-b995-94fd0658ddd1', 'PLC-d22fba1b-b955-4030-b995-94fd0658ddd1', 'PLC-d22fba1b-b955-4030-b995-94fd0658ddd1', 'PLC-d22fba1b-b955-4030-b995-94fd0658ddd1', 'PLC-d22fba1b-b955-4030-b995-94fd0658ddd1', 'PLC-d22fba1b-b955-4030-b995-94fd0658ddd1', 'PLC-d22fba1b-b955-4030-b995-94fd0658ddd1', 'PLC-d22fba1b-b955-4030-b995-94fd0658ddd1', 'PLC-d22fba1b-b955-4030-b995-94fd0658ddd1', 'PLC-f336a43b-345c-4f8d-a009-637024141c88', 'PLC-f336a43b-345c-4f8d-a009-637024141c88', 'PLC-f336a43b-345c-4f8d-a009-637024141c88', 'PLC-f336a43b-345c-4f8d-a009-637024141c88', 'PLC-f336a43b-345c-4f8d-a009-637024141c88', 'PLC-f336a43b-345c-4f8d-a009-637024141c88', 'PLC-f336a43b-345c-4f8d-a009-637024141c88', 'PLC-f336a43b-345c-4f8d-a009-637024141c88', 'PLC-f336a43b-345c-4f8d-a009-637024141c88', 'PLC-f336a43b-345c-4f8d-a009-637024141c88', 'PLC-f336a43b-345c-4f8d-a009-637024141c88', 'PLC-f336a43b-345c-4f8d-a009-637024141c88', 'PLC-f336a43b-345c-4f8d-a009-637024141c88'], 'vehicle_base_fare_matrix': [[0, 0, 0, 0, 0, 0], [2500, 2000, 2000, 1000, 1500, 2000], [2000, 1500, 1500, 1000, 1500, 2000], [7500, 5500, 6000, 3500, 4500, 7000], [5500, 3500, 4000, 2500, 3000, 4500], [7500, 5500, 6000, 3000, 4500, 6500], [21000, 14500, 16500, 9000, 12500, 18500], [3500, 2500, 3000, 1500, 2500, 3500]], 'optimization_option': 'dist'}\n"
   ]
  },
  {
   "cell_type": "code",
   "execution_count": 2,
   "metadata": {},
   "outputs": [
    {
     "data": {
      "text/plain": [
       "['PLC-9e64068d-0315-40f2-86b8-f1127a31981a',\n",
       " 'PLC-d22fba1b-b955-4030-b995-94fd0658ddd1',\n",
       " 'PLC-b4276938-dc67-4d61-a977-88aa5fc512e4',\n",
       " 'PLC-bdb8661a-7b36-4c7b-9b04-6bb507470fda',\n",
       " 'PLC-7b034c4e-257b-4d2a-814f-8567c6370f64',\n",
       " 'PLC-964323a4-11f7-4992-85af-d4b9bdd96001',\n",
       " 'PLC-f336a43b-345c-4f8d-a009-637024141c88',\n",
       " 'PLC-2c7b97d7-0d89-45d3-98ff-dc0bf9004e4e']"
      ]
     },
     "execution_count": 2,
     "metadata": {},
     "output_type": "execute_result"
    }
   ],
   "source": [
    "data[\"loc_ids\"]"
   ]
  },
  {
   "cell_type": "code",
   "execution_count": 3,
   "metadata": {},
   "outputs": [],
   "source": [
    "loc_id_mapping = {loc_id: idx for idx, loc_id in enumerate(data[\"loc_ids\"])}"
   ]
  },
  {
   "cell_type": "code",
   "execution_count": 29,
   "metadata": {},
   "outputs": [
    {
     "name": "stdout",
     "output_type": "stream",
     "text": [
      "[0, 7, 7, 7, 7, 7, 7, 7, 7, 7, 7, 7, 7, 4, 4, 4, 4, 4, 4, 5, 5, 5, 5, 5, 5, 5, 5, 5, 5, 5, 5, 2, 2, 2, 2, 2, 2, 2, 2, 3, 3, 3, 3, 3, 3, 3, 3, 3, 3, 3, 3, 3, 3, 3, 3, 1, 1, 1, 1, 1, 1, 1, 1, 1, 6, 6, 6, 6, 6, 6, 6, 6, 6, 6, 6, 6, 6]\n",
      "77\n"
     ]
    }
   ],
   "source": [
    "mapped_location_matrix = [loc_id_mapping[loc] for loc in data[\"location_matrix\"]]\n",
    "\n",
    "print(mapped_location_matrix)\n",
    "print(len(mapped_location_matrix))"
   ]
  },
  {
   "cell_type": "code",
   "execution_count": 5,
   "metadata": {},
   "outputs": [],
   "source": [
    "import pandas as pd\n",
    "df_orders = pd.DataFrame([data[\"weight_matrix\"], data[\"volume_matrix\"], mapped_location_matrix]).transpose()\n",
    "df_orders.columns=[\"order_weight\",\"order_volume\",\"order_loc\"]"
   ]
  },
  {
   "cell_type": "code",
   "execution_count": 6,
   "metadata": {},
   "outputs": [
    {
     "data": {
      "text/html": [
       "<div>\n",
       "<style scoped>\n",
       "    .dataframe tbody tr th:only-of-type {\n",
       "        vertical-align: middle;\n",
       "    }\n",
       "\n",
       "    .dataframe tbody tr th {\n",
       "        vertical-align: top;\n",
       "    }\n",
       "\n",
       "    .dataframe thead th {\n",
       "        text-align: right;\n",
       "    }\n",
       "</style>\n",
       "<table border=\"1\" class=\"dataframe\">\n",
       "  <thead>\n",
       "    <tr style=\"text-align: right;\">\n",
       "      <th></th>\n",
       "      <th>order_loc</th>\n",
       "      <th>order_weight</th>\n",
       "      <th>order_volume</th>\n",
       "    </tr>\n",
       "  </thead>\n",
       "  <tbody>\n",
       "    <tr>\n",
       "      <th>0</th>\n",
       "      <td>0.0</td>\n",
       "      <td>0.000</td>\n",
       "      <td>0.000</td>\n",
       "    </tr>\n",
       "    <tr>\n",
       "      <th>1</th>\n",
       "      <td>1.0</td>\n",
       "      <td>0.150</td>\n",
       "      <td>270.175</td>\n",
       "    </tr>\n",
       "    <tr>\n",
       "      <th>2</th>\n",
       "      <td>2.0</td>\n",
       "      <td>0.050</td>\n",
       "      <td>88.474</td>\n",
       "    </tr>\n",
       "    <tr>\n",
       "      <th>3</th>\n",
       "      <td>3.0</td>\n",
       "      <td>0.230</td>\n",
       "      <td>567.910</td>\n",
       "    </tr>\n",
       "    <tr>\n",
       "      <th>4</th>\n",
       "      <td>4.0</td>\n",
       "      <td>0.039</td>\n",
       "      <td>59.511</td>\n",
       "    </tr>\n",
       "    <tr>\n",
       "      <th>5</th>\n",
       "      <td>5.0</td>\n",
       "      <td>0.076</td>\n",
       "      <td>123.723</td>\n",
       "    </tr>\n",
       "    <tr>\n",
       "      <th>6</th>\n",
       "      <td>6.0</td>\n",
       "      <td>0.258</td>\n",
       "      <td>543.998</td>\n",
       "    </tr>\n",
       "    <tr>\n",
       "      <th>7</th>\n",
       "      <td>7.0</td>\n",
       "      <td>0.063</td>\n",
       "      <td>149.786</td>\n",
       "    </tr>\n",
       "  </tbody>\n",
       "</table>\n",
       "</div>"
      ],
      "text/plain": [
       "   order_loc  order_weight  order_volume\n",
       "0        0.0         0.000         0.000\n",
       "1        1.0         0.150       270.175\n",
       "2        2.0         0.050        88.474\n",
       "3        3.0         0.230       567.910\n",
       "4        4.0         0.039        59.511\n",
       "5        5.0         0.076       123.723\n",
       "6        6.0         0.258       543.998\n",
       "7        7.0         0.063       149.786"
      ]
     },
     "execution_count": 6,
     "metadata": {},
     "output_type": "execute_result"
    }
   ],
   "source": [
    "df_orders_f = df_orders.groupby(\"order_loc\").sum().reset_index()\n",
    "df_orders_f"
   ]
  },
  {
   "cell_type": "code",
   "execution_count": 7,
   "metadata": {},
   "outputs": [],
   "source": [
    "distance_matrix = data[\"costs\"]\n",
    "duration_matrix = data[\"durations\"]\n",
    "max_veh_weight = data[\"max_weight\"]\n",
    "max_veh_volume = data[\"max_volume\"]\n",
    "time_windows = data[\"timeWindows\"]\n"
   ]
  },
  {
   "cell_type": "code",
   "execution_count": 8,
   "metadata": {},
   "outputs": [],
   "source": [
    "start_time = [i for i, j in time_windows]\n",
    "finish_time = [j for i, j in time_windows]\n",
    "nodes = list(loc_id_mapping.values())\n",
    "depot = 0\n",
    "customers = nodes[1:]"
   ]
  },
  {
   "cell_type": "code",
   "execution_count": 9,
   "metadata": {},
   "outputs": [
    {
     "data": {
      "text/plain": [
       "[0, 0, 0, 0, 0, 0, 0, 0]"
      ]
     },
     "execution_count": 9,
     "metadata": {},
     "output_type": "execute_result"
    }
   ],
   "source": [
    "start_time"
   ]
  },
  {
   "cell_type": "code",
   "execution_count": 10,
   "metadata": {},
   "outputs": [],
   "source": [
    "dist_matrix = {\n",
    "    (i, j): distance_matrix[i][j]\n",
    "    for i in range(len(distance_matrix))\n",
    "    for j in range(len(distance_matrix[i]))\n",
    "}\n",
    "dist_matrix\n",
    "\n",
    "time_matrix = {\n",
    "    (i, j): duration_matrix[i][j]\n",
    "    for i in range(len(duration_matrix))\n",
    "    for j in range(len(duration_matrix[i]))\n",
    "}"
   ]
  },
  {
   "cell_type": "code",
   "execution_count": 11,
   "metadata": {},
   "outputs": [
    {
     "data": {
      "text/plain": [
       "{(0, 0): 0,\n",
       " (0, 1): 68.262,\n",
       " (0, 2): 58.493,\n",
       " (0, 3): 234.233,\n",
       " (0, 4): 157.275,\n",
       " (0, 5): 230.117,\n",
       " (0, 6): 656.132,\n",
       " (0, 7): 108.679,\n",
       " (1, 0): 68.262,\n",
       " (1, 1): 0,\n",
       " (1, 2): 24.302,\n",
       " (1, 3): 166.294,\n",
       " (1, 4): 95.279,\n",
       " (1, 5): 162.127,\n",
       " (1, 6): 703.504,\n",
       " (1, 7): 68.121,\n",
       " (2, 0): 58.493,\n",
       " (2, 1): 24.302,\n",
       " (2, 2): 0,\n",
       " (2, 3): 178.583,\n",
       " (2, 4): 98.81,\n",
       " (2, 5): 174.631,\n",
       " (2, 6): 679.801,\n",
       " (2, 7): 55.353,\n",
       " (3, 0): 234.233,\n",
       " (3, 1): 166.294,\n",
       " (3, 2): 178.583,\n",
       " (3, 3): 0,\n",
       " (3, 4): 90.373,\n",
       " (3, 5): 4.425,\n",
       " (3, 6): 819.063,\n",
       " (3, 7): 153.952,\n",
       " (4, 0): 157.275,\n",
       " (4, 1): 95.279,\n",
       " (4, 2): 98.81,\n",
       " (4, 3): 90.373,\n",
       " (4, 4): 0,\n",
       " (4, 5): 87.391,\n",
       " (4, 6): 731.915,\n",
       " (4, 7): 63.876,\n",
       " (5, 0): 230.117,\n",
       " (5, 1): 162.127,\n",
       " (5, 2): 174.631,\n",
       " (5, 3): 4.425,\n",
       " (5, 4): 87.391,\n",
       " (5, 5): 0,\n",
       " (5, 6): 816.933,\n",
       " (5, 7): 150.779,\n",
       " (6, 0): 656.132,\n",
       " (6, 1): 703.504,\n",
       " (6, 2): 679.801,\n",
       " (6, 3): 819.063,\n",
       " (6, 4): 731.915,\n",
       " (6, 5): 816.933,\n",
       " (6, 6): 0,\n",
       " (6, 7): 673.805,\n",
       " (7, 0): 108.679,\n",
       " (7, 1): 68.121,\n",
       " (7, 2): 55.353,\n",
       " (7, 3): 153.952,\n",
       " (7, 4): 63.876,\n",
       " (7, 5): 150.779,\n",
       " (7, 6): 673.805,\n",
       " (7, 7): 0}"
      ]
     },
     "execution_count": 11,
     "metadata": {},
     "output_type": "execute_result"
    }
   ],
   "source": [
    "dist_matrix"
   ]
  },
  {
   "cell_type": "code",
   "execution_count": 12,
   "metadata": {},
   "outputs": [],
   "source": [
    "df_vehicle = pd.DataFrame([max_veh_weight,max_veh_volume]).transpose().reset_index()\n",
    "df_vehicle.columns = [\"v_id\",\"max_weight\",\"max_volume\"]\n",
    "vehicles = list(df_vehicle[\"v_id\"])\n",
    "demand_w = list(df_orders_f[\"order_weight\"])\n",
    "demand_v = list(df_orders_f[\"order_volume\"])\n",
    "max_vehw =list(df_vehicle[\"max_weight\"])\n",
    "max_vehv =list(df_vehicle[\"max_volume\"])\n"
   ]
  },
  {
   "cell_type": "code",
   "execution_count": 13,
   "metadata": {},
   "outputs": [
    {
     "data": {
      "text/plain": [
       "{(0, 0): 0,\n",
       " (0, 1): 164,\n",
       " (0, 2): 140,\n",
       " (0, 3): 562,\n",
       " (0, 4): 377,\n",
       " (0, 5): 552,\n",
       " (0, 6): 1575,\n",
       " (0, 7): 261,\n",
       " (1, 0): 164,\n",
       " (1, 1): 0,\n",
       " (1, 2): 58,\n",
       " (1, 3): 399,\n",
       " (1, 4): 229,\n",
       " (1, 5): 389,\n",
       " (1, 6): 1688,\n",
       " (1, 7): 163,\n",
       " (2, 0): 140,\n",
       " (2, 1): 58,\n",
       " (2, 2): 0,\n",
       " (2, 3): 429,\n",
       " (2, 4): 237,\n",
       " (2, 5): 419,\n",
       " (2, 6): 1632,\n",
       " (2, 7): 133,\n",
       " (3, 0): 562,\n",
       " (3, 1): 399,\n",
       " (3, 2): 429,\n",
       " (3, 3): 0,\n",
       " (3, 4): 217,\n",
       " (3, 5): 11,\n",
       " (3, 6): 1966,\n",
       " (3, 7): 369,\n",
       " (4, 0): 377,\n",
       " (4, 1): 229,\n",
       " (4, 2): 237,\n",
       " (4, 3): 217,\n",
       " (4, 4): 0,\n",
       " (4, 5): 210,\n",
       " (4, 6): 1757,\n",
       " (4, 7): 153,\n",
       " (5, 0): 552,\n",
       " (5, 1): 389,\n",
       " (5, 2): 419,\n",
       " (5, 3): 11,\n",
       " (5, 4): 210,\n",
       " (5, 5): 0,\n",
       " (5, 6): 1961,\n",
       " (5, 7): 362,\n",
       " (6, 0): 1575,\n",
       " (6, 1): 1688,\n",
       " (6, 2): 1632,\n",
       " (6, 3): 1966,\n",
       " (6, 4): 1757,\n",
       " (6, 5): 1961,\n",
       " (6, 6): 0,\n",
       " (6, 7): 1617,\n",
       " (7, 0): 261,\n",
       " (7, 1): 163,\n",
       " (7, 2): 133,\n",
       " (7, 3): 369,\n",
       " (7, 4): 153,\n",
       " (7, 5): 362,\n",
       " (7, 6): 1617,\n",
       " (7, 7): 0}"
      ]
     },
     "execution_count": 13,
     "metadata": {},
     "output_type": "execute_result"
    }
   ],
   "source": [
    "time_matrix"
   ]
  },
  {
   "cell_type": "code",
   "execution_count": 14,
   "metadata": {},
   "outputs": [],
   "source": [
    "import gurobipy as gp\n",
    "from gurobipy import *"
   ]
  },
  {
   "cell_type": "code",
   "execution_count": 15,
   "metadata": {},
   "outputs": [
    {
     "name": "stdout",
     "output_type": "stream",
     "text": [
      "Set parameter Username\n",
      "Academic license - for non-commercial use only - expires 2025-06-24\n"
     ]
    }
   ],
   "source": [
    "my_model=gp.Model('CVRPTW')\n",
    "xijk=my_model.addVars(nodes, nodes, vehicles, vtype=GRB.BINARY, name='xijk')\n",
    "sik = my_model.addVars(nodes, vehicles, vtype = GRB.CONTINUOUS, name = 'sik')\n",
    "w = my_model.addVars(customers, vehicles, vtype = GRB.CONTINUOUS, name = 'wjk')\n",
    "v = my_model.addVars(customers, vehicles, vtype = GRB.CONTINUOUS, name = 'vjk')"
   ]
  },
  {
   "cell_type": "code",
   "execution_count": 16,
   "metadata": {},
   "outputs": [],
   "source": [
    "#Objective function\n",
    "obj_fn = (gp.quicksum(dist_matrix[i,j]* gp.quicksum(xijk[i,j,k] for k in vehicles) for i in nodes for j in nodes))\n",
    "\n",
    "my_model.setObjective(obj_fn, GRB.MINIMIZE)\n"
   ]
  },
  {
   "cell_type": "code",
   "execution_count": 17,
   "metadata": {},
   "outputs": [],
   "source": [
    "#Source to sink constraints\n",
    "my_model.addConstrs(gp.quicksum(xijk[0,j,k] for j in customers)==1 for k in vehicles)\n",
    "my_model.addConstrs(gp.quicksum(xijk[i,0,k] for i in customers)==1 for k in vehicles);"
   ]
  },
  {
   "cell_type": "code",
   "execution_count": 18,
   "metadata": {},
   "outputs": [],
   "source": [
    "my_model.addConstrs(gp.quicksum(xijk[i,h,k] for i in nodes)- gp.quicksum(xijk[h,j,k] for j in nodes)==0 \n",
    "                    for h in customers for k in vehicles);\n",
    "# my_model.addConstrs(\n",
    "#     (gp.quicksum(xijk[i, h, k] for i in nodes if i != h) - gp.quicksum(xijk[h, j, k] for j in nodes if j != h) == 0\n",
    "#      for h in customers for k in vehicles),\n",
    "#     name=\"visit_once_constraint\"\n",
    "# )\n",
    "my_model.addConstrs(gp.quicksum(xijk[i, j, k] for j in nodes for k in vehicles) == 1 for i in customers);\n",
    "# my_model.addConstrs(gp.quicksum(xijk[j, i, k] for j in customers for k in vehicles if i != j) == 1 for i in customers);\n",
    "my_model.addConstrs(gp.quicksum(xijk[i, j, k] for j in nodes for k in vehicles if i == j) == 0 for i in customers);"
   ]
  },
  {
   "cell_type": "code",
   "execution_count": 19,
   "metadata": {},
   "outputs": [],
   "source": [
    "#capacity constraints\n",
    "my_model.addConstrs(gp.quicksum(w[j,k] for k in vehicles) == demand_w[j] \n",
    "                    for j in customers)\n",
    "my_model.addConstrs(gp.quicksum(w[j,k] for j in customers) <= max_vehw[k] for k in vehicles)\n",
    "my_model.addConstrs(gp.quicksum(v[j,k] for k in vehicles) == demand_v[j] \n",
    "                    for j in customers)\n",
    "my_model.addConstrs(gp.quicksum(v[j,k] for j in customers) <= max_vehv[k] for k in vehicles);"
   ]
  },
  {
   "cell_type": "code",
   "execution_count": 20,
   "metadata": {},
   "outputs": [],
   "source": [
    "bigM = 1000000\n",
    "my_model.addConstrs(w[j,k] <= bigM * gp.quicksum(xijk[i,j,k] for i in nodes) for j in customers for k in vehicles);\n",
    "my_model.addConstrs(v[j,k] <= bigM * gp.quicksum(xijk[i,j,k] for i in nodes) for j in customers for k in vehicles);"
   ]
  },
  {
   "cell_type": "code",
   "execution_count": 21,
   "metadata": {},
   "outputs": [],
   "source": [
    "my_model.addConstrs(sik[i,k] + time_matrix[i,j] - sik[j,k] <= (1-xijk[i,j,k]) *bigM \n",
    "                    for i in customers \n",
    "                    for j in customers for k in vehicles);"
   ]
  },
  {
   "cell_type": "code",
   "execution_count": 22,
   "metadata": {},
   "outputs": [],
   "source": [
    "my_model.addConstrs(sik[i,k] <= finish_time[i] for i in nodes for k in vehicles)\n",
    "                    \n",
    "my_model.addConstrs(sik[i,k] >= start_time[i] for i in nodes for k in vehicles); "
   ]
  },
  {
   "cell_type": "code",
   "execution_count": 23,
   "metadata": {},
   "outputs": [],
   "source": [
    "#my_model.setParam(\"MIPGap\",0.6)"
   ]
  },
  {
   "cell_type": "code",
   "execution_count": 24,
   "metadata": {},
   "outputs": [
    {
     "name": "stdout",
     "output_type": "stream",
     "text": [
      "Gurobi Optimizer version 11.0.0 build v11.0.0rc2 (win64 - Windows 11+.0 (26100.2))\n",
      "\n",
      "CPU model: AMD Ryzen 5 5500U with Radeon Graphics, instruction set [SSE2|AVX|AVX2]\n",
      "Thread count: 6 physical cores, 12 logical processors, using up to 12 threads\n",
      "\n",
      "Optimize a model with 568 rows, 516 columns and 2868 nonzeros\n",
      "Model fingerprint: 0xb702b3de\n",
      "Variable types: 132 continuous, 384 integer (384 binary)\n",
      "Coefficient statistics:\n",
      "  Matrix range     [1e+00, 1e+06]\n",
      "  Objective range  [4e+00, 8e+02]\n",
      "  Bounds range     [1e+00, 1e+00]\n",
      "  RHS range        [4e-02, 1e+06]\n",
      "Presolve removed 326 rows and 249 columns\n",
      "Presolve time: 0.05s\n",
      "Presolved: 242 rows, 267 columns, 1691 nonzeros\n",
      "Variable types: 90 continuous, 177 integer (177 binary)\n",
      "Found heuristic solution: objective 2725.2470000\n",
      "\n",
      "Root relaxation: objective 2.566457e+03, 120 iterations, 0.00 seconds (0.00 work units)\n",
      "\n",
      "    Nodes    |    Current Node    |     Objective Bounds      |     Work\n",
      " Expl Unexpl |  Obj  Depth IntInf | Incumbent    BestBd   Gap | It/Node Time\n",
      "\n",
      "H    0     0                    2566.4570000  116.98600  95.4%     -    0s\n",
      "     0     0          -    0      2566.45700 2566.45700  0.00%     -    0s\n",
      "\n",
      "Explored 1 nodes (135 simplex iterations) in 0.11 seconds (0.02 work units)\n",
      "Thread count was 12 (of 12 available processors)\n",
      "\n",
      "Solution count 2: 2566.46 2725.25 \n",
      "\n",
      "Optimal solution found (tolerance 1.00e-04)\n",
      "Best objective 2.566457000000e+03, best bound 2.566457000000e+03, gap 0.0000%\n"
     ]
    }
   ],
   "source": [
    "my_model.optimize()"
   ]
  },
  {
   "cell_type": "code",
   "execution_count": 25,
   "metadata": {},
   "outputs": [
    {
     "name": "stdout",
     "output_type": "stream",
     "text": [
      "Non-zero values of x:\n",
      "x_0_1_2 = 1.0\n",
      "x_0_2_3 = 1.0\n",
      "x_0_4_1 = 1.0\n",
      "x_0_5_0 = 1.0\n",
      "x_0_6_5 = 1.0\n",
      "x_0_7_4 = 1.0\n",
      "x_1_0_2 = 1.0\n",
      "x_2_0_3 = 1.0\n",
      "x_3_0_0 = 1.0\n",
      "x_4_0_1 = 1.0\n",
      "x_5_3_0 = 1.0\n",
      "x_6_0_5 = 1.0\n",
      "x_7_0_4 = 1.0\n"
     ]
    }
   ],
   "source": [
    "# Create a new dictionary to store non-zero values\n",
    "non_zero_xijk = {}\n",
    "\n",
    "# Iterate over all keys and values in xijk\n",
    "for (i, j, k), value in xijk.items():\n",
    "    # Check if the value is a Gurobi variable\n",
    "    if hasattr(value, \"X\"):  # If it's a Gurobi variable, use .X to get the optimized value\n",
    "        if value.X > 0.5:  # Filter for non-zero values\n",
    "            non_zero_xijk[(i, j, k)] = value.X\n",
    "    else:  # Otherwise, assume it's a numeric value\n",
    "        if value > 0.5:  # Filter for non-zero values\n",
    "            non_zero_xijk[(i, j, k)] = value\n",
    "\n",
    "# Print the non-zero values\n",
    "print(\"Non-zero values of x:\")\n",
    "for (i, j, k), value in non_zero_xijk.items():\n",
    "    print(f\"x_{i}_{j}_{k} = {value}\")"
   ]
  },
  {
   "cell_type": "code",
   "execution_count": 26,
   "metadata": {},
   "outputs": [
    {
     "name": "stdout",
     "output_type": "stream",
     "text": [
      "Vehicle 2 Route: [(0, 1), (1, 0)]\n",
      "Vehicle 3 Route: [(0, 2), (2, 0)]\n",
      "Vehicle 1 Route: [(0, 4), (4, 0)]\n",
      "Vehicle 0 Route: [(0, 5), (3, 0), (5, 3)]\n",
      "Vehicle 5 Route: [(0, 6), (6, 0)]\n",
      "Vehicle 4 Route: [(0, 7), (7, 0)]\n"
     ]
    }
   ],
   "source": [
    "# Create a dictionary to store routes for each vehicle\n",
    "vehicle_routes = {}\n",
    "\n",
    "# Iterate over the non_zero_xijk dictionary to create routes\n",
    "for (i, j, k), value in non_zero_xijk.items():\n",
    "    if value == 1.0:\n",
    "        if k not in vehicle_routes:\n",
    "            vehicle_routes[k] = []  # Create a list for each vehicle if not already created\n",
    "        vehicle_routes[k].append((i, j))\n",
    "        \n",
    "\n",
    "# Display the routes for each vehicle\n",
    "for vehicle, route in vehicle_routes.items():\n",
    "    print(f\"Vehicle {vehicle} Route: {route}\")"
   ]
  },
  {
   "cell_type": "code",
   "execution_count": 27,
   "metadata": {},
   "outputs": [
    {
     "name": "stdout",
     "output_type": "stream",
     "text": [
      "vehicle2 and customer1 order:0.15\n",
      "vehicle3 and customer2 order:0.05\n",
      "vehicle0 and customer3 order:0.23\n",
      "vehicle1 and customer4 order:0.039\n",
      "vehicle0 and customer5 order:0.076\n",
      "vehicle5 and customer6 order:0.258\n",
      "vehicle4 and customer7 order:0.063\n"
     ]
    }
   ],
   "source": [
    "for j in customers:\n",
    "    for k in vehicles:\n",
    "        if w[j,k].X>0:\n",
    "            print(f\"vehicle{k} and customer{j} order:{w[j,k].X}\")\n"
   ]
  },
  {
   "cell_type": "code",
   "execution_count": 28,
   "metadata": {},
   "outputs": [
    {
     "name": "stdout",
     "output_type": "stream",
     "text": [
      "Vehicle 2 Distance Traveled: 136.524\n",
      "Vehicle 3 Distance Traveled: 116.986\n",
      "Vehicle 1 Distance Traveled: 314.55\n",
      "Vehicle 0 Distance Traveled: 468.775\n",
      "Vehicle 5 Distance Traveled: 1312.264\n",
      "Vehicle 4 Distance Traveled: 217.358\n",
      "Total Distance Traveled by All Vehicles: 2566.457\n"
     ]
    }
   ],
   "source": [
    "# Calculate and display the distance traveled by each vehicle\n",
    "vehicle_distances = {}\n",
    "\n",
    "for vehicle, route in vehicle_routes.items():\n",
    "    total_distance = sum(dist_matrix[i, j] for i, j in route)\n",
    "    vehicle_distances[vehicle] = total_distance\n",
    "    print(f\"Vehicle {vehicle} Distance Traveled: {total_distance}\")\n",
    "\n",
    "# Optionally, print a summary\n",
    "total_distance_all_vehicles = sum(vehicle_distances.values())\n",
    "print(f\"Total Distance Traveled by All Vehicles: {total_distance_all_vehicles}\")\n"
   ]
  }
 ],
 "metadata": {
  "kernelspec": {
   "display_name": "Python 3",
   "language": "python",
   "name": "python3"
  },
  "language_info": {
   "codemirror_mode": {
    "name": "ipython",
    "version": 3
   },
   "file_extension": ".py",
   "mimetype": "text/x-python",
   "name": "python",
   "nbconvert_exporter": "python",
   "pygments_lexer": "ipython3",
   "version": "3.12.2"
  }
 },
 "nbformat": 4,
 "nbformat_minor": 2
}
