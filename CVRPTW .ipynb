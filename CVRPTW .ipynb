{
 "cells": [
  {
   "cell_type": "code",
   "execution_count": 1,
   "id": "8adc32ac",
   "metadata": {},
   "outputs": [],
   "source": [
    "import gurobipy as gp\n",
    "from gurobipy import *\n",
    "import numpy as np\n",
    "import pandas as pd"
   ]
  },
  {
   "cell_type": "code",
   "execution_count": 2,
   "id": "50cceaf5",
   "metadata": {},
   "outputs": [],
   "source": [
    "bigM = 1000000"
   ]
  },
  {
   "cell_type": "code",
   "execution_count": 3,
   "id": "58e0d1e7",
   "metadata": {},
   "outputs": [],
   "source": [
    "# Load data\n",
    "locations_df = pd.read_csv('locations.csv')\n",
    "order_list_df = pd.read_excel('order_list_1.xlsx')\n",
    "travel_matrix_df = pd.read_csv('travel_matrix.csv')\n",
    "trucks_df = pd.read_csv('trucks.csv')"
   ]
  },
  {
   "cell_type": "code",
   "execution_count": 4,
   "id": "e040d863",
   "metadata": {},
   "outputs": [],
   "source": [
    "Q = sorted(list(set(trucks_df['truck_max_weight'])))"
   ]
  },
  {
   "cell_type": "code",
   "execution_count": 5,
   "id": "eca8b9c0",
   "metadata": {},
   "outputs": [],
   "source": [
    "Q = [Q[0]]*10 + [Q[1]]*8 + [Q[2]]*10 + [Q[3]]*4 + [Q[4]]*5"
   ]
  },
  {
   "cell_type": "code",
   "execution_count": 6,
   "id": "5c452c6d",
   "metadata": {},
   "outputs": [],
   "source": [
    "dest1 = list(set(order_list_df['Destination Code']))[:15]"
   ]
  },
  {
   "cell_type": "code",
   "execution_count": 7,
   "id": "539c9f2f",
   "metadata": {},
   "outputs": [],
   "source": [
    "dest = [str(i) for i in dest1]"
   ]
  },
  {
   "cell_type": "code",
   "execution_count": 8,
   "id": "5d6db525",
   "metadata": {},
   "outputs": [],
   "source": [
    "order_list_df = order_list_df[order_list_df['Destination Code'].isin(dest1)]"
   ]
  },
  {
   "cell_type": "code",
   "execution_count": 9,
   "id": "21af69f9",
   "metadata": {},
   "outputs": [],
   "source": [
    "order_list_df1 = order_list_df.sort_values(by = 'Destination Code').groupby('Destination Code').sum().reset_index()"
   ]
  },
  {
   "cell_type": "code",
   "execution_count": 10,
   "id": "56253c4c",
   "metadata": {},
   "outputs": [],
   "source": [
    "locations_df = locations_df[locations_df['location_code'].isin(dest + ['A123'])]"
   ]
  },
  {
   "cell_type": "code",
   "execution_count": 11,
   "id": "56bc7e8c",
   "metadata": {},
   "outputs": [],
   "source": [
    "# Convert loading/unloading windows to minutes with explicit format\n",
    "locations_df['start_minutes'] = pd.to_datetime(locations_df['location_loading_unloading_window_start'], format='%H:%M').dt.hour * 60 + pd.to_datetime(locations_df['location_loading_unloading_window_start'], format='%H:%M').dt.minute\n",
    "locations_df['end_minutes'] = pd.to_datetime(locations_df['location_loading_unloading_window_end'], format='%H:%M').dt.hour * 60 + pd.to_datetime(locations_df['location_loading_unloading_window_end'], format='%H:%M').dt.minute"
   ]
  },
  {
   "cell_type": "code",
   "execution_count": 12,
   "id": "fcd86a64",
   "metadata": {},
   "outputs": [],
   "source": [
    "customers = locations_df.sort_values(by = 'location_code').iloc[:len(order_list_df1),:]"
   ]
  },
  {
   "cell_type": "code",
   "execution_count": 13,
   "id": "c4083ab6",
   "metadata": {},
   "outputs": [],
   "source": [
    "locations_df2 = locations_df.sort_values(by = 'location_code')"
   ]
  },
  {
   "cell_type": "code",
   "execution_count": 14,
   "id": "b3789497",
   "metadata": {},
   "outputs": [
    {
     "data": {
      "text/html": [
       "<div>\n",
       "<style scoped>\n",
       "    .dataframe tbody tr th:only-of-type {\n",
       "        vertical-align: middle;\n",
       "    }\n",
       "\n",
       "    .dataframe tbody tr th {\n",
       "        vertical-align: top;\n",
       "    }\n",
       "\n",
       "    .dataframe thead th {\n",
       "        text-align: right;\n",
       "    }\n",
       "</style>\n",
       "<table border=\"1\" class=\"dataframe\">\n",
       "  <thead>\n",
       "    <tr style=\"text-align: right;\">\n",
       "      <th></th>\n",
       "      <th>location_code</th>\n",
       "      <th>trucks_allowed</th>\n",
       "      <th>location_loading_unloading_window_start</th>\n",
       "      <th>location_loading_unloading_window_end</th>\n",
       "      <th>start_minutes</th>\n",
       "      <th>end_minutes</th>\n",
       "    </tr>\n",
       "  </thead>\n",
       "  <tbody>\n",
       "    <tr>\n",
       "      <th>36</th>\n",
       "      <td>10208768</td>\n",
       "      <td>['3 tonner Box', '5 tonner Box', '7.5 tonner T...</td>\n",
       "      <td>8:00</td>\n",
       "      <td>22:00</td>\n",
       "      <td>480</td>\n",
       "      <td>1320</td>\n",
       "    </tr>\n",
       "    <tr>\n",
       "      <th>65</th>\n",
       "      <td>10208776</td>\n",
       "      <td>['3 tonner Box', '5 tonner Box', '7.5 tonner T...</td>\n",
       "      <td>8:00</td>\n",
       "      <td>22:00</td>\n",
       "      <td>480</td>\n",
       "      <td>1320</td>\n",
       "    </tr>\n",
       "    <tr>\n",
       "      <th>45</th>\n",
       "      <td>10212373</td>\n",
       "      <td>['3 tonner Box']</td>\n",
       "      <td>8:00</td>\n",
       "      <td>22:00</td>\n",
       "      <td>480</td>\n",
       "      <td>1320</td>\n",
       "    </tr>\n",
       "    <tr>\n",
       "      <th>16</th>\n",
       "      <td>10218045</td>\n",
       "      <td>['3 tonner Box', '5 tonner Box', '7.5 tonner T...</td>\n",
       "      <td>8:00</td>\n",
       "      <td>22:00</td>\n",
       "      <td>480</td>\n",
       "      <td>1320</td>\n",
       "    </tr>\n",
       "    <tr>\n",
       "      <th>74</th>\n",
       "      <td>10310757</td>\n",
       "      <td>['3 tonner Box']</td>\n",
       "      <td>8:00</td>\n",
       "      <td>22:00</td>\n",
       "      <td>480</td>\n",
       "      <td>1320</td>\n",
       "    </tr>\n",
       "    <tr>\n",
       "      <th>12</th>\n",
       "      <td>10364446</td>\n",
       "      <td>['3 tonner Box', '5 tonner Box', '7.5 tonner T...</td>\n",
       "      <td>8:00</td>\n",
       "      <td>22:00</td>\n",
       "      <td>480</td>\n",
       "      <td>1320</td>\n",
       "    </tr>\n",
       "    <tr>\n",
       "      <th>55</th>\n",
       "      <td>10366979</td>\n",
       "      <td>['3 tonner Box']</td>\n",
       "      <td>8:00</td>\n",
       "      <td>22:00</td>\n",
       "      <td>480</td>\n",
       "      <td>1320</td>\n",
       "    </tr>\n",
       "    <tr>\n",
       "      <th>101</th>\n",
       "      <td>11950159</td>\n",
       "      <td>['3 tonner Box', '5 tonner Box', '7.5 tonner T...</td>\n",
       "      <td>8:00</td>\n",
       "      <td>22:00</td>\n",
       "      <td>480</td>\n",
       "      <td>1320</td>\n",
       "    </tr>\n",
       "    <tr>\n",
       "      <th>11</th>\n",
       "      <td>11956776</td>\n",
       "      <td>['3 tonner Box', '5 tonner Box', '7.5 tonner T...</td>\n",
       "      <td>8:00</td>\n",
       "      <td>22:00</td>\n",
       "      <td>480</td>\n",
       "      <td>1320</td>\n",
       "    </tr>\n",
       "    <tr>\n",
       "      <th>102</th>\n",
       "      <td>11957296</td>\n",
       "      <td>['3 tonner Box', '5 tonner Box', '7.5 tonner T...</td>\n",
       "      <td>8:00</td>\n",
       "      <td>22:00</td>\n",
       "      <td>480</td>\n",
       "      <td>1320</td>\n",
       "    </tr>\n",
       "    <tr>\n",
       "      <th>50</th>\n",
       "      <td>12219936</td>\n",
       "      <td>['3 tonner Box']</td>\n",
       "      <td>8:00</td>\n",
       "      <td>22:00</td>\n",
       "      <td>480</td>\n",
       "      <td>1320</td>\n",
       "    </tr>\n",
       "    <tr>\n",
       "      <th>129</th>\n",
       "      <td>12231175</td>\n",
       "      <td>['3 tonner Box']</td>\n",
       "      <td>8:00</td>\n",
       "      <td>22:00</td>\n",
       "      <td>480</td>\n",
       "      <td>1320</td>\n",
       "    </tr>\n",
       "    <tr>\n",
       "      <th>14</th>\n",
       "      <td>12474916</td>\n",
       "      <td>['3 tonner Box', '5 tonner Box', '7.5 tonner T...</td>\n",
       "      <td>8:00</td>\n",
       "      <td>22:00</td>\n",
       "      <td>480</td>\n",
       "      <td>1320</td>\n",
       "    </tr>\n",
       "    <tr>\n",
       "      <th>38</th>\n",
       "      <td>12779571</td>\n",
       "      <td>['3 tonner Box', '5 tonner Box', '7.5 tonner T...</td>\n",
       "      <td>8:00</td>\n",
       "      <td>22:00</td>\n",
       "      <td>480</td>\n",
       "      <td>1320</td>\n",
       "    </tr>\n",
       "    <tr>\n",
       "      <th>120</th>\n",
       "      <td>13015040</td>\n",
       "      <td>['3 tonner Box', '5 tonner Box', '7.5 tonner T...</td>\n",
       "      <td>8:00</td>\n",
       "      <td>22:00</td>\n",
       "      <td>480</td>\n",
       "      <td>1320</td>\n",
       "    </tr>\n",
       "    <tr>\n",
       "      <th>276</th>\n",
       "      <td>A123</td>\n",
       "      <td>['3 tonner Box', '5 tonner Box', '7.5 tonner T...</td>\n",
       "      <td>8:00</td>\n",
       "      <td>18:00</td>\n",
       "      <td>480</td>\n",
       "      <td>1080</td>\n",
       "    </tr>\n",
       "  </tbody>\n",
       "</table>\n",
       "</div>"
      ],
      "text/plain": [
       "    location_code                                     trucks_allowed  \\\n",
       "36       10208768  ['3 tonner Box', '5 tonner Box', '7.5 tonner T...   \n",
       "65       10208776  ['3 tonner Box', '5 tonner Box', '7.5 tonner T...   \n",
       "45       10212373                                   ['3 tonner Box']   \n",
       "16       10218045  ['3 tonner Box', '5 tonner Box', '7.5 tonner T...   \n",
       "74       10310757                                   ['3 tonner Box']   \n",
       "12       10364446  ['3 tonner Box', '5 tonner Box', '7.5 tonner T...   \n",
       "55       10366979                                   ['3 tonner Box']   \n",
       "101      11950159  ['3 tonner Box', '5 tonner Box', '7.5 tonner T...   \n",
       "11       11956776  ['3 tonner Box', '5 tonner Box', '7.5 tonner T...   \n",
       "102      11957296  ['3 tonner Box', '5 tonner Box', '7.5 tonner T...   \n",
       "50       12219936                                   ['3 tonner Box']   \n",
       "129      12231175                                   ['3 tonner Box']   \n",
       "14       12474916  ['3 tonner Box', '5 tonner Box', '7.5 tonner T...   \n",
       "38       12779571  ['3 tonner Box', '5 tonner Box', '7.5 tonner T...   \n",
       "120      13015040  ['3 tonner Box', '5 tonner Box', '7.5 tonner T...   \n",
       "276          A123  ['3 tonner Box', '5 tonner Box', '7.5 tonner T...   \n",
       "\n",
       "    location_loading_unloading_window_start  \\\n",
       "36                                     8:00   \n",
       "65                                     8:00   \n",
       "45                                     8:00   \n",
       "16                                     8:00   \n",
       "74                                     8:00   \n",
       "12                                     8:00   \n",
       "55                                     8:00   \n",
       "101                                    8:00   \n",
       "11                                     8:00   \n",
       "102                                    8:00   \n",
       "50                                     8:00   \n",
       "129                                    8:00   \n",
       "14                                     8:00   \n",
       "38                                     8:00   \n",
       "120                                    8:00   \n",
       "276                                    8:00   \n",
       "\n",
       "    location_loading_unloading_window_end  start_minutes  end_minutes  \n",
       "36                                  22:00            480         1320  \n",
       "65                                  22:00            480         1320  \n",
       "45                                  22:00            480         1320  \n",
       "16                                  22:00            480         1320  \n",
       "74                                  22:00            480         1320  \n",
       "12                                  22:00            480         1320  \n",
       "55                                  22:00            480         1320  \n",
       "101                                 22:00            480         1320  \n",
       "11                                  22:00            480         1320  \n",
       "102                                 22:00            480         1320  \n",
       "50                                  22:00            480         1320  \n",
       "129                                 22:00            480         1320  \n",
       "14                                  22:00            480         1320  \n",
       "38                                  22:00            480         1320  \n",
       "120                                 22:00            480         1320  \n",
       "276                                 18:00            480         1080  "
      ]
     },
     "execution_count": 14,
     "metadata": {},
     "output_type": "execute_result"
    }
   ],
   "source": [
    "locations_df2"
   ]
  },
  {
   "cell_type": "code",
   "execution_count": 15,
   "id": "82ae6d0f",
   "metadata": {},
   "outputs": [],
   "source": [
    "cap_df = dict(zip(trucks_df['truck_type'], trucks_df['truck_max_weight']))"
   ]
  },
  {
   "cell_type": "code",
   "execution_count": 16,
   "id": "47ec6027",
   "metadata": {},
   "outputs": [],
   "source": [
    "max_veh_access = []\n",
    "for i in locations_df2.index:\n",
    "    max_veh_access.append(cap_df[eval(locations_df2['trucks_allowed'][i])[-1]])"
   ]
  },
  {
   "cell_type": "code",
   "execution_count": 17,
   "id": "1b48443c",
   "metadata": {},
   "outputs": [],
   "source": [
    "max_veh_access = max_veh_access[len(order_list_df1):] + max_veh_access[:len(order_list_df1)]"
   ]
  },
  {
   "cell_type": "code",
   "execution_count": 18,
   "id": "703dadb3",
   "metadata": {},
   "outputs": [
    {
     "data": {
      "text/plain": [
       "[17000,\n",
       " 7000,\n",
       " 7000,\n",
       " 2800,\n",
       " 9200,\n",
       " 2800,\n",
       " 7000,\n",
       " 2800,\n",
       " 7000,\n",
       " 7000,\n",
       " 7000,\n",
       " 2800,\n",
       " 2800,\n",
       " 17000,\n",
       " 17000,\n",
       " 9200]"
      ]
     },
     "execution_count": 18,
     "metadata": {},
     "output_type": "execute_result"
    }
   ],
   "source": [
    "max_veh_access"
   ]
  },
  {
   "cell_type": "code",
   "execution_count": 19,
   "id": "b364745d",
   "metadata": {},
   "outputs": [],
   "source": [
    "depot = locations_df.sort_values(by = 'location_code').iloc[len(order_list_df1):,:]"
   ]
  },
  {
   "cell_type": "code",
   "execution_count": 20,
   "id": "85fc505c",
   "metadata": {},
   "outputs": [],
   "source": [
    "Nodes = pd.concat([depot,customers], ignore_index = True)"
   ]
  },
  {
   "cell_type": "code",
   "execution_count": 21,
   "id": "97e86c82",
   "metadata": {},
   "outputs": [
    {
     "data": {
      "text/html": [
       "<div>\n",
       "<style scoped>\n",
       "    .dataframe tbody tr th:only-of-type {\n",
       "        vertical-align: middle;\n",
       "    }\n",
       "\n",
       "    .dataframe tbody tr th {\n",
       "        vertical-align: top;\n",
       "    }\n",
       "\n",
       "    .dataframe thead th {\n",
       "        text-align: right;\n",
       "    }\n",
       "</style>\n",
       "<table border=\"1\" class=\"dataframe\">\n",
       "  <thead>\n",
       "    <tr style=\"text-align: right;\">\n",
       "      <th></th>\n",
       "      <th>location_code</th>\n",
       "      <th>trucks_allowed</th>\n",
       "      <th>location_loading_unloading_window_start</th>\n",
       "      <th>location_loading_unloading_window_end</th>\n",
       "      <th>start_minutes</th>\n",
       "      <th>end_minutes</th>\n",
       "    </tr>\n",
       "  </thead>\n",
       "  <tbody>\n",
       "    <tr>\n",
       "      <th>0</th>\n",
       "      <td>A123</td>\n",
       "      <td>['3 tonner Box', '5 tonner Box', '7.5 tonner T...</td>\n",
       "      <td>8:00</td>\n",
       "      <td>18:00</td>\n",
       "      <td>480</td>\n",
       "      <td>1080</td>\n",
       "    </tr>\n",
       "    <tr>\n",
       "      <th>1</th>\n",
       "      <td>10208768</td>\n",
       "      <td>['3 tonner Box', '5 tonner Box', '7.5 tonner T...</td>\n",
       "      <td>8:00</td>\n",
       "      <td>22:00</td>\n",
       "      <td>480</td>\n",
       "      <td>1320</td>\n",
       "    </tr>\n",
       "    <tr>\n",
       "      <th>2</th>\n",
       "      <td>10208776</td>\n",
       "      <td>['3 tonner Box', '5 tonner Box', '7.5 tonner T...</td>\n",
       "      <td>8:00</td>\n",
       "      <td>22:00</td>\n",
       "      <td>480</td>\n",
       "      <td>1320</td>\n",
       "    </tr>\n",
       "    <tr>\n",
       "      <th>3</th>\n",
       "      <td>10212373</td>\n",
       "      <td>['3 tonner Box']</td>\n",
       "      <td>8:00</td>\n",
       "      <td>22:00</td>\n",
       "      <td>480</td>\n",
       "      <td>1320</td>\n",
       "    </tr>\n",
       "    <tr>\n",
       "      <th>4</th>\n",
       "      <td>10218045</td>\n",
       "      <td>['3 tonner Box', '5 tonner Box', '7.5 tonner T...</td>\n",
       "      <td>8:00</td>\n",
       "      <td>22:00</td>\n",
       "      <td>480</td>\n",
       "      <td>1320</td>\n",
       "    </tr>\n",
       "    <tr>\n",
       "      <th>5</th>\n",
       "      <td>10310757</td>\n",
       "      <td>['3 tonner Box']</td>\n",
       "      <td>8:00</td>\n",
       "      <td>22:00</td>\n",
       "      <td>480</td>\n",
       "      <td>1320</td>\n",
       "    </tr>\n",
       "    <tr>\n",
       "      <th>6</th>\n",
       "      <td>10364446</td>\n",
       "      <td>['3 tonner Box', '5 tonner Box', '7.5 tonner T...</td>\n",
       "      <td>8:00</td>\n",
       "      <td>22:00</td>\n",
       "      <td>480</td>\n",
       "      <td>1320</td>\n",
       "    </tr>\n",
       "    <tr>\n",
       "      <th>7</th>\n",
       "      <td>10366979</td>\n",
       "      <td>['3 tonner Box']</td>\n",
       "      <td>8:00</td>\n",
       "      <td>22:00</td>\n",
       "      <td>480</td>\n",
       "      <td>1320</td>\n",
       "    </tr>\n",
       "    <tr>\n",
       "      <th>8</th>\n",
       "      <td>11950159</td>\n",
       "      <td>['3 tonner Box', '5 tonner Box', '7.5 tonner T...</td>\n",
       "      <td>8:00</td>\n",
       "      <td>22:00</td>\n",
       "      <td>480</td>\n",
       "      <td>1320</td>\n",
       "    </tr>\n",
       "    <tr>\n",
       "      <th>9</th>\n",
       "      <td>11956776</td>\n",
       "      <td>['3 tonner Box', '5 tonner Box', '7.5 tonner T...</td>\n",
       "      <td>8:00</td>\n",
       "      <td>22:00</td>\n",
       "      <td>480</td>\n",
       "      <td>1320</td>\n",
       "    </tr>\n",
       "    <tr>\n",
       "      <th>10</th>\n",
       "      <td>11957296</td>\n",
       "      <td>['3 tonner Box', '5 tonner Box', '7.5 tonner T...</td>\n",
       "      <td>8:00</td>\n",
       "      <td>22:00</td>\n",
       "      <td>480</td>\n",
       "      <td>1320</td>\n",
       "    </tr>\n",
       "    <tr>\n",
       "      <th>11</th>\n",
       "      <td>12219936</td>\n",
       "      <td>['3 tonner Box']</td>\n",
       "      <td>8:00</td>\n",
       "      <td>22:00</td>\n",
       "      <td>480</td>\n",
       "      <td>1320</td>\n",
       "    </tr>\n",
       "    <tr>\n",
       "      <th>12</th>\n",
       "      <td>12231175</td>\n",
       "      <td>['3 tonner Box']</td>\n",
       "      <td>8:00</td>\n",
       "      <td>22:00</td>\n",
       "      <td>480</td>\n",
       "      <td>1320</td>\n",
       "    </tr>\n",
       "    <tr>\n",
       "      <th>13</th>\n",
       "      <td>12474916</td>\n",
       "      <td>['3 tonner Box', '5 tonner Box', '7.5 tonner T...</td>\n",
       "      <td>8:00</td>\n",
       "      <td>22:00</td>\n",
       "      <td>480</td>\n",
       "      <td>1320</td>\n",
       "    </tr>\n",
       "    <tr>\n",
       "      <th>14</th>\n",
       "      <td>12779571</td>\n",
       "      <td>['3 tonner Box', '5 tonner Box', '7.5 tonner T...</td>\n",
       "      <td>8:00</td>\n",
       "      <td>22:00</td>\n",
       "      <td>480</td>\n",
       "      <td>1320</td>\n",
       "    </tr>\n",
       "    <tr>\n",
       "      <th>15</th>\n",
       "      <td>13015040</td>\n",
       "      <td>['3 tonner Box', '5 tonner Box', '7.5 tonner T...</td>\n",
       "      <td>8:00</td>\n",
       "      <td>22:00</td>\n",
       "      <td>480</td>\n",
       "      <td>1320</td>\n",
       "    </tr>\n",
       "  </tbody>\n",
       "</table>\n",
       "</div>"
      ],
      "text/plain": [
       "   location_code                                     trucks_allowed  \\\n",
       "0           A123  ['3 tonner Box', '5 tonner Box', '7.5 tonner T...   \n",
       "1       10208768  ['3 tonner Box', '5 tonner Box', '7.5 tonner T...   \n",
       "2       10208776  ['3 tonner Box', '5 tonner Box', '7.5 tonner T...   \n",
       "3       10212373                                   ['3 tonner Box']   \n",
       "4       10218045  ['3 tonner Box', '5 tonner Box', '7.5 tonner T...   \n",
       "5       10310757                                   ['3 tonner Box']   \n",
       "6       10364446  ['3 tonner Box', '5 tonner Box', '7.5 tonner T...   \n",
       "7       10366979                                   ['3 tonner Box']   \n",
       "8       11950159  ['3 tonner Box', '5 tonner Box', '7.5 tonner T...   \n",
       "9       11956776  ['3 tonner Box', '5 tonner Box', '7.5 tonner T...   \n",
       "10      11957296  ['3 tonner Box', '5 tonner Box', '7.5 tonner T...   \n",
       "11      12219936                                   ['3 tonner Box']   \n",
       "12      12231175                                   ['3 tonner Box']   \n",
       "13      12474916  ['3 tonner Box', '5 tonner Box', '7.5 tonner T...   \n",
       "14      12779571  ['3 tonner Box', '5 tonner Box', '7.5 tonner T...   \n",
       "15      13015040  ['3 tonner Box', '5 tonner Box', '7.5 tonner T...   \n",
       "\n",
       "   location_loading_unloading_window_start  \\\n",
       "0                                     8:00   \n",
       "1                                     8:00   \n",
       "2                                     8:00   \n",
       "3                                     8:00   \n",
       "4                                     8:00   \n",
       "5                                     8:00   \n",
       "6                                     8:00   \n",
       "7                                     8:00   \n",
       "8                                     8:00   \n",
       "9                                     8:00   \n",
       "10                                    8:00   \n",
       "11                                    8:00   \n",
       "12                                    8:00   \n",
       "13                                    8:00   \n",
       "14                                    8:00   \n",
       "15                                    8:00   \n",
       "\n",
       "   location_loading_unloading_window_end  start_minutes  end_minutes  \n",
       "0                                  18:00            480         1080  \n",
       "1                                  22:00            480         1320  \n",
       "2                                  22:00            480         1320  \n",
       "3                                  22:00            480         1320  \n",
       "4                                  22:00            480         1320  \n",
       "5                                  22:00            480         1320  \n",
       "6                                  22:00            480         1320  \n",
       "7                                  22:00            480         1320  \n",
       "8                                  22:00            480         1320  \n",
       "9                                  22:00            480         1320  \n",
       "10                                 22:00            480         1320  \n",
       "11                                 22:00            480         1320  \n",
       "12                                 22:00            480         1320  \n",
       "13                                 22:00            480         1320  \n",
       "14                                 22:00            480         1320  \n",
       "15                                 22:00            480         1320  "
      ]
     },
     "execution_count": 21,
     "metadata": {},
     "output_type": "execute_result"
    }
   ],
   "source": [
    "Nodes"
   ]
  },
  {
   "cell_type": "code",
   "execution_count": 22,
   "id": "effaa116",
   "metadata": {},
   "outputs": [],
   "source": [
    "vehicles = [ k for k in range(0,len(Q))]\n",
    "customers = [ i for i in range(1,len(Nodes))]\n",
    "nodes = [ i for i in range(0, len(Nodes))]"
   ]
  },
  {
   "cell_type": "code",
   "execution_count": 23,
   "id": "ded671e2",
   "metadata": {},
   "outputs": [
    {
     "data": {
      "text/plain": [
       "257400"
      ]
     },
     "execution_count": 23,
     "metadata": {},
     "output_type": "execute_result"
    }
   ],
   "source": [
    "sum(Q)"
   ]
  },
  {
   "cell_type": "code",
   "execution_count": 24,
   "id": "0e880a6d",
   "metadata": {},
   "outputs": [],
   "source": [
    "demand = [0] + list(order_list_df1['Total Weight'])"
   ]
  },
  {
   "cell_type": "code",
   "execution_count": 25,
   "id": "4a74806c",
   "metadata": {},
   "outputs": [
    {
     "data": {
      "text/plain": [
       "68918.0"
      ]
     },
     "execution_count": 25,
     "metadata": {},
     "output_type": "execute_result"
    }
   ],
   "source": [
    "sum(demand)"
   ]
  },
  {
   "cell_type": "code",
   "execution_count": 26,
   "id": "95496a1e",
   "metadata": {},
   "outputs": [],
   "source": [
    "start_time = list(Nodes['start_minutes'])\n",
    "finish_time = list(Nodes['end_minutes'])"
   ]
  },
  {
   "cell_type": "code",
   "execution_count": 27,
   "id": "09b3d1a9",
   "metadata": {},
   "outputs": [],
   "source": [
    "# Constants\n",
    "service_time_customer = 20  \n",
    "service_time_depot = 60 "
   ]
  },
  {
   "cell_type": "code",
   "execution_count": 28,
   "id": "ff271426",
   "metadata": {},
   "outputs": [],
   "source": [
    "dest2 = ['A123'] + sorted(dest)"
   ]
  },
  {
   "cell_type": "code",
   "execution_count": 29,
   "id": "fa104246",
   "metadata": {},
   "outputs": [],
   "source": [
    "dest3 = {} \n",
    "for i in range(len(dest2)):\n",
    "    dest3[dest2[i]] = i"
   ]
  },
  {
   "cell_type": "code",
   "execution_count": 30,
   "id": "cce1ac64",
   "metadata": {},
   "outputs": [
    {
     "data": {
      "text/plain": [
       "{'A123': 0,\n",
       " '10208768': 1,\n",
       " '10208776': 2,\n",
       " '10212373': 3,\n",
       " '10218045': 4,\n",
       " '10310757': 5,\n",
       " '10364446': 6,\n",
       " '10366979': 7,\n",
       " '11950159': 8,\n",
       " '11956776': 9,\n",
       " '11957296': 10,\n",
       " '12219936': 11,\n",
       " '12231175': 12,\n",
       " '12474916': 13,\n",
       " '12779571': 14,\n",
       " '13015040': 15}"
      ]
     },
     "execution_count": 30,
     "metadata": {},
     "output_type": "execute_result"
    }
   ],
   "source": [
    "dest3"
   ]
  },
  {
   "cell_type": "code",
   "execution_count": 31,
   "id": "11f356e5",
   "metadata": {},
   "outputs": [],
   "source": [
    "travel_matrix_df = travel_matrix_df[(travel_matrix_df['source_location_code'].isin(dest + ['A123'])) & (travel_matrix_df['destination_location_code'].isin(dest + ['A123']))]"
   ]
  },
  {
   "cell_type": "code",
   "execution_count": 32,
   "id": "c786610e",
   "metadata": {},
   "outputs": [],
   "source": [
    "travel_matrix_df['mapped_source'] = travel_matrix_df['source_location_code'].map(dest3)\n",
    "travel_matrix_df['mapped_destination'] = travel_matrix_df['destination_location_code'].map(dest3)"
   ]
  },
  {
   "cell_type": "code",
   "execution_count": 33,
   "id": "fdc162bb",
   "metadata": {},
   "outputs": [],
   "source": [
    "dist_matrix = {}\n",
    "time_matrix = {}\n",
    "for i in travel_matrix_df.index:\n",
    "    dist_matrix[(travel_matrix_df['mapped_source'][i], travel_matrix_df['mapped_destination'][i])] = travel_matrix_df['travel_distance_in_km'][i]\n",
    "    time_matrix[(travel_matrix_df['mapped_source'][i], travel_matrix_df['mapped_destination'][i])] = travel_matrix_df['travel_time_in_min'][i]"
   ]
  },
  {
   "cell_type": "code",
   "execution_count": 34,
   "id": "0eb1af62",
   "metadata": {},
   "outputs": [
    {
     "data": {
      "text/plain": [
       "[480,\n",
       " 480,\n",
       " 480,\n",
       " 480,\n",
       " 480,\n",
       " 480,\n",
       " 480,\n",
       " 480,\n",
       " 480,\n",
       " 480,\n",
       " 480,\n",
       " 480,\n",
       " 480,\n",
       " 480,\n",
       " 480,\n",
       " 480]"
      ]
     },
     "execution_count": 34,
     "metadata": {},
     "output_type": "execute_result"
    }
   ],
   "source": [
    "start_time"
   ]
  },
  {
   "cell_type": "code",
   "execution_count": 35,
   "id": "f5065221",
   "metadata": {},
   "outputs": [
    {
     "data": {
      "text/plain": [
       "[1080,\n",
       " 1320,\n",
       " 1320,\n",
       " 1320,\n",
       " 1320,\n",
       " 1320,\n",
       " 1320,\n",
       " 1320,\n",
       " 1320,\n",
       " 1320,\n",
       " 1320,\n",
       " 1320,\n",
       " 1320,\n",
       " 1320,\n",
       " 1320,\n",
       " 1320]"
      ]
     },
     "execution_count": 35,
     "metadata": {},
     "output_type": "execute_result"
    }
   ],
   "source": [
    "finish_time"
   ]
  },
  {
   "cell_type": "code",
   "execution_count": 36,
   "id": "8cb9bb1e",
   "metadata": {},
   "outputs": [
    {
     "data": {
      "text/plain": [
       "[0, 1, 2, 3, 4, 5, 6, 7, 8, 9, 10, 11, 12, 13, 14, 15]"
      ]
     },
     "execution_count": 36,
     "metadata": {},
     "output_type": "execute_result"
    }
   ],
   "source": [
    "nodes"
   ]
  },
  {
   "cell_type": "code",
   "execution_count": 37,
   "id": "854f78ce",
   "metadata": {},
   "outputs": [
    {
     "data": {
      "text/plain": [
       "[1, 2, 3, 4, 5, 6, 7, 8, 9, 10, 11, 12, 13, 14, 15]"
      ]
     },
     "execution_count": 37,
     "metadata": {},
     "output_type": "execute_result"
    }
   ],
   "source": [
    "customers"
   ]
  },
  {
   "cell_type": "code",
   "execution_count": 38,
   "id": "13c103c1",
   "metadata": {
    "scrolled": true
   },
   "outputs": [
    {
     "data": {
      "text/plain": [
       "[0,\n",
       " 1,\n",
       " 2,\n",
       " 3,\n",
       " 4,\n",
       " 5,\n",
       " 6,\n",
       " 7,\n",
       " 8,\n",
       " 9,\n",
       " 10,\n",
       " 11,\n",
       " 12,\n",
       " 13,\n",
       " 14,\n",
       " 15,\n",
       " 16,\n",
       " 17,\n",
       " 18,\n",
       " 19,\n",
       " 20,\n",
       " 21,\n",
       " 22,\n",
       " 23,\n",
       " 24,\n",
       " 25,\n",
       " 26,\n",
       " 27,\n",
       " 28,\n",
       " 29,\n",
       " 30,\n",
       " 31,\n",
       " 32,\n",
       " 33,\n",
       " 34,\n",
       " 35,\n",
       " 36]"
      ]
     },
     "execution_count": 38,
     "metadata": {},
     "output_type": "execute_result"
    }
   ],
   "source": [
    "vehicles"
   ]
  },
  {
   "cell_type": "code",
   "execution_count": 39,
   "id": "aeb59173",
   "metadata": {},
   "outputs": [
    {
     "name": "stdout",
     "output_type": "stream",
     "text": [
      "Set parameter Username\n",
      "Academic license - for non-commercial use only - expires 2025-08-10\n"
     ]
    }
   ],
   "source": [
    "#Decision Variable\n",
    "\n",
    "my_model=gp.Model('CVRPTW')\n",
    "\n",
    "xijk=my_model.addVars(nodes, nodes, vehicles, vtype=GRB.BINARY, name='xijk')\n",
    "sik = my_model.addVars(nodes, vehicles, vtype = GRB.CONTINUOUS, name = 'sik',lb = 0)\n",
    "q = my_model.addVars(customers, vehicles, vtype = GRB.CONTINUOUS, name = 'qjk', lb = 0)\n",
    "I = my_model.addVars(vehicles, vtype = GRB.BINARY, name = 'I')"
   ]
  },
  {
   "cell_type": "code",
   "execution_count": 40,
   "id": "28df5eff",
   "metadata": {},
   "outputs": [],
   "source": [
    "#Objective function\n",
    "obj_fn = (gp.quicksum(dist_matrix[i,j]* gp.quicksum(xijk[i,j,k] for k in vehicles) for i in nodes for j in nodes) +\n",
    "          gp.quicksum(I[k] for k in vehicles)\n",
    "         )\n",
    "\n",
    "my_model.setObjective(obj_fn, GRB.MINIMIZE)\n"
   ]
  },
  {
   "cell_type": "code",
   "execution_count": 41,
   "id": "6407698f",
   "metadata": {},
   "outputs": [],
   "source": [
    "#Source to sink constraints\n",
    "my_model.addConstrs(gp.quicksum(xijk[0,j,k] for j in customers)<=1 for k in vehicles);"
   ]
  },
  {
   "cell_type": "code",
   "execution_count": 42,
   "id": "459037af",
   "metadata": {},
   "outputs": [],
   "source": [
    "my_model.addConstrs(gp.quicksum(xijk[i,0,k] for i in customers)<=1 for k in vehicles);"
   ]
  },
  {
   "cell_type": "code",
   "execution_count": 43,
   "id": "f66819b5",
   "metadata": {},
   "outputs": [],
   "source": [
    "# my_model.addConstr(gp.quicksum(xijk[0,j,k] for j in customers for k in vehicles)<=10);"
   ]
  },
  {
   "cell_type": "code",
   "execution_count": 44,
   "id": "5383c6eb",
   "metadata": {},
   "outputs": [],
   "source": [
    "my_model.addConstrs(gp.quicksum(xijk[i,j,k] for i in nodes)- gp.quicksum(xijk[j,i,k] for i in nodes)==0 \n",
    "                    for j in nodes for k in vehicles);"
   ]
  },
  {
   "cell_type": "code",
   "execution_count": 45,
   "id": "509a5636",
   "metadata": {},
   "outputs": [],
   "source": [
    "#capacity constraints\n",
    "my_model.addConstrs(gp.quicksum(q[j,k] for k in vehicles) == demand[j] \n",
    "                    for j in customers); \n",
    "my_model.addConstrs(gp.quicksum(q[j,k] for j in customers) <= Q[k] for k in vehicles);"
   ]
  },
  {
   "cell_type": "code",
   "execution_count": 46,
   "id": "c1cd068c",
   "metadata": {},
   "outputs": [],
   "source": [
    "my_model.addConstrs(q[j,k] <= bigM * gp.quicksum(xijk[i,j,k] for i in nodes) for j in customers for k in vehicles);"
   ]
  },
  {
   "cell_type": "code",
   "execution_count": 47,
   "id": "2c3d9cc0",
   "metadata": {},
   "outputs": [],
   "source": [
    "my_model.addConstrs(sik[i,k] + time_matrix[i,j] + service_time_customer\n",
    "                    - sik[j,k] <= (1-xijk[i,j,k]) *bigM \n",
    "                    for i in customers \n",
    "                    for j in customers for k in vehicles);"
   ]
  },
  {
   "cell_type": "code",
   "execution_count": 48,
   "id": "aac22ea1",
   "metadata": {},
   "outputs": [],
   "source": [
    "my_model.addConstrs(sik[i,k] <= finish_time[i] for i in nodes for k in vehicles)\n",
    "                    \n",
    "my_model.addConstrs(sik[i,k] >= start_time[i] for i in nodes for k in vehicles);                                   "
   ]
  },
  {
   "cell_type": "code",
   "execution_count": 49,
   "id": "41a80526",
   "metadata": {},
   "outputs": [],
   "source": [
    "for i in nodes:\n",
    "    for j in nodes:\n",
    "        for k in vehicles:\n",
    "            if Q[k] <= max_veh_access[j] and Q[k] <= max_veh_access[i]:\n",
    "                my_model.addConstr(xijk[i,j,k] <= 1);\n",
    "            else:\n",
    "                my_model.addConstr(xijk[i,j,k] == 0);"
   ]
  },
  {
   "cell_type": "code",
   "execution_count": 50,
   "id": "6487fdc2",
   "metadata": {},
   "outputs": [],
   "source": [
    "my_model.addConstrs(gp.quicksum(xijk[0,j,k] for j in customers) <= I[k] for k in vehicles);"
   ]
  },
  {
   "cell_type": "code",
   "execution_count": 51,
   "id": "a9456bfa",
   "metadata": {},
   "outputs": [
    {
     "name": "stdout",
     "output_type": "stream",
     "text": [
      "Set parameter MIPGap to value 0.6\n"
     ]
    }
   ],
   "source": [
    "my_model.setParam('MIPGap', 0.6)  "
   ]
  },
  {
   "cell_type": "code",
   "execution_count": 52,
   "id": "82d628fd",
   "metadata": {},
   "outputs": [
    {
     "name": "stdout",
     "output_type": "stream",
     "text": [
      "Gurobi Optimizer version 10.0.1 build v10.0.1rc0 (win64)\n",
      "\n",
      "CPU model: Intel(R) Core(TM) i3-1005G1 CPU @ 1.20GHz, instruction set [SSE2|AVX|AVX2|AVX512]\n",
      "Thread count: 2 physical cores, 4 logical processors, using up to 4 threads\n",
      "\n",
      "Optimize a model with 20291 rows, 11211 columns and 64528 nonzeros\n",
      "Model fingerprint: 0x4b4a8756\n",
      "Variable types: 1702 continuous, 9509 integer (9509 binary)\n",
      "Coefficient statistics:\n",
      "  Matrix range     [1e+00, 1e+06]\n",
      "  Objective range  [1e+00, 2e+02]\n",
      "  Bounds range     [1e+00, 1e+00]\n",
      "  RHS range        [1e+00, 1e+06]\n",
      "Presolve removed 15648 rows and 5991 columns\n",
      "Presolve time: 0.19s\n",
      "Presolved: 4643 rows, 5220 columns, 26254 nonzeros\n",
      "Variable types: 702 continuous, 4518 integer (4518 binary)\n",
      "\n",
      "Root relaxation: objective 3.141000e+02, 845 iterations, 0.08 seconds (0.02 work units)\n",
      "\n",
      "    Nodes    |    Current Node    |     Objective Bounds      |     Work\n",
      " Expl Unexpl |  Obj  Depth IntInf | Incumbent    BestBd   Gap | It/Node Time\n",
      "\n",
      "     0     0  314.10005    0   38          -  314.10005      -     -    0s\n",
      "     0     0  314.10005    0   48          -  314.10005      -     -    0s\n",
      "H    0     0                    2171.5500000  314.10005  85.5%     -    0s\n",
      "H    0     0                    1740.1600000  314.10005  81.9%     -    0s\n",
      "     0     0  314.10005    0   50 1740.16000  314.10005  81.9%     -    0s\n",
      "     0     0  315.79735    0   38 1740.16000  315.79735  81.9%     -    1s\n",
      "H    0     0                    1524.7700000  315.79735  79.3%     -    1s\n",
      "     0     0  317.34125    0   48 1524.77000  317.34125  79.2%     -    1s\n",
      "     0     0  317.34125    0   50 1524.77000  317.34125  79.2%     -    1s\n",
      "     0     0  327.60879    0   47 1524.77000  327.60879  78.5%     -    1s\n",
      "     0     0  327.60879    0   56 1524.77000  327.60879  78.5%     -    1s\n",
      "     0     0  328.20452    0   49 1524.77000  328.20452  78.5%     -    1s\n",
      "     0     0  333.39679    0   55 1524.77000  333.39679  78.1%     -    2s\n",
      "     0     0  333.39679    0   57 1524.77000  333.39679  78.1%     -    2s\n",
      "     0     0  364.34377    0   55 1524.77000  364.34377  76.1%     -    2s\n",
      "     0     0  364.34377    0   56 1524.77000  364.34377  76.1%     -    2s\n",
      "     0     0  366.38879    0   78 1524.77000  366.38879  76.0%     -    2s\n",
      "H    0     0                    1374.5900000  366.38879  73.3%     -    3s\n",
      "     0     0  366.38879    0   74 1374.59000  366.38879  73.3%     -    3s\n",
      "     0     0  373.53773    0   79 1374.59000  373.53773  72.8%     -    3s\n",
      "     0     0  374.55980    0   82 1374.59000  374.55980  72.8%     -    3s\n",
      "     0     0  374.79316    0   82 1374.59000  374.79316  72.7%     -    3s\n",
      "     0     0  374.79316    0   82 1374.59000  374.79316  72.7%     -    3s\n",
      "     0     0  381.53363    0   86 1374.59000  381.53363  72.2%     -    3s\n",
      "     0     0  381.55896    0   82 1374.59000  381.55896  72.2%     -    4s\n",
      "     0     0  382.51670    0  117 1374.59000  382.51670  72.2%     -    4s\n",
      "H    0     0                    1369.5400000  382.51670  72.1%     -    4s\n",
      "     0     0  382.51670    0  100 1369.54000  382.51670  72.1%     -    4s\n",
      "     0     0  382.51670    0   98 1369.54000  382.51670  72.1%     -    4s\n",
      "     0     0  382.51670    0   93 1369.54000  382.51670  72.1%     -    4s\n",
      "     0     0  382.57844    0   95 1369.54000  382.57844  72.1%     -    5s\n",
      "     0     0  382.57844    0   95 1369.54000  382.57844  72.1%     -    5s\n",
      "H    0     0                    1368.3800000  382.57844  72.0%     -    5s\n",
      "     0     2  382.57844    0   95 1368.38000  382.57844  72.0%     -    5s\n",
      "H   29    31                    1283.0800000  405.50690  68.4%  41.3    8s\n",
      "H   57    58                    1282.5000000  417.17263  67.5%  34.2   10s\n",
      "H   58    58                    1274.6800000  417.17263  67.3%  33.7   10s\n",
      "H   85    89                    1274.1000000  417.17263  67.3%  32.9   11s\n",
      "H  127   123                    1259.2600000  417.17263  66.9%  37.3   14s\n",
      "   150   156  636.11355   65   67 1259.26000  417.17263  66.9%  35.5   15s\n",
      "H  162   156                    1143.2000000  417.17263  63.5%  33.7   15s\n",
      "H  192   171                    1114.1100000  417.17263  62.6%  31.1   15s\n",
      "H  219   191                    1113.0400000  417.17263  62.5%  34.4   17s\n",
      "H  247   221                    1112.7200000  417.17263  62.5%  53.1   20s\n",
      "H  249   221                    1111.9700000  417.17263  62.5%  53.6   20s\n",
      "H  250   221                    1103.7400000  417.17263  62.2%  54.0   20s\n",
      "H  252   221                    1039.5400000  417.17263  59.9%  55.4   20s\n",
      "\n",
      "Cutting planes:\n",
      "  Learned: 1\n",
      "  Gomory: 22\n",
      "  Lift-and-project: 3\n",
      "  Implied bound: 203\n",
      "  MIR: 114\n",
      "  RLT: 291\n",
      "  Relax-and-lift: 6\n",
      "\n",
      "Explored 253 nodes (19169 simplex iterations) in 20.44 seconds (7.11 work units)\n",
      "Thread count was 4 (of 4 available processors)\n",
      "\n",
      "Solution count 10: 1039.54 1103.74 1111.97 ... 1274.68\n",
      "\n",
      "Optimal solution found (tolerance 6.00e-01)\n",
      "Best objective 1.039540000000e+03, best bound 4.171800000000e+02, gap 59.8688%\n"
     ]
    }
   ],
   "source": [
    "my_model.optimize()"
   ]
  },
  {
   "cell_type": "code",
   "execution_count": 53,
   "id": "e54fb55d",
   "metadata": {
    "scrolled": true
   },
   "outputs": [
    {
     "name": "stdout",
     "output_type": "stream",
     "text": [
      "Non-zero values of x:\n",
      "x_0_4_11 = 1.0\n",
      "x_0_4_12 = 1.0\n",
      "x_0_4_18 = 1.0\n",
      "x_0_4_23 = 1.0\n",
      "x_0_4_24 = 1.0\n",
      "x_0_4_25 = 1.0\n",
      "x_0_4_26 = 1.0\n",
      "x_0_4_27 = 1.0\n",
      "x_0_7_5 = 1.0\n",
      "x_0_8_22 = 1.0\n",
      "x_0_14_30 = 1.0\n",
      "x_1_6_11 = 1.0\n",
      "x_1_9_22 = 1.0\n",
      "x_1_9_26 = 1.0\n",
      "x_2_0_24 = 1.0\n",
      "x_2_0_26 = 1.0\n",
      "x_2_4_22 = 1.0\n",
      "x_2_11_5 = 1.0\n",
      "x_3_0_5 = 1.0\n",
      "x_4_0_22 = 1.0\n",
      "x_4_1_11 = 1.0\n",
      "x_4_6_12 = 1.0\n",
      "x_4_6_18 = 1.0\n",
      "x_4_6_23 = 1.0\n",
      "x_4_6_24 = 1.0\n",
      "x_4_6_25 = 1.0\n",
      "x_4_8_26 = 1.0\n",
      "x_4_14_27 = 1.0\n",
      "x_5_3_5 = 1.0\n",
      "x_6_0_11 = 1.0\n",
      "x_6_0_12 = 1.0\n",
      "x_6_0_18 = 1.0\n",
      "x_6_1_22 = 1.0\n",
      "x_6_1_26 = 1.0\n",
      "x_6_8_25 = 1.0\n",
      "x_6_9_24 = 1.0\n",
      "x_6_10_23 = 1.0\n",
      "x_7_12_5 = 1.0\n",
      "x_8_0_23 = 1.0\n",
      "x_8_0_25 = 1.0\n",
      "x_8_6_22 = 1.0\n",
      "x_8_6_26 = 1.0\n",
      "x_9_2_22 = 1.0\n",
      "x_9_2_24 = 1.0\n",
      "x_9_13_26 = 1.0\n",
      "x_10_8_23 = 1.0\n",
      "x_11_5_5 = 1.0\n",
      "x_12_2_5 = 1.0\n",
      "x_13_2_26 = 1.0\n",
      "x_13_15_30 = 1.0\n",
      "x_14_0_27 = 1.0\n",
      "x_14_13_30 = 1.0\n",
      "x_15_0_30 = 1.0\n"
     ]
    }
   ],
   "source": [
    "# Create a new dictionary to store non-zero values\n",
    "non_zero_xijk = {}\n",
    "\n",
    "# Iterate over all keys and values in xijk\n",
    "for (i, j, k), value in xijk.items():\n",
    "    # Check if the value is a Gurobi variable\n",
    "    if hasattr(value, \"X\"):  # If it's a Gurobi variable, use .X to get the optimized value\n",
    "        if value.X > 0.5:  # Filter for non-zero values\n",
    "            non_zero_xijk[(i, j, k)] = value.X\n",
    "    else:  # Otherwise, assume it's a numeric value\n",
    "        if value > 0.5:  # Filter for non-zero values\n",
    "            non_zero_xijk[(i, j, k)] = value\n",
    "\n",
    "# Print the non-zero values\n",
    "print(\"Non-zero values of x:\")\n",
    "for (i, j, k), value in non_zero_xijk.items():\n",
    "    print(f\"x_{i}_{j}_{k} = {value}\")\n"
   ]
  },
  {
   "cell_type": "code",
   "execution_count": 54,
   "id": "47507b98",
   "metadata": {},
   "outputs": [
    {
     "name": "stdout",
     "output_type": "stream",
     "text": [
      "Vehicle 11 Route: [(0, 4), (1, 6), (4, 1), (6, 0)]\n",
      "Vehicle 12 Route: [(0, 4), (4, 6), (6, 0)]\n",
      "Vehicle 18 Route: [(0, 4), (4, 6), (6, 0)]\n",
      "Vehicle 23 Route: [(0, 4), (4, 6), (6, 10), (8, 0), (10, 8)]\n",
      "Vehicle 24 Route: [(0, 4), (2, 0), (4, 6), (6, 9), (9, 2)]\n",
      "Vehicle 25 Route: [(0, 4), (4, 6), (6, 8), (8, 0)]\n",
      "Vehicle 26 Route: [(0, 4), (1, 9), (2, 0), (4, 8), (6, 1), (8, 6), (9, 13), (13, 2)]\n",
      "Vehicle 27 Route: [(0, 4), (4, 14), (14, 0)]\n",
      "Vehicle 5 Route: [(0, 7), (2, 11), (3, 0), (5, 3), (7, 12), (11, 5), (12, 2)]\n",
      "Vehicle 22 Route: [(0, 8), (1, 9), (2, 4), (4, 0), (6, 1), (8, 6), (9, 2)]\n",
      "Vehicle 30 Route: [(0, 14), (13, 15), (14, 13), (15, 0)]\n"
     ]
    }
   ],
   "source": [
    "# Create a dictionary to store routes for each vehicle\n",
    "vehicle_routes = {}\n",
    "\n",
    "# Iterate over the non_zero_xijk dictionary to create routes\n",
    "for (i, j, k), value in non_zero_xijk.items():\n",
    "    if value == 1.0:\n",
    "        if k not in vehicle_routes:\n",
    "            vehicle_routes[k] = []  # Create a list for each vehicle if not already created\n",
    "        vehicle_routes[k].append((i, j))\n",
    "\n",
    "# Display the routes for each vehicle\n",
    "for vehicle, route in vehicle_routes.items():\n",
    "    print(f\"Vehicle {vehicle} Route: {route}\")"
   ]
  },
  {
   "cell_type": "code",
   "execution_count": 55,
   "id": "3cce2fd7",
   "metadata": {},
   "outputs": [
    {
     "data": {
      "text/plain": [
       "[17000,\n",
       " 7000,\n",
       " 7000,\n",
       " 2800,\n",
       " 9200,\n",
       " 2800,\n",
       " 7000,\n",
       " 2800,\n",
       " 7000,\n",
       " 7000,\n",
       " 7000,\n",
       " 2800,\n",
       " 2800,\n",
       " 17000,\n",
       " 17000,\n",
       " 9200]"
      ]
     },
     "execution_count": 55,
     "metadata": {},
     "output_type": "execute_result"
    }
   ],
   "source": [
    "max_veh_access"
   ]
  },
  {
   "cell_type": "code",
   "execution_count": 56,
   "id": "91376fee",
   "metadata": {},
   "outputs": [
    {
     "data": {
      "text/plain": [
       "{(1, 11): 746.0,\n",
       " (2, 5): 611.0,\n",
       " (3, 5): 209.0,\n",
       " (4, 11): 1122.0,\n",
       " (4, 27): 5527.0,\n",
       " (5, 5): 310.0,\n",
       " (6, 11): 2832.0,\n",
       " (6, 12): 4700.0,\n",
       " (6, 18): 7000.0,\n",
       " (6, 25): 5468.0,\n",
       " (7, 5): 304.0,\n",
       " (8, 25): 1532.0,\n",
       " (9, 22): 7000.0,\n",
       " (9, 24): 7000.0,\n",
       " (9, 26): 2000.0,\n",
       " (10, 23): 7000.0,\n",
       " (11, 5): 311.0,\n",
       " (12, 5): 84.0,\n",
       " (13, 26): 5000.0,\n",
       " (13, 30): 8688.0,\n",
       " (14, 27): 1254.0,\n",
       " (15, 30): 220.0}"
      ]
     },
     "execution_count": 56,
     "metadata": {},
     "output_type": "execute_result"
    }
   ],
   "source": [
    "non_zero_q = {(i,k):q[i,k].X for i in customers for k in vehicles if q[i,k].X > 0.1}\n",
    "non_zero_q"
   ]
  },
  {
   "cell_type": "code",
   "execution_count": 57,
   "id": "8238bdef",
   "metadata": {},
   "outputs": [
    {
     "data": {
      "text/plain": [
       "[0,\n",
       " 746.0,\n",
       " 611.0,\n",
       " 209.0,\n",
       " 6649.0,\n",
       " 310.0,\n",
       " 20000.0,\n",
       " 304.0,\n",
       " 1532.0,\n",
       " 16000.0,\n",
       " 7000.0,\n",
       " 311.0,\n",
       " 84.0,\n",
       " 13688.0,\n",
       " 1254.0,\n",
       " 220.0]"
      ]
     },
     "execution_count": 57,
     "metadata": {},
     "output_type": "execute_result"
    }
   ],
   "source": [
    "demand"
   ]
  },
  {
   "cell_type": "code",
   "execution_count": 58,
   "id": "2bc494c3",
   "metadata": {},
   "outputs": [
    {
     "data": {
      "text/plain": [
       "{0: <gurobi.Var I[0] (value -0.0)>,\n",
       " 1: <gurobi.Var I[1] (value -0.0)>,\n",
       " 2: <gurobi.Var I[2] (value -0.0)>,\n",
       " 3: <gurobi.Var I[3] (value -0.0)>,\n",
       " 4: <gurobi.Var I[4] (value -0.0)>,\n",
       " 5: <gurobi.Var I[5] (value 1.0)>,\n",
       " 6: <gurobi.Var I[6] (value -0.0)>,\n",
       " 7: <gurobi.Var I[7] (value -0.0)>,\n",
       " 8: <gurobi.Var I[8] (value -0.0)>,\n",
       " 9: <gurobi.Var I[9] (value 0.0)>,\n",
       " 10: <gurobi.Var I[10] (value -0.0)>,\n",
       " 11: <gurobi.Var I[11] (value 1.0)>,\n",
       " 12: <gurobi.Var I[12] (value 1.0)>,\n",
       " 13: <gurobi.Var I[13] (value -0.0)>,\n",
       " 14: <gurobi.Var I[14] (value -0.0)>,\n",
       " 15: <gurobi.Var I[15] (value -0.0)>,\n",
       " 16: <gurobi.Var I[16] (value -0.0)>,\n",
       " 17: <gurobi.Var I[17] (value -0.0)>,\n",
       " 18: <gurobi.Var I[18] (value 1.0)>,\n",
       " 19: <gurobi.Var I[19] (value 0.0)>,\n",
       " 20: <gurobi.Var I[20] (value -0.0)>,\n",
       " 21: <gurobi.Var I[21] (value -0.0)>,\n",
       " 22: <gurobi.Var I[22] (value 1.0)>,\n",
       " 23: <gurobi.Var I[23] (value 1.0)>,\n",
       " 24: <gurobi.Var I[24] (value 1.0)>,\n",
       " 25: <gurobi.Var I[25] (value 1.0)>,\n",
       " 26: <gurobi.Var I[26] (value 1.0)>,\n",
       " 27: <gurobi.Var I[27] (value 1.0)>,\n",
       " 28: <gurobi.Var I[28] (value -0.0)>,\n",
       " 29: <gurobi.Var I[29] (value -0.0)>,\n",
       " 30: <gurobi.Var I[30] (value 1.0)>,\n",
       " 31: <gurobi.Var I[31] (value -0.0)>,\n",
       " 32: <gurobi.Var I[32] (value -0.0)>,\n",
       " 33: <gurobi.Var I[33] (value -0.0)>,\n",
       " 34: <gurobi.Var I[34] (value -0.0)>,\n",
       " 35: <gurobi.Var I[35] (value -0.0)>,\n",
       " 36: <gurobi.Var I[36] (value -0.0)>}"
      ]
     },
     "execution_count": 58,
     "metadata": {},
     "output_type": "execute_result"
    }
   ],
   "source": [
    "I"
   ]
  },
  {
   "cell_type": "code",
   "execution_count": 59,
   "id": "ada3ef6c",
   "metadata": {},
   "outputs": [],
   "source": [
    "#use dest3 for reverse mapping into location codes from index"
   ]
  },
  {
   "cell_type": "code",
   "execution_count": null,
   "id": "b08ea14b",
   "metadata": {},
   "outputs": [],
   "source": []
  }
 ],
 "metadata": {
  "kernelspec": {
   "display_name": "Python 3 (ipykernel)",
   "language": "python",
   "name": "python3"
  },
  "language_info": {
   "codemirror_mode": {
    "name": "ipython",
    "version": 3
   },
   "file_extension": ".py",
   "mimetype": "text/x-python",
   "name": "python",
   "nbconvert_exporter": "python",
   "pygments_lexer": "ipython3",
   "version": "3.9.13"
  }
 },
 "nbformat": 4,
 "nbformat_minor": 5
}
